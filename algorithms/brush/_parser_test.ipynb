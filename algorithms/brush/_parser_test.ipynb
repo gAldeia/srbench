{
 "cells": [
  {
   "cell_type": "code",
   "execution_count": 1,
   "metadata": {},
   "outputs": [],
   "source": [
    "import re"
   ]
  },
  {
   "cell_type": "code",
   "execution_count": 4,
   "metadata": {},
   "outputs": [],
   "source": [
    "func_dict = {\n",
    "    'Mul': '*',\n",
    "    'Sub': '-',\n",
    "    'Add': '+',\n",
    "    'Div': '/',\n",
    "    'Pow': '**',\n",
    "}\n",
    "\n",
    "func_arity = {\n",
    "    # These can have multiple arguments\n",
    "    'Mul': 2,\n",
    "    'Sub': 2,\n",
    "    'Div': 2,\n",
    "    'Add': 2,\n",
    "\n",
    "    'Pow': 2,\n",
    "    \n",
    "    'Sin' : 1,\n",
    "    'Cos' : 1,\n",
    "\n",
    "    'Asin' : 1,\n",
    "    'Acos' : 1,\n",
    "    \n",
    "    'Sqrt' : 1,\n",
    "    \n",
    "    'Log'     : 1,\n",
    "    'Exp'     : 1,\n",
    "    \n",
    "    'Square'  : 1,\n",
    "}"
   ]
  },
  {
   "cell_type": "code",
   "execution_count": 61,
   "metadata": {},
   "outputs": [],
   "source": [
    "def pretify_expr(string, feature_names):\n",
    "    # Breaking down into a list of symbols\n",
    "    ind = string.replace(' ', '').replace(')', '').replace('(', ',').split(',')\n",
    "\n",
    "    if len(ind) == 1 and len(ind[0]) == 0: # only one empty string\n",
    "        return ind[0]\n",
    "\n",
    "    new_string = \"\"\n",
    "    stack = []\n",
    "    for node in ind:\n",
    "        stack.append((node, []))\n",
    "        while len(stack[-1][1]) == func_arity.get(stack[-1][0], 0):\n",
    "\n",
    "            prim, args = stack.pop()\n",
    "            new_string = prim\n",
    "            if prim in func_dict.keys(): # converting prefix to infix notation\n",
    "                new_string = '(' + func_dict[prim].join(args) + ')'\n",
    "            elif \"*\" in prim: # node weights already are in infix notation. handling it\n",
    "                l, r = prim.split(\"*\")\n",
    "                stack.append( (\"Mul\", [l]) )\n",
    "                stack.append( (r, []) )\n",
    "                continue\n",
    "            elif prim not in feature_names:\n",
    "                try:\n",
    "                    float(prim)\n",
    "                except:\n",
    "                    new_string = prim.lower() + '(' + args[0] + ')'\n",
    "                \n",
    "            if len(stack) == 0:\n",
    "                break\n",
    "\n",
    "            stack[-1][1].append(new_string)\n",
    "\n",
    "    return new_string"
   ]
  },
  {
   "cell_type": "code",
   "execution_count": 62,
   "metadata": {},
   "outputs": [
    {
     "name": "stdout",
     "output_type": "stream",
     "text": [
      "Add(Sqrt(1.03*Cos(0.96*Sub(x_0,x_1))),0.89*x_0)\n",
      "(sqrt((1.03*cos((0.96*(x_0-x_1)))))+(0.89*x_0))\n"
     ]
    }
   ],
   "source": [
    "model_str = \"Add(Sqrt(1.03*Cos(0.96*Sub(x_0,x_1))),0.89*x_0)\"\n",
    "\n",
    "print(model_str)\n",
    "\n",
    "feature_names = [f\"x_{i}\" for i in range(10)]\n",
    "pretty_model_str = pretify_expr(model_str, feature_names=feature_names)\n",
    "\n",
    "print(pretty_model_str)"
   ]
  },
  {
   "cell_type": "code",
   "execution_count": null,
   "metadata": {},
   "outputs": [],
   "source": []
  }
 ],
 "metadata": {
  "kernelspec": {
   "display_name": "srbench-brush",
   "language": "python",
   "name": "python3"
  },
  "language_info": {
   "codemirror_mode": {
    "name": "ipython",
    "version": 3
   },
   "file_extension": ".py",
   "mimetype": "text/x-python",
   "name": "python",
   "nbconvert_exporter": "python",
   "pygments_lexer": "ipython3",
   "version": "3.9.13"
  }
 },
 "nbformat": 4,
 "nbformat_minor": 2
}
