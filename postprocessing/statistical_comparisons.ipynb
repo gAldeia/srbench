{
 "cells": [
  {
   "cell_type": "markdown",
   "metadata": {},
   "source": [
    "# statistical comparisons\n",
    "\n",
    "Notebook to run post-hoc pairwise statistical comparisons between methods on the ground-truth and black-box regression problems."
   ]
  },
  {
   "cell_type": "code",
   "execution_count": null,
   "metadata": {},
   "outputs": [],
   "source": [
    "from scipy.stats import wilcoxon \n",
    "import pandas as pd\n",
    "import itertools as it\n",
    "import os\n",
    "import seaborn as sns\n",
    "sns.set(font_scale=1.5, style='white')\n",
    "\n",
    "figdir = 'figs/stats/'\n",
    "rdir = '../results/'\n",
    "\n",
    "print('figdir:',figdir)\n",
    "def save(h=None,name='tmp'):\n",
    "    name = name.strip().replace(' ','-').replace('%','pct')\n",
    "    if h == None:\n",
    "        h = plt.gcf()\n",
    "    h.tight_layout()\n",
    "    print('saving',figdir+'/'+name+'.png')\n",
    "    if not os.path.exists(figdir):\n",
    "        os.makedirs(figdir)\n",
    "    plt.savefig(figdir+'/'+name+'.png', bbox_inches='tight')"
   ]
  },
  {
   "cell_type": "code",
   "execution_count": null,
   "metadata": {},
   "outputs": [],
   "source": [
    "import pdb\n",
    "import numpy as np\n",
    "\n",
    "def pairwise_pval(df, metric, alg1, alg2):\n",
    "    df = df.loc[df.algorithm.isin([alg1, alg2]),:].copy()\n",
    "    x = df.loc[df.algorithm==alg1, metric].values \n",
    "    y = df.loc[df.algorithm==alg2, metric].values \n",
    "    eff_size = np.abs(np.nanmedian(x)/np.nanmedian(y))\n",
    "    if metric.endswith('norm'):\n",
    "        rmetric = metric.replace('norm','rank')\n",
    "    else:\n",
    "        rmetric = metric+'_rank'\n",
    "    if rmetric not in df.columns:\n",
    "        rmetric = metric\n",
    "        \n",
    "    x_rank = df.loc[df.algorithm==alg1, rmetric].values \n",
    "    y_rank = df.loc[df.algorithm==alg2, rmetric].values \n",
    "#     pdb.set_trace()\n",
    "    if len(x) != len(y):\n",
    "        print(alg1, len(x))\n",
    "        print(alg2, len(y))\n",
    "    assert len(x) == len(y)\n",
    "#     w, p = mannwhitneyu(x, y)\n",
    "    if all(y==0) and all(x==0):\n",
    "        return 1, 1\n",
    "    \n",
    "    w, p = wilcoxon(x, y)\n",
    "    return p, eff_size\n",
    "\n",
    "#     return pstr, eff_size_str\n",
    "\n",
    "def signif(pval, alpha, eff):\n",
    "    pstr = '{:1.2g}'.format(pval)\n",
    "    eff_size_str = '{:1.1f}X'.format(eff)\n",
    "    if pval == '-': return pval\n",
    "    if float(pval) < alpha:\n",
    "        return 'textbf{'+pstr+'}', 'textbf{'+eff_size_str+'}'\n",
    "#         return pval+'*'\n",
    "    else:\n",
    "        return pstr, eff_size_str\n",
    "    \n",
    "def get_pval_df(df, metric, all_algs):\n",
    "    df = df.copy()\n",
    "    n=0\n",
    "    pvals = []\n",
    "    for alg1, alg2 in it.combinations(all_algs, 2):\n",
    "        pval, eff_size = pairwise_pval(df, metric, alg1, alg2)\n",
    "        pvals.append(dict(\n",
    "            alg1 = alg1,\n",
    "            alg2 = alg2,\n",
    "            eff_size = eff_size,\n",
    "            pval = pval\n",
    "        ))\n",
    "        n += 1\n",
    "    c_alpha = alpha/n\n",
    "\n",
    "\n",
    "    print('n:',n,'c_alpha:',c_alpha) \n",
    "    df_pvals = pd.DataFrame.from_records(pvals)\n",
    "    # df_pvals['pval_thresh'] = pd.cut(x=df_pvals['pval'], bins = [0, c_alpha, 1])\n",
    "    df_pvals['pval_thresh'] = df_pvals['pval'].apply(lambda x: bin_pval(x, c_alpha))\n",
    "\n",
    "    # significance\n",
    "    df_pvals.loc[:,'pval_bold'] = df_pvals.apply(lambda x: signif(x['pval'], \n",
    "                                                                      c_alpha,\n",
    "                                                                      x['eff_size'])[0],\n",
    "                                                     axis=1\n",
    "                                                    )\n",
    "    df_pvals.loc[:,'eff_size_bold'] = df_pvals.apply(lambda x: signif(x['pval'], \n",
    "                                                                      c_alpha,\n",
    "                                                                      x['eff_size'])[1],\n",
    "                                                     axis=1\n",
    "                                                    )\n",
    "    return df_pvals, c_alpha"
   ]
  },
  {
   "cell_type": "code",
   "execution_count": null,
   "metadata": {},
   "outputs": [],
   "source": [
    "import seaborn as sns\n",
    "import matplotlib.pyplot as plt\n",
    "%matplotlib inline\n",
    "from matplotlib.colors import LogNorm\n",
    "\n",
    "def bin_pval(x, c_alpha):\n",
    "\n",
    "    for stars,level in zip([4,3,2,1],[1e-3, 1e-2, 1e-1, 1]):\n",
    "        if x < level*c_alpha: \n",
    "            return stars #level #*c_alpha\n",
    "    return 0\n",
    "\n",
    "def pval_heatmap(df, metric, problem, algs):\n",
    "    df = df.copy()\n",
    "    n = 0 \n",
    "    pvals = []\n",
    "\n",
    "    df_pvals, c_alpha = get_pval_df(df, metric, algs)\n",
    "    \n",
    "    #                                                  pd.cut(x=df_pvals['pval'], bins = [0, c_alpha, 1])\n",
    "    tbl = df_pvals.set_index(['alg1','alg2'])['pval_thresh'].unstack().transpose() #.fillna('-')\n",
    "\n",
    "    mask = np.zeros_like(tbl, dtype=np.bool)\n",
    "    mask[np.triu_indices_from(mask,k=1)] = True\n",
    "\n",
    "    h = plt.figure(figsize=(10,10))\n",
    "\n",
    "    cmap = sns.color_palette('flare',n_colors=5)\n",
    "    cmap[0] = [.9, .9, .9]\n",
    "    ax = sns.heatmap(tbl, \n",
    "                linewidth=0.25,\n",
    "                mask=mask,\n",
    "                square=True,\n",
    "                cbar_kws=dict(\n",
    "                              ticks = [0.4, 1.2, 2.0, 2.8, 3.6],\n",
    "                              shrink=0.6,\n",
    "                ),\n",
    "                cmap=cmap,\n",
    "\n",
    "               )\n",
    "    cax = h.axes[-1]\n",
    "    cbar_labels = [\n",
    "                   'no significance',\n",
    "                   '$p<\\\\alpha$',\n",
    "                   '$p<$1e-1$\\cdot \\\\alpha$',\n",
    "                   '$p<$1e-2$\\cdot \\\\alpha$',\n",
    "                   '$p<$1e-3$\\cdot \\\\alpha$',\n",
    "                  ]\n",
    "    cax.set_yticklabels(cbar_labels)\n",
    "    nice_metric = metric.replace('%','pct').replace('_',' ').replace('R2','$$R^2$$').title()\n",
    "    plt.title(('Wilcoxon signed-rank test, '\n",
    "              +nice_metric\n",
    "              +', $\\\\alpha =$ {:1.1e}').format(c_alpha)\n",
    "             )\n",
    "    plt.xlabel('')\n",
    "    plt.ylabel('')\n",
    "    savename = ('Pairwise comparison of '\n",
    "              +nice_metric\n",
    "              +' on '\n",
    "              +problem).replace(' ','_')\n",
    "    save(h, savename)"
   ]
  },
  {
   "cell_type": "markdown",
   "metadata": {},
   "source": [
    "# symbolic datasets"
   ]
  },
  {
   "cell_type": "markdown",
   "metadata": {},
   "source": [
    "## load data and fill nan results"
   ]
  },
  {
   "cell_type": "code",
   "execution_count": null,
   "metadata": {},
   "outputs": [],
   "source": [
    "df_sum = pd.read_csv(rdir+'/symbolic_dataset_results_sum.csv.gz')\n",
    "algs = df_sum.algorithm.unique()\n",
    "datasets = df_sum.dataset.unique()\n",
    "noises = df_sum.target_noise.unique()\n",
    "\n",
    "df_sum\n",
    "cols = df_sum.columns\n",
    "for col in [c for c in cols if 'rank' in c]:\n",
    "    df_sum.loc[:,col] = df_sum[col].fillna(len(algs)+1)\n",
    "for col in [c for c in cols if 'solution_rate' in c]:\n",
    "    df_sum.loc[:,col] = df_sum[col].fillna(0.0)"
   ]
  },
  {
   "cell_type": "code",
   "execution_count": null,
   "metadata": {},
   "outputs": [],
   "source": [
    "cols = df_sum.columns\n",
    "filler_frame = {\n",
    "    'r2_test' : 0.0,\n",
    "    'solution_rate_(%)' : 0.0,\n",
    "}\n",
    "fill_frames = []\n",
    "\n",
    "for dataset in datasets:\n",
    "    for noise in noises:\n",
    "        for alg in algs:\n",
    "            df = df_sum.loc[df_sum.dataset == dataset].loc[df_sum.target_noise==noise]\n",
    "            if alg not in df.algorithm.unique():\n",
    "                new_fill = filler_frame.copy()\n",
    "                new_fill.update({\n",
    "                                 'algorithm':alg,\n",
    "                                 'dataset':dataset,\n",
    "                                 'target_noise':noise\n",
    "                                })\n",
    "                fill_frames.append(new_fill)\n",
    "df_fill = pd.DataFrame.from_records(fill_frames, columns=fill_frames[0].keys()) \n",
    "df_sum_filled = df_sum.append(df_fill)\n"
   ]
  },
  {
   "cell_type": "markdown",
   "metadata": {},
   "source": [
    "## generate tables"
   ]
  },
  {
   "cell_type": "code",
   "execution_count": null,
   "metadata": {},
   "outputs": [],
   "source": [
    "alpha = 0.05\n",
    "SR_pvals = {}\n",
    "\n",
    "for metric in ['r2_test','symbolic_solution_rate','simplified_complexity']:\n",
    "    for target_noise, dfg in df_sum_filled.groupby('target_noise'):\n",
    "        print(metric, 'noise=',target_noise)\n",
    "        df_pvals, c_alpha = get_pval_df(df_sum_filled, metric, algs) \n",
    "\n",
    "        pval_tbl = df_pvals.set_index(['alg1','alg2'])['pval_bold'].unstack().fillna('-')\n",
    "        disp_tbl = df_pvals.set_index(['alg1','alg2'])['pval'].unstack().fillna('-')\n",
    "        SR_pvals[metric] = {target_noise:disp_tbl}\n",
    "        display(disp_tbl)\n",
    "\n",
    "        pval_tbl"
   ]
  },
  {
   "cell_type": "markdown",
   "metadata": {},
   "source": [
    "## generate heatmaps"
   ]
  },
  {
   "cell_type": "code",
   "execution_count": null,
   "metadata": {},
   "outputs": [],
   "source": [
    "for target_noise, dfg in df_sum_filled.groupby('target_noise'):\n",
    "    for metric in ['r2_test','symbolic_solution_rate','simplified_complexity']:\n",
    "        name = 'symbolic problems target_noise='+str(target_noise)\n",
    "        pval_heatmap(dfg, metric, name, algs)\n",
    "    "
   ]
  },
  {
   "cell_type": "markdown",
   "metadata": {},
   "source": [
    "# Black-Box datasets"
   ]
  },
  {
   "cell_type": "markdown",
   "metadata": {},
   "source": [
    "## load data and fill nan results"
   ]
  },
  {
   "cell_type": "code",
   "execution_count": null,
   "metadata": {},
   "outputs": [],
   "source": [
    "df_sum = pd.read_csv(rdir+'/results_black-box_summary.csv.gz')\n",
    "algs = df_sum.algorithm.unique()\n",
    "datasets = df_sum.dataset.unique()"
   ]
  },
  {
   "cell_type": "code",
   "execution_count": null,
   "metadata": {},
   "outputs": [],
   "source": [
    "# if a result is missing, assign it the worst ranking\n",
    "# cols = df_sum.columns\n",
    "filler_frame = {\n",
    "    'r2_test_rank' : len(algs)+1,\n",
    "    'model_size_rank' : len(algs)+1,\n",
    "}\n",
    "fill_frames = []\n",
    "j = 0\n",
    "for dataset in datasets:\n",
    "    for alg in algs:\n",
    "        df = df_sum.loc[df_sum.dataset == dataset]\n",
    "        if alg not in df.algorithm.unique():\n",
    "            print('filling',alg,'missing for',dataset)\n",
    "#                 for col in cols:\n",
    "            new_fill = filler_frame.copy()\n",
    "            new_fill.update({\n",
    "                             'algorithm':alg,\n",
    "                             'dataset':dataset,\n",
    "                            })\n",
    "            print(new_fill)\n",
    "            fill_frames.append(new_fill)\n",
    "            j += 1\n",
    "            \n",
    "df_fill = pd.DataFrame.from_records(fill_frames, columns=fill_frames[0].keys()) \n",
    "df_sum_filled = df_sum.append(df_fill)\n"
   ]
  },
  {
   "cell_type": "markdown",
   "metadata": {},
   "source": [
    "## generate tables"
   ]
  },
  {
   "cell_type": "code",
   "execution_count": null,
   "metadata": {},
   "outputs": [],
   "source": [
    "# baseline significance threshold; adjusted for no. of comparisons below\n",
    "alpha = 0.05\n",
    "BB_pvals = {}\n",
    "\n",
    "for metric in ['r2_test','model_size']:\n",
    "    pvals = []\n",
    "\n",
    "    n = 0 \n",
    "    df_pvals, c_alpha = get_pval_df(df_sum_filled, metric, algs) \n",
    "    pval_tbl = df_pvals.set_index(['alg1','alg2'])['pval'].unstack() \n",
    "    BB_pvals[metric] = pval_tbl.copy() \n",
    "    pval_tbl = pval_tbl.fillna('-')\n",
    "    display(pval_tbl)\n",
    "   \n",
    "    pval_tbl"
   ]
  },
  {
   "cell_type": "code",
   "execution_count": null,
   "metadata": {},
   "outputs": [],
   "source": [
    "for metric in ['r2_test','model_size']:\n",
    "    name = 'black-box problems'\n",
    "    pval_heatmap(df_sum_filled, metric, name, algs)"
   ]
  },
  {
   "cell_type": "markdown",
   "metadata": {},
   "source": [
    "## specific p-values referenced in manuscript"
   ]
  },
  {
   "cell_type": "code",
   "execution_count": null,
   "metadata": {},
   "outputs": [],
   "source": [
    "# first fill the matrices so we can look at either pair\n",
    "for k,v in BB_pvals.items():\n",
    "    algs = v.columns\n",
    "    for alg1, alg2 in it.combinations(algs,2):\n",
    "        if np.isnan(BB_pvals[k].loc[alg1,alg2]): \n",
    "            BB_pvals[k].loc[alg1,alg2] = BB_pvals[k].loc[alg2,alg1] \n",
    "        else:\n",
    "            BB_pvals[k].loc[alg2,alg1] = BB_pvals[k].loc[alg1,alg2] "
   ]
  },
  {
   "cell_type": "markdown",
   "metadata": {},
   "source": [
    "Operon performance on BB problems"
   ]
  },
  {
   "cell_type": "code",
   "execution_count": null,
   "metadata": {},
   "outputs": [],
   "source": [
    "BB_pvals['r2_test']['Operon'].max() "
   ]
  },
  {
   "cell_type": "markdown",
   "metadata": {},
   "source": [
    "FEAT model size vs SGP"
   ]
  },
  {
   "cell_type": "code",
   "execution_count": null,
   "metadata": {},
   "outputs": [],
   "source": [
    "BB_pvals['model_size'].loc['FEAT','SBP-GP']"
   ]
  },
  {
   "cell_type": "markdown",
   "metadata": {},
   "source": [
    "Operon, SBP significantly outperform LGBM"
   ]
  },
  {
   "cell_type": "code",
   "execution_count": null,
   "metadata": {},
   "outputs": [],
   "source": [
    "BB_pvals['r2_test'].loc['XGB',['Operon','SBP-GP']].max() #.replace('-','0').astype(float).max() #.round(2)"
   ]
  },
  {
   "cell_type": "markdown",
   "metadata": {},
   "source": [
    "Operon, SBP, and FEAT significantly outperform LGBM"
   ]
  },
  {
   "cell_type": "code",
   "execution_count": null,
   "metadata": {},
   "outputs": [],
   "source": [
    "BB_pvals['r2_test'].loc['LGBM',['Operon','FEAT','SBP-GP']].max() #.replace('-','0').astype(float).max() #.round(2)"
   ]
  },
  {
   "cell_type": "markdown",
   "metadata": {},
   "source": [
    "GP models smaller than ensemble tree methods"
   ]
  },
  {
   "cell_type": "code",
   "execution_count": null,
   "metadata": {},
   "outputs": [],
   "source": [
    "import itertools as it\n",
    "import numpy as np\n",
    "\n",
    "gps = ['Operon','FEAT','EPLEX','ITEA','GP-GOMEA']\n",
    "trees = ['LGBM','XGB','RandomForest','AdaBoost']\n",
    "BB_pvals['model_size'].loc[gps,trees].max().max()\n"
   ]
  },
  {
   "cell_type": "code",
   "execution_count": null,
   "metadata": {},
   "outputs": [],
   "source": [
    "BB_pvals['r2_test'].loc[['DSR','BSR','FFX','AIFeynman'],['DSR','BSR','FFX','AIFeynman']]"
   ]
  },
  {
   "cell_type": "code",
   "execution_count": null,
   "metadata": {},
   "outputs": [],
   "source": [
    "BB_pvals['r2_test'].loc[['DSR','FFX'],['BSR','AIFeynman']]"
   ]
  },
  {
   "cell_type": "code",
   "execution_count": null,
   "metadata": {},
   "outputs": [],
   "source": [
    "BB_pvals['r2_test'][['BSR','AIFeynman']]"
   ]
  }
 ],
 "metadata": {
  "kernelspec": {
   "display_name": "Python 3",
   "language": "python",
   "name": "python3"
  },
  "language_info": {
   "codemirror_mode": {
    "name": "ipython",
    "version": 3
   },
   "file_extension": ".py",
   "mimetype": "text/x-python",
   "name": "python",
   "nbconvert_exporter": "python",
   "pygments_lexer": "ipython3",
   "version": "3.8.5"
  }
 },
 "nbformat": 4,
 "nbformat_minor": 4
}
