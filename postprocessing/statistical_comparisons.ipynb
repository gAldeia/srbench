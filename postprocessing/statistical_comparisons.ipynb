{
 "cells": [
  {
   "cell_type": "markdown",
   "metadata": {},
   "source": [
    "# statistical comparisons\n",
    "\n",
    "Notebook to run post-hoc pairwise statistical comparisons between methods on the ground-truth and black-box regression problems."
   ]
  },
  {
   "cell_type": "code",
   "execution_count": 1,
   "metadata": {},
   "outputs": [
    {
     "name": "stdout",
     "output_type": "stream",
     "text": [
      "figdir: figs/stats/\n"
     ]
    }
   ],
   "source": [
    "from scipy.stats import wilcoxon \n",
    "import pandas as pd\n",
    "import itertools as it\n",
    "import os\n",
    "import seaborn as sns\n",
    "sns.set(font_scale=1.5, style='white')\n",
    "\n",
    "figdir = 'figs/stats/'\n",
    "rdir = '../results/'\n",
    "\n",
    "print('figdir:',figdir)\n",
    "def save(h=None,name='tmp'):\n",
    "    name = name.strip().replace(' ','-').replace('%','pct')\n",
    "    if h == None:\n",
    "        h = plt.gcf()\n",
    "    h.tight_layout()\n",
    "    print('saving',figdir+'/'+name+'.png')\n",
    "    if not os.path.exists(figdir):\n",
    "        os.makedirs(figdir)\n",
    "    plt.savefig(figdir+'/'+name+'.png', bbox_inches='tight')"
   ]
  },
  {
   "cell_type": "code",
   "execution_count": 2,
   "metadata": {},
   "outputs": [],
   "source": [
    "import pdb\n",
    "import numpy as np\n",
    "\n",
    "def pairwise_pval(df, metric, alg1, alg2):\n",
    "    df = df.loc[df.algorithm.isin([alg1, alg2]),:].copy()\n",
    "    x = df.loc[df.algorithm==alg1, metric].values \n",
    "    y = df.loc[df.algorithm==alg2, metric].values \n",
    "    eff_size = np.abs(np.nanmedian(x)/np.nanmedian(y))\n",
    "    if metric.endswith('norm'):\n",
    "        rmetric = metric.replace('norm','rank')\n",
    "    else:\n",
    "        rmetric = metric+'_rank'\n",
    "    if rmetric not in df.columns:\n",
    "        rmetric = metric\n",
    "        \n",
    "    x_rank = df.loc[df.algorithm==alg1, rmetric].values \n",
    "    y_rank = df.loc[df.algorithm==alg2, rmetric].values \n",
    "#     pdb.set_trace()\n",
    "    if len(x) != len(y):\n",
    "        print(alg1, len(x))\n",
    "        print(alg2, len(y))\n",
    "    assert len(x) == len(y)\n",
    "#     w, p = mannwhitneyu(x, y)\n",
    "    if all(y==0) and all(x==0):\n",
    "        return 1, 1\n",
    "    \n",
    "    w, p = wilcoxon(x, y)\n",
    "    return p, eff_size\n",
    "\n",
    "#     return pstr, eff_size_str\n",
    "\n",
    "def signif(pval, alpha, eff):\n",
    "    pstr = '{:1.2g}'.format(pval)\n",
    "    eff_size_str = '{:1.1f}X'.format(eff)\n",
    "    if pval == '-': return pval\n",
    "    if float(pval) < alpha:\n",
    "        return 'textbf{'+pstr+'}', 'textbf{'+eff_size_str+'}'\n",
    "#         return pval+'*'\n",
    "    else:\n",
    "        return pstr, eff_size_str\n",
    "    \n",
    "def get_pval_df(df, metric, all_algs):\n",
    "    df = df.copy()\n",
    "    n=0\n",
    "    pvals = []\n",
    "    for alg1, alg2 in it.combinations(all_algs, 2):\n",
    "        pval, eff_size = pairwise_pval(df, metric, alg1, alg2)\n",
    "        pvals.append(dict(\n",
    "            alg1 = alg1,\n",
    "            alg2 = alg2,\n",
    "            eff_size = eff_size,\n",
    "            pval = pval\n",
    "        ))\n",
    "        n += 1\n",
    "    c_alpha = alpha/n\n",
    "\n",
    "\n",
    "    print('n:',n,'c_alpha:',c_alpha) \n",
    "    df_pvals = pd.DataFrame.from_records(pvals)\n",
    "    # df_pvals['pval_thresh'] = pd.cut(x=df_pvals['pval'], bins = [0, c_alpha, 1])\n",
    "    df_pvals['pval_thresh'] = df_pvals['pval'].apply(lambda x: bin_pval(x, c_alpha))\n",
    "\n",
    "    # significance\n",
    "    df_pvals.loc[:,'pval_bold'] = df_pvals.apply(lambda x: signif(x['pval'], \n",
    "                                                                      c_alpha,\n",
    "                                                                      x['eff_size'])[0],\n",
    "                                                     axis=1\n",
    "                                                    )\n",
    "    df_pvals.loc[:,'eff_size_bold'] = df_pvals.apply(lambda x: signif(x['pval'], \n",
    "                                                                      c_alpha,\n",
    "                                                                      x['eff_size'])[1],\n",
    "                                                     axis=1\n",
    "                                                    )\n",
    "    return df_pvals, c_alpha"
   ]
  },
  {
   "cell_type": "code",
   "execution_count": 3,
   "metadata": {},
   "outputs": [],
   "source": [
    "import seaborn as sns\n",
    "import matplotlib.pyplot as plt\n",
    "%matplotlib inline\n",
    "from matplotlib.colors import LogNorm\n",
    "\n",
    "def bin_pval(x, c_alpha):\n",
    "\n",
    "    for stars,level in zip([4,3,2,1],[1e-3, 1e-2, 1e-1, 1]):\n",
    "        if x < level*c_alpha: \n",
    "            return stars #level #*c_alpha\n",
    "    return 0\n",
    "\n",
    "def pval_heatmap(df, metric, problem, algs):\n",
    "    df = df.copy()\n",
    "    n = 0 \n",
    "    pvals = []\n",
    "\n",
    "    df_pvals, c_alpha = get_pval_df(df, metric, algs)\n",
    "    \n",
    "    #                                                  pd.cut(x=df_pvals['pval'], bins = [0, c_alpha, 1])\n",
    "    tbl = df_pvals.set_index(['alg1','alg2'])['pval_thresh'].unstack().transpose() #.fillna('-')\n",
    "\n",
    "    mask = np.zeros_like(tbl, dtype=np.bool)\n",
    "    mask[np.triu_indices_from(mask,k=1)] = True\n",
    "\n",
    "    h = plt.figure(figsize=(10,10))\n",
    "\n",
    "    cmap = sns.color_palette('flare',n_colors=5)\n",
    "    cmap[0] = [.9, .9, .9]\n",
    "    ax = sns.heatmap(tbl, \n",
    "                linewidth=0.25,\n",
    "                mask=mask,\n",
    "                square=True,\n",
    "                cbar_kws=dict(\n",
    "                              ticks = [0.4, 1.2, 2.0, 2.8, 3.6],\n",
    "                              shrink=0.6,\n",
    "                ),\n",
    "                cmap=cmap,\n",
    "\n",
    "               )\n",
    "    cax = h.axes[-1]\n",
    "    cbar_labels = [\n",
    "                   'no significance',\n",
    "                   '$p<\\\\alpha$',\n",
    "                   '$p<$1e-1$\\cdot \\\\alpha$',\n",
    "                   '$p<$1e-2$\\cdot \\\\alpha$',\n",
    "                   '$p<$1e-3$\\cdot \\\\alpha$',\n",
    "                  ]\n",
    "    cax.set_yticklabels(cbar_labels)\n",
    "    nice_metric = metric.replace('%','pct').replace('_',' ').replace('R2','$$R^2$$').title()\n",
    "    plt.title(('Wilcoxon signed-rank test, '\n",
    "              +nice_metric\n",
    "              +', $\\\\alpha =$ {:1.1e}').format(c_alpha)\n",
    "             )\n",
    "    plt.xlabel('')\n",
    "    plt.ylabel('')\n",
    "    savename = ('Pairwise comparison of '\n",
    "              +nice_metric\n",
    "              +' on '\n",
    "              +problem).replace(' ','_')\n",
    "    save(h, savename)"
   ]
  },
  {
   "cell_type": "markdown",
   "metadata": {},
   "source": [
    "# symbolic datasets"
   ]
  },
  {
   "cell_type": "markdown",
   "metadata": {},
   "source": [
    "## load data and fill nan results"
   ]
  },
  {
   "cell_type": "code",
   "execution_count": 4,
   "metadata": {},
   "outputs": [
    {
     "ename": "FileNotFoundError",
     "evalue": "[Errno 2] No such file or directory: '../results//symbolic_dataset_results_sum.csv.gz'",
     "output_type": "error",
     "traceback": [
      "\u001b[0;31m---------------------------------------------------------------------------\u001b[0m",
      "\u001b[0;31mFileNotFoundError\u001b[0m                         Traceback (most recent call last)",
      "Input \u001b[0;32mIn [4]\u001b[0m, in \u001b[0;36m<cell line: 1>\u001b[0;34m()\u001b[0m\n\u001b[0;32m----> 1\u001b[0m df_sum \u001b[38;5;241m=\u001b[39m \u001b[43mpd\u001b[49m\u001b[38;5;241;43m.\u001b[39;49m\u001b[43mread_csv\u001b[49m\u001b[43m(\u001b[49m\u001b[43mrdir\u001b[49m\u001b[38;5;241;43m+\u001b[39;49m\u001b[38;5;124;43m'\u001b[39;49m\u001b[38;5;124;43m/symbolic_dataset_results_sum.csv.gz\u001b[39;49m\u001b[38;5;124;43m'\u001b[39;49m\u001b[43m)\u001b[49m\n\u001b[1;32m      2\u001b[0m algs \u001b[38;5;241m=\u001b[39m df_sum\u001b[38;5;241m.\u001b[39malgorithm\u001b[38;5;241m.\u001b[39munique()\n\u001b[1;32m      3\u001b[0m datasets \u001b[38;5;241m=\u001b[39m df_sum\u001b[38;5;241m.\u001b[39mdataset\u001b[38;5;241m.\u001b[39munique()\n",
      "File \u001b[0;32m~/.conda/envs/srbench/lib/python3.9/site-packages/pandas/util/_decorators.py:211\u001b[0m, in \u001b[0;36mdeprecate_kwarg.<locals>._deprecate_kwarg.<locals>.wrapper\u001b[0;34m(*args, **kwargs)\u001b[0m\n\u001b[1;32m    209\u001b[0m     \u001b[38;5;28;01melse\u001b[39;00m:\n\u001b[1;32m    210\u001b[0m         kwargs[new_arg_name] \u001b[38;5;241m=\u001b[39m new_arg_value\n\u001b[0;32m--> 211\u001b[0m \u001b[38;5;28;01mreturn\u001b[39;00m \u001b[43mfunc\u001b[49m\u001b[43m(\u001b[49m\u001b[38;5;241;43m*\u001b[39;49m\u001b[43margs\u001b[49m\u001b[43m,\u001b[49m\u001b[43m \u001b[49m\u001b[38;5;241;43m*\u001b[39;49m\u001b[38;5;241;43m*\u001b[39;49m\u001b[43mkwargs\u001b[49m\u001b[43m)\u001b[49m\n",
      "File \u001b[0;32m~/.conda/envs/srbench/lib/python3.9/site-packages/pandas/util/_decorators.py:331\u001b[0m, in \u001b[0;36mdeprecate_nonkeyword_arguments.<locals>.decorate.<locals>.wrapper\u001b[0;34m(*args, **kwargs)\u001b[0m\n\u001b[1;32m    325\u001b[0m \u001b[38;5;28;01mif\u001b[39;00m \u001b[38;5;28mlen\u001b[39m(args) \u001b[38;5;241m>\u001b[39m num_allow_args:\n\u001b[1;32m    326\u001b[0m     warnings\u001b[38;5;241m.\u001b[39mwarn(\n\u001b[1;32m    327\u001b[0m         msg\u001b[38;5;241m.\u001b[39mformat(arguments\u001b[38;5;241m=\u001b[39m_format_argument_list(allow_args)),\n\u001b[1;32m    328\u001b[0m         \u001b[38;5;167;01mFutureWarning\u001b[39;00m,\n\u001b[1;32m    329\u001b[0m         stacklevel\u001b[38;5;241m=\u001b[39mfind_stack_level(),\n\u001b[1;32m    330\u001b[0m     )\n\u001b[0;32m--> 331\u001b[0m \u001b[38;5;28;01mreturn\u001b[39;00m \u001b[43mfunc\u001b[49m\u001b[43m(\u001b[49m\u001b[38;5;241;43m*\u001b[39;49m\u001b[43margs\u001b[49m\u001b[43m,\u001b[49m\u001b[43m \u001b[49m\u001b[38;5;241;43m*\u001b[39;49m\u001b[38;5;241;43m*\u001b[39;49m\u001b[43mkwargs\u001b[49m\u001b[43m)\u001b[49m\n",
      "File \u001b[0;32m~/.conda/envs/srbench/lib/python3.9/site-packages/pandas/io/parsers/readers.py:950\u001b[0m, in \u001b[0;36mread_csv\u001b[0;34m(filepath_or_buffer, sep, delimiter, header, names, index_col, usecols, squeeze, prefix, mangle_dupe_cols, dtype, engine, converters, true_values, false_values, skipinitialspace, skiprows, skipfooter, nrows, na_values, keep_default_na, na_filter, verbose, skip_blank_lines, parse_dates, infer_datetime_format, keep_date_col, date_parser, dayfirst, cache_dates, iterator, chunksize, compression, thousands, decimal, lineterminator, quotechar, quoting, doublequote, escapechar, comment, encoding, encoding_errors, dialect, error_bad_lines, warn_bad_lines, on_bad_lines, delim_whitespace, low_memory, memory_map, float_precision, storage_options)\u001b[0m\n\u001b[1;32m    935\u001b[0m kwds_defaults \u001b[38;5;241m=\u001b[39m _refine_defaults_read(\n\u001b[1;32m    936\u001b[0m     dialect,\n\u001b[1;32m    937\u001b[0m     delimiter,\n\u001b[0;32m   (...)\u001b[0m\n\u001b[1;32m    946\u001b[0m     defaults\u001b[38;5;241m=\u001b[39m{\u001b[38;5;124m\"\u001b[39m\u001b[38;5;124mdelimiter\u001b[39m\u001b[38;5;124m\"\u001b[39m: \u001b[38;5;124m\"\u001b[39m\u001b[38;5;124m,\u001b[39m\u001b[38;5;124m\"\u001b[39m},\n\u001b[1;32m    947\u001b[0m )\n\u001b[1;32m    948\u001b[0m kwds\u001b[38;5;241m.\u001b[39mupdate(kwds_defaults)\n\u001b[0;32m--> 950\u001b[0m \u001b[38;5;28;01mreturn\u001b[39;00m \u001b[43m_read\u001b[49m\u001b[43m(\u001b[49m\u001b[43mfilepath_or_buffer\u001b[49m\u001b[43m,\u001b[49m\u001b[43m \u001b[49m\u001b[43mkwds\u001b[49m\u001b[43m)\u001b[49m\n",
      "File \u001b[0;32m~/.conda/envs/srbench/lib/python3.9/site-packages/pandas/io/parsers/readers.py:605\u001b[0m, in \u001b[0;36m_read\u001b[0;34m(filepath_or_buffer, kwds)\u001b[0m\n\u001b[1;32m    602\u001b[0m _validate_names(kwds\u001b[38;5;241m.\u001b[39mget(\u001b[38;5;124m\"\u001b[39m\u001b[38;5;124mnames\u001b[39m\u001b[38;5;124m\"\u001b[39m, \u001b[38;5;28;01mNone\u001b[39;00m))\n\u001b[1;32m    604\u001b[0m \u001b[38;5;66;03m# Create the parser.\u001b[39;00m\n\u001b[0;32m--> 605\u001b[0m parser \u001b[38;5;241m=\u001b[39m \u001b[43mTextFileReader\u001b[49m\u001b[43m(\u001b[49m\u001b[43mfilepath_or_buffer\u001b[49m\u001b[43m,\u001b[49m\u001b[43m \u001b[49m\u001b[38;5;241;43m*\u001b[39;49m\u001b[38;5;241;43m*\u001b[39;49m\u001b[43mkwds\u001b[49m\u001b[43m)\u001b[49m\n\u001b[1;32m    607\u001b[0m \u001b[38;5;28;01mif\u001b[39;00m chunksize \u001b[38;5;129;01mor\u001b[39;00m iterator:\n\u001b[1;32m    608\u001b[0m     \u001b[38;5;28;01mreturn\u001b[39;00m parser\n",
      "File \u001b[0;32m~/.conda/envs/srbench/lib/python3.9/site-packages/pandas/io/parsers/readers.py:1442\u001b[0m, in \u001b[0;36mTextFileReader.__init__\u001b[0;34m(self, f, engine, **kwds)\u001b[0m\n\u001b[1;32m   1439\u001b[0m     \u001b[38;5;28mself\u001b[39m\u001b[38;5;241m.\u001b[39moptions[\u001b[38;5;124m\"\u001b[39m\u001b[38;5;124mhas_index_names\u001b[39m\u001b[38;5;124m\"\u001b[39m] \u001b[38;5;241m=\u001b[39m kwds[\u001b[38;5;124m\"\u001b[39m\u001b[38;5;124mhas_index_names\u001b[39m\u001b[38;5;124m\"\u001b[39m]\n\u001b[1;32m   1441\u001b[0m \u001b[38;5;28mself\u001b[39m\u001b[38;5;241m.\u001b[39mhandles: IOHandles \u001b[38;5;241m|\u001b[39m \u001b[38;5;28;01mNone\u001b[39;00m \u001b[38;5;241m=\u001b[39m \u001b[38;5;28;01mNone\u001b[39;00m\n\u001b[0;32m-> 1442\u001b[0m \u001b[38;5;28mself\u001b[39m\u001b[38;5;241m.\u001b[39m_engine \u001b[38;5;241m=\u001b[39m \u001b[38;5;28;43mself\u001b[39;49m\u001b[38;5;241;43m.\u001b[39;49m\u001b[43m_make_engine\u001b[49m\u001b[43m(\u001b[49m\u001b[43mf\u001b[49m\u001b[43m,\u001b[49m\u001b[43m \u001b[49m\u001b[38;5;28;43mself\u001b[39;49m\u001b[38;5;241;43m.\u001b[39;49m\u001b[43mengine\u001b[49m\u001b[43m)\u001b[49m\n",
      "File \u001b[0;32m~/.conda/envs/srbench/lib/python3.9/site-packages/pandas/io/parsers/readers.py:1735\u001b[0m, in \u001b[0;36mTextFileReader._make_engine\u001b[0;34m(self, f, engine)\u001b[0m\n\u001b[1;32m   1733\u001b[0m     \u001b[38;5;28;01mif\u001b[39;00m \u001b[38;5;124m\"\u001b[39m\u001b[38;5;124mb\u001b[39m\u001b[38;5;124m\"\u001b[39m \u001b[38;5;129;01mnot\u001b[39;00m \u001b[38;5;129;01min\u001b[39;00m mode:\n\u001b[1;32m   1734\u001b[0m         mode \u001b[38;5;241m+\u001b[39m\u001b[38;5;241m=\u001b[39m \u001b[38;5;124m\"\u001b[39m\u001b[38;5;124mb\u001b[39m\u001b[38;5;124m\"\u001b[39m\n\u001b[0;32m-> 1735\u001b[0m \u001b[38;5;28mself\u001b[39m\u001b[38;5;241m.\u001b[39mhandles \u001b[38;5;241m=\u001b[39m \u001b[43mget_handle\u001b[49m\u001b[43m(\u001b[49m\n\u001b[1;32m   1736\u001b[0m \u001b[43m    \u001b[49m\u001b[43mf\u001b[49m\u001b[43m,\u001b[49m\n\u001b[1;32m   1737\u001b[0m \u001b[43m    \u001b[49m\u001b[43mmode\u001b[49m\u001b[43m,\u001b[49m\n\u001b[1;32m   1738\u001b[0m \u001b[43m    \u001b[49m\u001b[43mencoding\u001b[49m\u001b[38;5;241;43m=\u001b[39;49m\u001b[38;5;28;43mself\u001b[39;49m\u001b[38;5;241;43m.\u001b[39;49m\u001b[43moptions\u001b[49m\u001b[38;5;241;43m.\u001b[39;49m\u001b[43mget\u001b[49m\u001b[43m(\u001b[49m\u001b[38;5;124;43m\"\u001b[39;49m\u001b[38;5;124;43mencoding\u001b[39;49m\u001b[38;5;124;43m\"\u001b[39;49m\u001b[43m,\u001b[49m\u001b[43m \u001b[49m\u001b[38;5;28;43;01mNone\u001b[39;49;00m\u001b[43m)\u001b[49m\u001b[43m,\u001b[49m\n\u001b[1;32m   1739\u001b[0m \u001b[43m    \u001b[49m\u001b[43mcompression\u001b[49m\u001b[38;5;241;43m=\u001b[39;49m\u001b[38;5;28;43mself\u001b[39;49m\u001b[38;5;241;43m.\u001b[39;49m\u001b[43moptions\u001b[49m\u001b[38;5;241;43m.\u001b[39;49m\u001b[43mget\u001b[49m\u001b[43m(\u001b[49m\u001b[38;5;124;43m\"\u001b[39;49m\u001b[38;5;124;43mcompression\u001b[39;49m\u001b[38;5;124;43m\"\u001b[39;49m\u001b[43m,\u001b[49m\u001b[43m \u001b[49m\u001b[38;5;28;43;01mNone\u001b[39;49;00m\u001b[43m)\u001b[49m\u001b[43m,\u001b[49m\n\u001b[1;32m   1740\u001b[0m \u001b[43m    \u001b[49m\u001b[43mmemory_map\u001b[49m\u001b[38;5;241;43m=\u001b[39;49m\u001b[38;5;28;43mself\u001b[39;49m\u001b[38;5;241;43m.\u001b[39;49m\u001b[43moptions\u001b[49m\u001b[38;5;241;43m.\u001b[39;49m\u001b[43mget\u001b[49m\u001b[43m(\u001b[49m\u001b[38;5;124;43m\"\u001b[39;49m\u001b[38;5;124;43mmemory_map\u001b[39;49m\u001b[38;5;124;43m\"\u001b[39;49m\u001b[43m,\u001b[49m\u001b[43m \u001b[49m\u001b[38;5;28;43;01mFalse\u001b[39;49;00m\u001b[43m)\u001b[49m\u001b[43m,\u001b[49m\n\u001b[1;32m   1741\u001b[0m \u001b[43m    \u001b[49m\u001b[43mis_text\u001b[49m\u001b[38;5;241;43m=\u001b[39;49m\u001b[43mis_text\u001b[49m\u001b[43m,\u001b[49m\n\u001b[1;32m   1742\u001b[0m \u001b[43m    \u001b[49m\u001b[43merrors\u001b[49m\u001b[38;5;241;43m=\u001b[39;49m\u001b[38;5;28;43mself\u001b[39;49m\u001b[38;5;241;43m.\u001b[39;49m\u001b[43moptions\u001b[49m\u001b[38;5;241;43m.\u001b[39;49m\u001b[43mget\u001b[49m\u001b[43m(\u001b[49m\u001b[38;5;124;43m\"\u001b[39;49m\u001b[38;5;124;43mencoding_errors\u001b[39;49m\u001b[38;5;124;43m\"\u001b[39;49m\u001b[43m,\u001b[49m\u001b[43m \u001b[49m\u001b[38;5;124;43m\"\u001b[39;49m\u001b[38;5;124;43mstrict\u001b[39;49m\u001b[38;5;124;43m\"\u001b[39;49m\u001b[43m)\u001b[49m\u001b[43m,\u001b[49m\n\u001b[1;32m   1743\u001b[0m \u001b[43m    \u001b[49m\u001b[43mstorage_options\u001b[49m\u001b[38;5;241;43m=\u001b[39;49m\u001b[38;5;28;43mself\u001b[39;49m\u001b[38;5;241;43m.\u001b[39;49m\u001b[43moptions\u001b[49m\u001b[38;5;241;43m.\u001b[39;49m\u001b[43mget\u001b[49m\u001b[43m(\u001b[49m\u001b[38;5;124;43m\"\u001b[39;49m\u001b[38;5;124;43mstorage_options\u001b[39;49m\u001b[38;5;124;43m\"\u001b[39;49m\u001b[43m,\u001b[49m\u001b[43m \u001b[49m\u001b[38;5;28;43;01mNone\u001b[39;49;00m\u001b[43m)\u001b[49m\u001b[43m,\u001b[49m\n\u001b[1;32m   1744\u001b[0m \u001b[43m\u001b[49m\u001b[43m)\u001b[49m\n\u001b[1;32m   1745\u001b[0m \u001b[38;5;28;01massert\u001b[39;00m \u001b[38;5;28mself\u001b[39m\u001b[38;5;241m.\u001b[39mhandles \u001b[38;5;129;01mis\u001b[39;00m \u001b[38;5;129;01mnot\u001b[39;00m \u001b[38;5;28;01mNone\u001b[39;00m\n\u001b[1;32m   1746\u001b[0m f \u001b[38;5;241m=\u001b[39m \u001b[38;5;28mself\u001b[39m\u001b[38;5;241m.\u001b[39mhandles\u001b[38;5;241m.\u001b[39mhandle\n",
      "File \u001b[0;32m~/.conda/envs/srbench/lib/python3.9/site-packages/pandas/io/common.py:750\u001b[0m, in \u001b[0;36mget_handle\u001b[0;34m(path_or_buf, mode, encoding, compression, memory_map, is_text, errors, storage_options)\u001b[0m\n\u001b[1;32m    746\u001b[0m \u001b[38;5;28;01mif\u001b[39;00m compression \u001b[38;5;241m==\u001b[39m \u001b[38;5;124m\"\u001b[39m\u001b[38;5;124mgzip\u001b[39m\u001b[38;5;124m\"\u001b[39m:\n\u001b[1;32m    747\u001b[0m     \u001b[38;5;28;01mif\u001b[39;00m \u001b[38;5;28misinstance\u001b[39m(handle, \u001b[38;5;28mstr\u001b[39m):\n\u001b[1;32m    748\u001b[0m         \u001b[38;5;66;03m# error: Incompatible types in assignment (expression has type\u001b[39;00m\n\u001b[1;32m    749\u001b[0m         \u001b[38;5;66;03m# \"GzipFile\", variable has type \"Union[str, BaseBuffer]\")\u001b[39;00m\n\u001b[0;32m--> 750\u001b[0m         handle \u001b[38;5;241m=\u001b[39m \u001b[43mgzip\u001b[49m\u001b[38;5;241;43m.\u001b[39;49m\u001b[43mGzipFile\u001b[49m\u001b[43m(\u001b[49m\u001b[43m  \u001b[49m\u001b[38;5;66;43;03m# type: ignore[assignment]\u001b[39;49;00m\n\u001b[1;32m    751\u001b[0m \u001b[43m            \u001b[49m\u001b[43mfilename\u001b[49m\u001b[38;5;241;43m=\u001b[39;49m\u001b[43mhandle\u001b[49m\u001b[43m,\u001b[49m\n\u001b[1;32m    752\u001b[0m \u001b[43m            \u001b[49m\u001b[43mmode\u001b[49m\u001b[38;5;241;43m=\u001b[39;49m\u001b[43mioargs\u001b[49m\u001b[38;5;241;43m.\u001b[39;49m\u001b[43mmode\u001b[49m\u001b[43m,\u001b[49m\n\u001b[1;32m    753\u001b[0m \u001b[43m            \u001b[49m\u001b[38;5;241;43m*\u001b[39;49m\u001b[38;5;241;43m*\u001b[39;49m\u001b[43mcompression_args\u001b[49m\u001b[43m,\u001b[49m\n\u001b[1;32m    754\u001b[0m \u001b[43m        \u001b[49m\u001b[43m)\u001b[49m\n\u001b[1;32m    755\u001b[0m     \u001b[38;5;28;01melse\u001b[39;00m:\n\u001b[1;32m    756\u001b[0m         handle \u001b[38;5;241m=\u001b[39m gzip\u001b[38;5;241m.\u001b[39mGzipFile(\n\u001b[1;32m    757\u001b[0m             \u001b[38;5;66;03m# No overload variant of \"GzipFile\" matches argument types\u001b[39;00m\n\u001b[1;32m    758\u001b[0m             \u001b[38;5;66;03m# \"Union[str, BaseBuffer]\", \"str\", \"Dict[str, Any]\"\u001b[39;00m\n\u001b[0;32m   (...)\u001b[0m\n\u001b[1;32m    761\u001b[0m             \u001b[38;5;241m*\u001b[39m\u001b[38;5;241m*\u001b[39mcompression_args,\n\u001b[1;32m    762\u001b[0m         )\n",
      "File \u001b[0;32m~/.conda/envs/srbench/lib/python3.9/gzip.py:173\u001b[0m, in \u001b[0;36mGzipFile.__init__\u001b[0;34m(self, filename, mode, compresslevel, fileobj, mtime)\u001b[0m\n\u001b[1;32m    171\u001b[0m     mode \u001b[38;5;241m+\u001b[39m\u001b[38;5;241m=\u001b[39m \u001b[38;5;124m'\u001b[39m\u001b[38;5;124mb\u001b[39m\u001b[38;5;124m'\u001b[39m\n\u001b[1;32m    172\u001b[0m \u001b[38;5;28;01mif\u001b[39;00m fileobj \u001b[38;5;129;01mis\u001b[39;00m \u001b[38;5;28;01mNone\u001b[39;00m:\n\u001b[0;32m--> 173\u001b[0m     fileobj \u001b[38;5;241m=\u001b[39m \u001b[38;5;28mself\u001b[39m\u001b[38;5;241m.\u001b[39mmyfileobj \u001b[38;5;241m=\u001b[39m \u001b[43mbuiltins\u001b[49m\u001b[38;5;241;43m.\u001b[39;49m\u001b[43mopen\u001b[49m\u001b[43m(\u001b[49m\u001b[43mfilename\u001b[49m\u001b[43m,\u001b[49m\u001b[43m \u001b[49m\u001b[43mmode\u001b[49m\u001b[43m \u001b[49m\u001b[38;5;129;43;01mor\u001b[39;49;00m\u001b[43m \u001b[49m\u001b[38;5;124;43m'\u001b[39;49m\u001b[38;5;124;43mrb\u001b[39;49m\u001b[38;5;124;43m'\u001b[39;49m\u001b[43m)\u001b[49m\n\u001b[1;32m    174\u001b[0m \u001b[38;5;28;01mif\u001b[39;00m filename \u001b[38;5;129;01mis\u001b[39;00m \u001b[38;5;28;01mNone\u001b[39;00m:\n\u001b[1;32m    175\u001b[0m     filename \u001b[38;5;241m=\u001b[39m \u001b[38;5;28mgetattr\u001b[39m(fileobj, \u001b[38;5;124m'\u001b[39m\u001b[38;5;124mname\u001b[39m\u001b[38;5;124m'\u001b[39m, \u001b[38;5;124m'\u001b[39m\u001b[38;5;124m'\u001b[39m)\n",
      "\u001b[0;31mFileNotFoundError\u001b[0m: [Errno 2] No such file or directory: '../results//symbolic_dataset_results_sum.csv.gz'"
     ]
    }
   ],
   "source": [
    "df_sum = pd.read_csv(rdir+'/symbolic_dataset_results_sum.csv.gz')\n",
    "algs = df_sum.algorithm.unique()\n",
    "datasets = df_sum.dataset.unique()\n",
    "noises = df_sum.target_noise.unique()\n",
    "\n",
    "df_sum\n",
    "cols = df_sum.columns\n",
    "for col in [c for c in cols if 'rank' in c]:\n",
    "    df_sum.loc[:,col] = df_sum[col].fillna(len(algs)+1)\n",
    "for col in [c for c in cols if 'solution_rate' in c]:\n",
    "    df_sum.loc[:,col] = df_sum[col].fillna(0.0)"
   ]
  },
  {
   "cell_type": "code",
   "execution_count": null,
   "metadata": {},
   "outputs": [],
   "source": [
    "cols = df_sum.columns\n",
    "filler_frame = {\n",
    "    'r2_test' : 0.0,\n",
    "    'solution_rate_(%)' : 0.0,\n",
    "}\n",
    "fill_frames = []\n",
    "\n",
    "for dataset in datasets:\n",
    "    for noise in noises:\n",
    "        for alg in algs:\n",
    "            df = df_sum.loc[df_sum.dataset == dataset].loc[df_sum.target_noise==noise]\n",
    "            if alg not in df.algorithm.unique():\n",
    "                new_fill = filler_frame.copy()\n",
    "                new_fill.update({\n",
    "                                 'algorithm':alg,\n",
    "                                 'dataset':dataset,\n",
    "                                 'target_noise':noise\n",
    "                                })\n",
    "                fill_frames.append(new_fill)\n",
    "df_fill = pd.DataFrame.from_records(fill_frames, columns=fill_frames[0].keys()) \n",
    "df_sum_filled = df_sum.append(df_fill)\n"
   ]
  },
  {
   "cell_type": "markdown",
   "metadata": {},
   "source": [
    "## generate tables"
   ]
  },
  {
   "cell_type": "code",
   "execution_count": null,
   "metadata": {},
   "outputs": [],
   "source": [
    "alpha = 0.05\n",
    "SR_pvals = {}\n",
    "\n",
    "for metric in ['r2_test','symbolic_solution_rate','simplified_complexity']:\n",
    "    for target_noise, dfg in df_sum_filled.groupby('target_noise'):\n",
    "        print(metric, 'noise=',target_noise)\n",
    "        df_pvals, c_alpha = get_pval_df(df_sum_filled, metric, algs) \n",
    "\n",
    "        pval_tbl = df_pvals.set_index(['alg1','alg2'])['pval_bold'].unstack().fillna('-')\n",
    "        disp_tbl = df_pvals.set_index(['alg1','alg2'])['pval'].unstack().fillna('-')\n",
    "        SR_pvals[metric] = {target_noise:disp_tbl}\n",
    "        display(disp_tbl)\n",
    "\n",
    "        pval_tbl"
   ]
  },
  {
   "cell_type": "markdown",
   "metadata": {},
   "source": [
    "## generate heatmaps"
   ]
  },
  {
   "cell_type": "code",
   "execution_count": null,
   "metadata": {},
   "outputs": [],
   "source": [
    "for target_noise, dfg in df_sum_filled.groupby('target_noise'):\n",
    "    for metric in ['r2_test','symbolic_solution_rate','simplified_complexity']:\n",
    "        name = 'symbolic problems target_noise='+str(target_noise)\n",
    "        pval_heatmap(dfg, metric, name, algs)\n",
    "    "
   ]
  },
  {
   "cell_type": "markdown",
   "metadata": {},
   "source": [
    "# Black-Box datasets"
   ]
  },
  {
   "cell_type": "markdown",
   "metadata": {},
   "source": [
    "## load data and fill nan results"
   ]
  },
  {
   "cell_type": "code",
   "execution_count": null,
   "metadata": {},
   "outputs": [],
   "source": [
    "df_sum = pd.read_csv(rdir+'/results_black-box_summary.csv.gz')\n",
    "algs = df_sum.algorithm.unique()\n",
    "datasets = df_sum.dataset.unique()"
   ]
  },
  {
   "cell_type": "code",
   "execution_count": null,
   "metadata": {},
   "outputs": [],
   "source": [
    "# if a result is missing, assign it the worst ranking\n",
    "# cols = df_sum.columns\n",
    "filler_frame = {\n",
    "    'r2_test_rank' : len(algs)+1,\n",
    "    'model_size_rank' : len(algs)+1,\n",
    "}\n",
    "fill_frames = []\n",
    "j = 0\n",
    "for dataset in datasets:\n",
    "    for alg in algs:\n",
    "        df = df_sum.loc[df_sum.dataset == dataset]\n",
    "        if alg not in df.algorithm.unique():\n",
    "            print('filling',alg,'missing for',dataset)\n",
    "#                 for col in cols:\n",
    "            new_fill = filler_frame.copy()\n",
    "            new_fill.update({\n",
    "                             'algorithm':alg,\n",
    "                             'dataset':dataset,\n",
    "                            })\n",
    "            print(new_fill)\n",
    "            fill_frames.append(new_fill)\n",
    "            j += 1\n",
    "            \n",
    "df_fill = pd.DataFrame.from_records(fill_frames, columns=fill_frames[0].keys()) \n",
    "df_sum_filled = df_sum.append(df_fill)\n"
   ]
  },
  {
   "cell_type": "markdown",
   "metadata": {},
   "source": [
    "## generate tables"
   ]
  },
  {
   "cell_type": "code",
   "execution_count": null,
   "metadata": {},
   "outputs": [],
   "source": [
    "# baseline significance threshold; adjusted for no. of comparisons below\n",
    "alpha = 0.05\n",
    "BB_pvals = {}\n",
    "\n",
    "for metric in ['r2_test','model_size']:\n",
    "    pvals = []\n",
    "\n",
    "    n = 0 \n",
    "    df_pvals, c_alpha = get_pval_df(df_sum_filled, metric, algs) \n",
    "    pval_tbl = df_pvals.set_index(['alg1','alg2'])['pval'].unstack() \n",
    "    BB_pvals[metric] = pval_tbl.copy() \n",
    "    pval_tbl = pval_tbl.fillna('-')\n",
    "    display(pval_tbl)\n",
    "   \n",
    "    pval_tbl"
   ]
  },
  {
   "cell_type": "code",
   "execution_count": null,
   "metadata": {},
   "outputs": [],
   "source": [
    "for metric in ['r2_test','model_size']:\n",
    "    name = 'black-box problems'\n",
    "    pval_heatmap(df_sum_filled, metric, name, algs)"
   ]
  },
  {
   "cell_type": "markdown",
   "metadata": {},
   "source": [
    "## specific p-values referenced in manuscript"
   ]
  },
  {
   "cell_type": "code",
   "execution_count": null,
   "metadata": {},
   "outputs": [],
   "source": [
    "# first fill the matrices so we can look at either pair\n",
    "for k,v in BB_pvals.items():\n",
    "    algs = v.columns\n",
    "    for alg1, alg2 in it.combinations(algs,2):\n",
    "        if np.isnan(BB_pvals[k].loc[alg1,alg2]): \n",
    "            BB_pvals[k].loc[alg1,alg2] = BB_pvals[k].loc[alg2,alg1] \n",
    "        else:\n",
    "            BB_pvals[k].loc[alg2,alg1] = BB_pvals[k].loc[alg1,alg2] "
   ]
  },
  {
   "cell_type": "markdown",
   "metadata": {},
   "source": [
    "Operon performance on BB problems"
   ]
  },
  {
   "cell_type": "code",
   "execution_count": null,
   "metadata": {},
   "outputs": [],
   "source": [
    "BB_pvals['r2_test']['Operon'].max() "
   ]
  },
  {
   "cell_type": "markdown",
   "metadata": {},
   "source": [
    "FEAT model size vs SGP"
   ]
  },
  {
   "cell_type": "code",
   "execution_count": null,
   "metadata": {},
   "outputs": [],
   "source": [
    "BB_pvals['model_size'].loc['FEAT','SBP-GP']"
   ]
  },
  {
   "cell_type": "markdown",
   "metadata": {},
   "source": [
    "Operon, SBP significantly outperform LGBM"
   ]
  },
  {
   "cell_type": "code",
   "execution_count": null,
   "metadata": {},
   "outputs": [],
   "source": [
    "BB_pvals['r2_test'].loc['XGB',['Operon','SBP-GP']].max() #.replace('-','0').astype(float).max() #.round(2)"
   ]
  },
  {
   "cell_type": "markdown",
   "metadata": {},
   "source": [
    "Operon, SBP, and FEAT significantly outperform LGBM"
   ]
  },
  {
   "cell_type": "code",
   "execution_count": null,
   "metadata": {},
   "outputs": [],
   "source": [
    "BB_pvals['r2_test'].loc['LGBM',['Operon','FEAT','SBP-GP']].max() #.replace('-','0').astype(float).max() #.round(2)"
   ]
  },
  {
   "cell_type": "markdown",
   "metadata": {},
   "source": [
    "GP models smaller than ensemble tree methods"
   ]
  },
  {
   "cell_type": "code",
   "execution_count": null,
   "metadata": {},
   "outputs": [],
   "source": [
    "import itertools as it\n",
    "import numpy as np\n",
    "\n",
    "gps = ['Operon','FEAT','EPLEX','ITEA','GP-GOMEA']\n",
    "trees = ['LGBM','XGB','RandomForest','AdaBoost']\n",
    "BB_pvals['model_size'].loc[gps,trees].max().max()\n"
   ]
  },
  {
   "cell_type": "code",
   "execution_count": null,
   "metadata": {},
   "outputs": [],
   "source": [
    "BB_pvals['r2_test'].loc[['DSR','BSR','FFX','AIFeynman'],['DSR','BSR','FFX','AIFeynman']]"
   ]
  },
  {
   "cell_type": "code",
   "execution_count": null,
   "metadata": {},
   "outputs": [],
   "source": [
    "BB_pvals['r2_test'].loc[['DSR','FFX'],['BSR','AIFeynman']]"
   ]
  },
  {
   "cell_type": "code",
   "execution_count": null,
   "metadata": {},
   "outputs": [],
   "source": [
    "BB_pvals['r2_test'][['BSR','AIFeynman']]"
   ]
  }
 ],
 "metadata": {
  "kernelspec": {
   "display_name": "Python 3",
   "language": "python",
   "name": "python3"
  },
  "language_info": {
   "codemirror_mode": {
    "name": "ipython",
    "version": 3
   },
   "file_extension": ".py",
   "mimetype": "text/x-python",
   "name": "python",
   "nbconvert_exporter": "python",
   "pygments_lexer": "ipython3",
   "version": "3.9.13"
  }
 },
 "nbformat": 4,
 "nbformat_minor": 4
}
