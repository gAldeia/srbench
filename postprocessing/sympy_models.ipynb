{
 "cells": [
  {
   "cell_type": "code",
   "execution_count": 5,
   "metadata": {},
   "outputs": [],
   "source": [
    "import sympy\n",
    "from sympy import Symbol, simplify, factor\n",
    "from sympy.parsing.sympy_parser import parse_expr\n",
    "from yaml import load, Loader\n",
    "from glob import glob\n",
    "import pandas as pd\n",
    "import json\n",
    "\n",
    "symbolic_algs = [\n",
    "    'AFPRegressor',\n",
    "    'AIFeynman',\n",
    "    'BSRRegressor',\n",
    "    'DSRRegressor',\n",
    "    'FFXRegressor',\n",
    "    'FEATRegressor',\n",
    "    'FE_AFPRegressor',\n",
    "    'EPLEXRegressor',\n",
    "    'GPGOMEA',\n",
    "    'gplearn',\n",
    "    'ITEARegressor',\n",
    "    'MRGPRegressor',\n",
    "    'OperonRegressor',\n",
    "    'sembackpropgp'\n",
    "]\n",
    "\n",
    "def get_sym_model(dataset):\n",
    "    \"\"\"return sympy model from dataset metadata\"\"\"\n",
    "    metadata = load(\n",
    "            open('/'.join(dataset.split('/')[:-1])+'/metadata.yaml','r'),\n",
    "            Loader=Loader\n",
    "    )\n",
    "    df = pd.read_csv(dataset,sep='\\t')\n",
    "    features = [c for c in df.columns if c != 'target']\n",
    "#     print('features:',df.columns)\n",
    "    description = metadata['description'].split('\\n')\n",
    "    model_str = [ms for ms in description if '=' in ms][0].split('=')[-1]\n",
    "#     print('model:',model_str)\n",
    "    model_sym = parse_expr(model_str, local_dict = {k:Symbol(k) for k in features})\n",
    "#     print('sym model:',model_sym)\n",
    "    return model_sym"
   ]
  },
  {
   "cell_type": "code",
   "execution_count": 6,
   "metadata": {
    "scrolled": true
   },
   "outputs": [],
   "source": [
    "# dataset = '/home/bill/projects/pmlb/datasets/feynman_III_10_19/feynman_III_10_19.tsv.gz'\n",
    "# dataset = '/home/bill/projects/pmlb/datasets/strogatz_bacres1/strogatz_bacres1.tsv.gz'\n",
    "# dataset = '/home/bill/projects/pmlb/datasets/strogatz_barmag1/strogatz_barmag1.tsv.gz'\n",
    "# for dataset in glob('/home/bill/projects/pmlb/datasets/feynman_*/*.tsv.gz'):\n",
    "#     get_sym_model(dataset)"
   ]
  },
  {
   "cell_type": "code",
   "execution_count": 7,
   "metadata": {
    "scrolled": true
   },
   "outputs": [],
   "source": [
    "# for dataset in glob('/home/bill/projects/pmlb/datasets/strogatz_*/*.tsv.gz'):\n",
    "#     print(dataset.split('/')[-1])\n",
    "#     get_sym_model(dataset)"
   ]
  },
  {
   "cell_type": "markdown",
   "metadata": {},
   "source": [
    "# compare symbolic model to generated ones"
   ]
  },
  {
   "cell_type": "code",
   "execution_count": 11,
   "metadata": {},
   "outputs": [],
   "source": [
    "import re\n",
    "def process_mrgp(best_data):\n",
    "    \"\"\"reads in best model and gets a string version with complexity\"\"\"         \n",
    "    # file structure:                                                           \n",
    "    # 0 mintarget, 1 maxtarget, 2 weights, 3 intercept, 4 model_str             \n",
    "    internal_weights=best_data[2]                                               \n",
    "    intercept = best_data[3]                                                    \n",
    "    model_form = best_data[4]                                                   \n",
    "    # rename functions to python operator names                                 \n",
    "    model_form = model_form.replace('mydivide','div')                           \n",
    "    model_form = model_form.replace('*','mul')                                  \n",
    "    model_form = model_form.replace('-','sub')                                  \n",
    "    # move starting paren to other side of functions                            \n",
    "    model_form = re.sub(                                                        \n",
    "                    pattern=r'\\((.+?(?= ))',                                    \n",
    "                    repl=r'\\1(',                                                \n",
    "                    string=model_form                                           \n",
    "                   )                                                            \n",
    "    #TODO: replace square,cube,quart with pow function                          \n",
    "    # currently matching parens are not captured properly                       \n",
    "    # for op,i in [['square',2],['cube',3],['quart',4]]:                        \n",
    "    #     pattern = op+r'\\((.*?)\\)'                                             \n",
    "    #     model_form = re.sub(pattern=pattern,                                  \n",
    "    #                         repl=r'pow(\\1,'+str(i)+')',                       \n",
    "    #                         string=model_form                                 \n",
    "    #       )                                                                   \n",
    "    complexity_ = 2+len(internal_weights)*3                                     \n",
    "    model_ = ' '.join([b+'*'+ m for b,m in zip(internal_weights.split(' '),     \n",
    "                                      model_form.split(' '))])  \n",
    "def get_pred_model(model_str, dataset, mrgp=False):\n",
    "    if mrgp:\n",
    "        model_str = process_mrgp(model_str)\n",
    "        \n",
    "    df = pd.read_csv(dataset,sep='\\t')\n",
    "    \n",
    "    features = [c for c in df.columns if c != 'target']\n",
    "    local_dict = {k:Symbol(k) for k in features}\n",
    "    new_model_str = model_str\n",
    "    for i,f in enumerate(features): \n",
    "        new_model_str = new_model_str.replace('x'+str(i),f)\n",
    "        new_model_str = new_model_str.replace('x_'+str(i),f)\n",
    "        new_model_str = new_model_str.replace('X_'+str(i),f)\n",
    "        new_model_str = new_model_str.replace('X'+str(i),f)\n",
    "        new_model_str = new_model_str.replace('x[:,{}]'.format(i),f)\n",
    "        new_model_str = new_model_str.replace('x[{}]'.format(i),f)\n",
    "    # operators\n",
    "    new_model_str = new_model_str.replace('^','**')\n",
    "    #GP-GOMEA\n",
    "    new_model_str = new_model_str.replace('p/','/') \n",
    "    new_model_str = new_model_str.replace('plog','log') \n",
    "    new_model_str = new_model_str.replace('aq','/') \n",
    "    # ITEA\n",
    "    new_model_str = re.sub(pattern=r'sqrtAbs\\((.*?)\\)',\n",
    "           repl=r'sqrt(abs(\\1))',\n",
    "           string=new_model_str\n",
    "          )\n",
    "    new_model_str = new_model_str.replace('np.','') \n",
    "#         new_model_str = new_model_str.replace('Sqrt','/') \n",
    "\n",
    "    # replace floating point digits with constants\n",
    "#     constants = re.findall(r'[-+]?\\d*\\.*\\d+',new_model_str)\n",
    "#     print('constants:',constants)\n",
    "#     for i,c in enumerate(constants):\n",
    "#         new_model = new_model_str.replace(c,'C'+str(i))\n",
    "        \n",
    "    print('parsing',new_model_str)\n",
    "    model_sym = parse_expr(new_model_str, local_dict = local_dict)\n",
    "#     simp = model_sym\n",
    "#     print('factor...')\n",
    "#     simp = factor(model_sym)\n",
    "#     print('simplify...')\n",
    "    simp = simplify(model_sym, ratio=1)\n",
    "#     print('simplify...')\n",
    "#     simp = simplify(simp)\n",
    "    return model_sym, simp"
   ]
  },
  {
   "cell_type": "code",
   "execution_count": 12,
   "metadata": {
    "scrolled": true
   },
   "outputs": [],
   "source": [
    "examples = [\n",
    "'../results_pmlb_r1/feynman_III_10_19/feynman_III_10_19_AFPRegressor_22118.json',\n",
    "'../results_pmlb_r1/feynman_III_10_19/feynman_III_10_19_OperonRegressor_11284.json',\n",
    "'../results_pmlb_r1/feynman_III_10_19/feynman_III_10_19_DSRRegressor_22118.json',\n",
    "'../results_pmlb_r1/feynman_III_10_19/feynman_III_10_19_FFXRegressor_6265.json',\n",
    "'../results_pmlb_r1/feynman_III_10_19/feynman_III_10_19_gplearn_29802.json',\n",
    "'../results_pmlb_r1/strogatz_bacres1/strogatz_bacres1_GPGOMEARegressor_21575.json',\n",
    "'../results_pmlb_r1/strogatz_bacres1/strogatz_bacres1_ITEARegressor_15795.json',\n",
    "'../results_pmlb_r1/strogatz_glider1/strogatz_glider1_OperonRegressor_23654.json'\n",
    "]\n",
    "rdir = '../results_pmlb_r1'\n",
    "# for ex in glob(rdir + '/strogatz_*/*.json'):\n",
    "#     if not any([sa in ex for sa in symbolic_algs]): continue\n",
    "def assess(ex): \n",
    "    r = json.load(open(ex, 'r'))\n",
    "    if isinstance(r['symbolic_model'],list):\n",
    "        sm = ['C'+str(i)+'*'+ri for i, ri in enumerate(r['symbolic_model'])]\n",
    "        sm = '+'.join(sm)\n",
    "        r['symbolic_model'] = sm\n",
    "    dataset = r['dataset']\n",
    "    print(80*'=')\n",
    "    print(r['algorithm'],'model of',dataset)\n",
    "    datafile = '/home/bill/projects/pmlb/datasets/'+dataset+'/'+dataset+'.tsv.gz'\n",
    "    true_model = get_sym_model(datafile)\n",
    "    print('true_model:',true_model)\n",
    "    print('raw pred_model:',r['symbolic_model'])\n",
    "    pred_model, simp = get_pred_model(r['symbolic_model'], datafile, 'MRGP' in ex)\n",
    "    print('converted pred_model:',pred_model)\n",
    "    print('simplified pred_model:',simp)\n",
    "#     print('difference:',simplify(true_model-simp, ratio=1))\n",
    "    print('difference:',true_model-simp)\n",
    "    print(80*'=')\n",
    "    \n",
    "    "
   ]
  },
  {
   "cell_type": "code",
   "execution_count": 16,
   "metadata": {},
   "outputs": [
    {
     "ename": "JSONDecodeError",
     "evalue": "Expecting value: line 1 column 1 (char 0)",
     "output_type": "error",
     "traceback": [
      "\u001b[0;31m---------------------------------------------------------------------------\u001b[0m",
      "\u001b[0;31mJSONDecodeError\u001b[0m                           Traceback (most recent call last)",
      "\u001b[0;32m<ipython-input-16-5a35b3f7376b>\u001b[0m in \u001b[0;36m<module>\u001b[0;34m\u001b[0m\n\u001b[1;32m      1\u001b[0m \u001b[0;31m# ex = '../results_sym_data/strogatz_vdp2/strogatz_vdp2_tuned.AFPRegressor_23654.json'\u001b[0m\u001b[0;34m\u001b[0m\u001b[0;34m\u001b[0m\u001b[0;34m\u001b[0m\u001b[0m\n\u001b[1;32m      2\u001b[0m \u001b[0mex\u001b[0m \u001b[0;34m=\u001b[0m \u001b[0;34m'../results_sym_data/strogatz_vdp2/strogatz_vdp2_tuned.AIFeynman_23654.json'\u001b[0m\u001b[0;34m\u001b[0m\u001b[0;34m\u001b[0m\u001b[0m\n\u001b[0;32m----> 3\u001b[0;31m \u001b[0massess\u001b[0m\u001b[0;34m(\u001b[0m\u001b[0mex\u001b[0m\u001b[0;34m)\u001b[0m\u001b[0;34m\u001b[0m\u001b[0;34m\u001b[0m\u001b[0m\n\u001b[0m",
      "\u001b[0;32m<ipython-input-12-c58585e4beef>\u001b[0m in \u001b[0;36massess\u001b[0;34m(ex)\u001b[0m\n\u001b[1;32m     13\u001b[0m \u001b[0;31m#     if not any([sa in ex for sa in symbolic_algs]): continue\u001b[0m\u001b[0;34m\u001b[0m\u001b[0;34m\u001b[0m\u001b[0;34m\u001b[0m\u001b[0m\n\u001b[1;32m     14\u001b[0m \u001b[0;32mdef\u001b[0m \u001b[0massess\u001b[0m\u001b[0;34m(\u001b[0m\u001b[0mex\u001b[0m\u001b[0;34m)\u001b[0m\u001b[0;34m:\u001b[0m\u001b[0;34m\u001b[0m\u001b[0;34m\u001b[0m\u001b[0m\n\u001b[0;32m---> 15\u001b[0;31m     \u001b[0mr\u001b[0m \u001b[0;34m=\u001b[0m \u001b[0mjson\u001b[0m\u001b[0;34m.\u001b[0m\u001b[0mload\u001b[0m\u001b[0;34m(\u001b[0m\u001b[0mopen\u001b[0m\u001b[0;34m(\u001b[0m\u001b[0mex\u001b[0m\u001b[0;34m,\u001b[0m \u001b[0;34m'r'\u001b[0m\u001b[0;34m)\u001b[0m\u001b[0;34m)\u001b[0m\u001b[0;34m\u001b[0m\u001b[0;34m\u001b[0m\u001b[0m\n\u001b[0m\u001b[1;32m     16\u001b[0m     \u001b[0;32mif\u001b[0m \u001b[0misinstance\u001b[0m\u001b[0;34m(\u001b[0m\u001b[0mr\u001b[0m\u001b[0;34m[\u001b[0m\u001b[0;34m'symbolic_model'\u001b[0m\u001b[0;34m]\u001b[0m\u001b[0;34m,\u001b[0m\u001b[0mlist\u001b[0m\u001b[0;34m)\u001b[0m\u001b[0;34m:\u001b[0m\u001b[0;34m\u001b[0m\u001b[0;34m\u001b[0m\u001b[0m\n\u001b[1;32m     17\u001b[0m         \u001b[0msm\u001b[0m \u001b[0;34m=\u001b[0m \u001b[0;34m[\u001b[0m\u001b[0;34m'C'\u001b[0m\u001b[0;34m+\u001b[0m\u001b[0mstr\u001b[0m\u001b[0;34m(\u001b[0m\u001b[0mi\u001b[0m\u001b[0;34m)\u001b[0m\u001b[0;34m+\u001b[0m\u001b[0;34m'*'\u001b[0m\u001b[0;34m+\u001b[0m\u001b[0mri\u001b[0m \u001b[0;32mfor\u001b[0m \u001b[0mi\u001b[0m\u001b[0;34m,\u001b[0m \u001b[0mri\u001b[0m \u001b[0;32min\u001b[0m \u001b[0menumerate\u001b[0m\u001b[0;34m(\u001b[0m\u001b[0mr\u001b[0m\u001b[0;34m[\u001b[0m\u001b[0;34m'symbolic_model'\u001b[0m\u001b[0;34m]\u001b[0m\u001b[0;34m)\u001b[0m\u001b[0;34m]\u001b[0m\u001b[0;34m\u001b[0m\u001b[0;34m\u001b[0m\u001b[0m\n",
      "\u001b[0;32m~/anaconda3/lib/python3.8/json/__init__.py\u001b[0m in \u001b[0;36mload\u001b[0;34m(fp, cls, object_hook, parse_float, parse_int, parse_constant, object_pairs_hook, **kw)\u001b[0m\n\u001b[1;32m    291\u001b[0m     \u001b[0mkwarg\u001b[0m\u001b[0;34m;\u001b[0m \u001b[0motherwise\u001b[0m\u001b[0;31m \u001b[0m\u001b[0;31m`\u001b[0m\u001b[0;31m`\u001b[0m\u001b[0mJSONDecoder\u001b[0m\u001b[0;31m`\u001b[0m\u001b[0;31m`\u001b[0m \u001b[0;32mis\u001b[0m \u001b[0mused\u001b[0m\u001b[0;34m.\u001b[0m\u001b[0;34m\u001b[0m\u001b[0;34m\u001b[0m\u001b[0m\n\u001b[1;32m    292\u001b[0m     \"\"\"\n\u001b[0;32m--> 293\u001b[0;31m     return loads(fp.read(),\n\u001b[0m\u001b[1;32m    294\u001b[0m         \u001b[0mcls\u001b[0m\u001b[0;34m=\u001b[0m\u001b[0mcls\u001b[0m\u001b[0;34m,\u001b[0m \u001b[0mobject_hook\u001b[0m\u001b[0;34m=\u001b[0m\u001b[0mobject_hook\u001b[0m\u001b[0;34m,\u001b[0m\u001b[0;34m\u001b[0m\u001b[0;34m\u001b[0m\u001b[0m\n\u001b[1;32m    295\u001b[0m         \u001b[0mparse_float\u001b[0m\u001b[0;34m=\u001b[0m\u001b[0mparse_float\u001b[0m\u001b[0;34m,\u001b[0m \u001b[0mparse_int\u001b[0m\u001b[0;34m=\u001b[0m\u001b[0mparse_int\u001b[0m\u001b[0;34m,\u001b[0m\u001b[0;34m\u001b[0m\u001b[0;34m\u001b[0m\u001b[0m\n",
      "\u001b[0;32m~/anaconda3/lib/python3.8/json/__init__.py\u001b[0m in \u001b[0;36mloads\u001b[0;34m(s, cls, object_hook, parse_float, parse_int, parse_constant, object_pairs_hook, **kw)\u001b[0m\n\u001b[1;32m    355\u001b[0m             \u001b[0mparse_int\u001b[0m \u001b[0;32mis\u001b[0m \u001b[0;32mNone\u001b[0m \u001b[0;32mand\u001b[0m \u001b[0mparse_float\u001b[0m \u001b[0;32mis\u001b[0m \u001b[0;32mNone\u001b[0m \u001b[0;32mand\u001b[0m\u001b[0;34m\u001b[0m\u001b[0;34m\u001b[0m\u001b[0m\n\u001b[1;32m    356\u001b[0m             parse_constant is None and object_pairs_hook is None and not kw):\n\u001b[0;32m--> 357\u001b[0;31m         \u001b[0;32mreturn\u001b[0m \u001b[0m_default_decoder\u001b[0m\u001b[0;34m.\u001b[0m\u001b[0mdecode\u001b[0m\u001b[0;34m(\u001b[0m\u001b[0ms\u001b[0m\u001b[0;34m)\u001b[0m\u001b[0;34m\u001b[0m\u001b[0;34m\u001b[0m\u001b[0m\n\u001b[0m\u001b[1;32m    358\u001b[0m     \u001b[0;32mif\u001b[0m \u001b[0mcls\u001b[0m \u001b[0;32mis\u001b[0m \u001b[0;32mNone\u001b[0m\u001b[0;34m:\u001b[0m\u001b[0;34m\u001b[0m\u001b[0;34m\u001b[0m\u001b[0m\n\u001b[1;32m    359\u001b[0m         \u001b[0mcls\u001b[0m \u001b[0;34m=\u001b[0m \u001b[0mJSONDecoder\u001b[0m\u001b[0;34m\u001b[0m\u001b[0;34m\u001b[0m\u001b[0m\n",
      "\u001b[0;32m~/anaconda3/lib/python3.8/json/decoder.py\u001b[0m in \u001b[0;36mdecode\u001b[0;34m(self, s, _w)\u001b[0m\n\u001b[1;32m    335\u001b[0m \u001b[0;34m\u001b[0m\u001b[0m\n\u001b[1;32m    336\u001b[0m         \"\"\"\n\u001b[0;32m--> 337\u001b[0;31m         \u001b[0mobj\u001b[0m\u001b[0;34m,\u001b[0m \u001b[0mend\u001b[0m \u001b[0;34m=\u001b[0m \u001b[0mself\u001b[0m\u001b[0;34m.\u001b[0m\u001b[0mraw_decode\u001b[0m\u001b[0;34m(\u001b[0m\u001b[0ms\u001b[0m\u001b[0;34m,\u001b[0m \u001b[0midx\u001b[0m\u001b[0;34m=\u001b[0m\u001b[0m_w\u001b[0m\u001b[0;34m(\u001b[0m\u001b[0ms\u001b[0m\u001b[0;34m,\u001b[0m \u001b[0;36m0\u001b[0m\u001b[0;34m)\u001b[0m\u001b[0;34m.\u001b[0m\u001b[0mend\u001b[0m\u001b[0;34m(\u001b[0m\u001b[0;34m)\u001b[0m\u001b[0;34m)\u001b[0m\u001b[0;34m\u001b[0m\u001b[0;34m\u001b[0m\u001b[0m\n\u001b[0m\u001b[1;32m    338\u001b[0m         \u001b[0mend\u001b[0m \u001b[0;34m=\u001b[0m \u001b[0m_w\u001b[0m\u001b[0;34m(\u001b[0m\u001b[0ms\u001b[0m\u001b[0;34m,\u001b[0m \u001b[0mend\u001b[0m\u001b[0;34m)\u001b[0m\u001b[0;34m.\u001b[0m\u001b[0mend\u001b[0m\u001b[0;34m(\u001b[0m\u001b[0;34m)\u001b[0m\u001b[0;34m\u001b[0m\u001b[0;34m\u001b[0m\u001b[0m\n\u001b[1;32m    339\u001b[0m         \u001b[0;32mif\u001b[0m \u001b[0mend\u001b[0m \u001b[0;34m!=\u001b[0m \u001b[0mlen\u001b[0m\u001b[0;34m(\u001b[0m\u001b[0ms\u001b[0m\u001b[0;34m)\u001b[0m\u001b[0;34m:\u001b[0m\u001b[0;34m\u001b[0m\u001b[0;34m\u001b[0m\u001b[0m\n",
      "\u001b[0;32m~/anaconda3/lib/python3.8/json/decoder.py\u001b[0m in \u001b[0;36mraw_decode\u001b[0;34m(self, s, idx)\u001b[0m\n\u001b[1;32m    353\u001b[0m             \u001b[0mobj\u001b[0m\u001b[0;34m,\u001b[0m \u001b[0mend\u001b[0m \u001b[0;34m=\u001b[0m \u001b[0mself\u001b[0m\u001b[0;34m.\u001b[0m\u001b[0mscan_once\u001b[0m\u001b[0;34m(\u001b[0m\u001b[0ms\u001b[0m\u001b[0;34m,\u001b[0m \u001b[0midx\u001b[0m\u001b[0;34m)\u001b[0m\u001b[0;34m\u001b[0m\u001b[0;34m\u001b[0m\u001b[0m\n\u001b[1;32m    354\u001b[0m         \u001b[0;32mexcept\u001b[0m \u001b[0mStopIteration\u001b[0m \u001b[0;32mas\u001b[0m \u001b[0merr\u001b[0m\u001b[0;34m:\u001b[0m\u001b[0;34m\u001b[0m\u001b[0;34m\u001b[0m\u001b[0m\n\u001b[0;32m--> 355\u001b[0;31m             \u001b[0;32mraise\u001b[0m \u001b[0mJSONDecodeError\u001b[0m\u001b[0;34m(\u001b[0m\u001b[0;34m\"Expecting value\"\u001b[0m\u001b[0;34m,\u001b[0m \u001b[0ms\u001b[0m\u001b[0;34m,\u001b[0m \u001b[0merr\u001b[0m\u001b[0;34m.\u001b[0m\u001b[0mvalue\u001b[0m\u001b[0;34m)\u001b[0m \u001b[0;32mfrom\u001b[0m \u001b[0;32mNone\u001b[0m\u001b[0;34m\u001b[0m\u001b[0;34m\u001b[0m\u001b[0m\n\u001b[0m\u001b[1;32m    356\u001b[0m         \u001b[0;32mreturn\u001b[0m \u001b[0mobj\u001b[0m\u001b[0;34m,\u001b[0m \u001b[0mend\u001b[0m\u001b[0;34m\u001b[0m\u001b[0;34m\u001b[0m\u001b[0m\n",
      "\u001b[0;31mJSONDecodeError\u001b[0m: Expecting value: line 1 column 1 (char 0)"
     ]
    }
   ],
   "source": [
    "# ex = '../results_sym_data/strogatz_vdp2/strogatz_vdp2_tuned.AFPRegressor_23654.json'\n",
    "ex = '../results_sym_data/strogatz_vdp2/strogatz_vdp2_tuned.AIFeynman_23654.json'\n",
    "assess(ex)\n"
   ]
  },
  {
   "cell_type": "code",
   "execution_count": null,
   "metadata": {},
   "outputs": [],
   "source": [
    "model_str = '-0.5193796813204485,4.130491970555556,-0.7334227722845027 -0.4420849780293733 0.11011374002722484 0.0 -0.05253410777465981 0.0 -2.4521794519812034E-5 -1.477740092046933E-5 4.6562008138897446E-5 0.0 -0.021331899129844074 0.0 0.0 0.008196015389612293 0.0 0.0 -0.002695666304331192 0.0 0.0 -3.7379378890512117E-4 -0.02052241989325296 0.0 0.0 0.0 -8.272653031457096E-5 0.0 0.0 -0.011342590566753909 -0.00154153743023166 0.0 -0.005081943057842678 -0.0013633105435522624 0.0 0.0 0.0 0.0 0.0 0.0 0.0 1.8296524089695643E-10,0.03617020314319655,(mydivide (* (cube (exp (mylog (* (sqrt X1) (* (exp (mylog X2)) (cube (exp (mylog (* (exp X2) (cube X1)))))))))) (* (cube (square (sqrt X1))) (mydivide (square X1) (quart (square X1))))) (- (quart (* X2 X1)) (quart (sqrt (cube X1)))))'\n",
    "best_data = model_str.split(',')               \n",
    "# file structure:                                                              \n",
    "# mintarget, maxtarget, weights, intercept, model_str            \n",
    "internal_weights=best_data[2]                                               \n",
    "intercept = best_data[3]                                                    \n",
    "model_form = best_data[4]                                                   \n",
    "# weighted_model =                                                            \n",
    "# model_ = intercept '+' scale '*( ' + weighted_model + ' )'  \n",
    "\n",
    "model_form = model_form.replace('mydivide','div').replace('*','mul').replace('-','sub')"
   ]
  },
  {
   "cell_type": "code",
   "execution_count": null,
   "metadata": {},
   "outputs": [],
   "source": [
    "model_form = re.sub(\n",
    "                    pattern=r'\\((.+?(?= ))',\n",
    "                    repl=r'\\1(',\n",
    "                    string=model_form\n",
    "                   )"
   ]
  },
  {
   "cell_type": "code",
   "execution_count": null,
   "metadata": {},
   "outputs": [],
   "source": [
    "# re.sub(pattern=r'quart\\((.*?)\\)',\n",
    "#            repl=r'pow(\\1,4)',\n",
    "#            string=new_model_str\n",
    "#           )\n",
    "# re.sub(pattern=r'square\\((.*?)\\)',\n",
    "#            repl=r'pow(\\1,2)',\n",
    "#            string=new_model_str\n",
    "#           )\n",
    "# re.sub(pattern=r'cube\\((.*?)\\)',\n",
    "#            repl=r'pow(\\1,3)',\n",
    "#            string=new_model_str\n",
    "#           )\n",
    "for op,i in [['square',2],['cube',3],['quart',4]]:                          \n",
    "    pattern = op+r'\\((.*?)\\)'                                               \n",
    "    model_form = re.sub(pattern=pattern,                                    \n",
    "       repl=r'pow(\\1,'+str(i)+')',                                          \n",
    "       string=model_form                                                    \n",
    "      )  \n",
    "model_form"
   ]
  },
  {
   "cell_type": "code",
   "execution_count": null,
   "metadata": {
    "scrolled": true
   },
   "outputs": [],
   "source": [
    "model_form.split(' ')\n"
   ]
  },
  {
   "cell_type": "code",
   "execution_count": null,
   "metadata": {},
   "outputs": [],
   "source": [
    "print(len(internal_weights.split(' ')),\n",
    "      len(model_form.split(' ')),\n",
    "      len(model_form.split('('))\n",
    "     )"
   ]
  },
  {
   "cell_type": "code",
   "execution_count": null,
   "metadata": {},
   "outputs": [],
   "source": [
    "# ' '.join(['('+b+'*'+ m+')'  for b,m in zip(internal_weights.split(' '),model_form.split(' '))])\n",
    "' '.join(['('+b+'*'+m[1:] if m.startswith('(') else b+'*'+ m  \n",
    " for b,m in zip(internal_weights.split(' '),model_form.split(' '))])"
   ]
  },
  {
   "cell_type": "code",
   "execution_count": null,
   "metadata": {},
   "outputs": [],
   "source": [
    "frames = []\n",
    "comparison_cols = [\n",
    "    'dataset',\n",
    "    'algorithm',\n",
    "    'random_state',\n",
    "    'time_time',\n",
    "    'model_size',\n",
    "    'symbolic_model',\n",
    "    'r2_test',\n",
    "    'mse_test',\n",
    "    'mae_test'\n",
    "]\n",
    "fails = []\n",
    "import pdb\n",
    "for f in tqdm(glob(rdir + '/*/*.json')):\n",
    "    if 'cv_results' in f: \n",
    "        continue\n",
    "    try: \n",
    "        r = json.load(open(f,'r'))\n",
    "        if isinstance(r['symbolic_model'],list):\n",
    "#             print(f)\n",
    "            sm = ['B'+str(i)+'*'+ri for i, ri in enumerate(r['symbolic_model'])]\n",
    "            sm = '+'.join(sm)\n",
    "            r['symbolic_model'] = sm\n",
    "            \n",
    "        sub_r = {k:v for k,v in r.items() if k in comparison_cols}\n",
    "        frames.append(sub_r) \n",
    "    except Exception as e:\n",
    "        fails.append([f,e])\n",
    "        pass"
   ]
  }
 ],
 "metadata": {
  "kernelspec": {
   "display_name": "Python 3",
   "language": "python",
   "name": "python3"
  },
  "language_info": {
   "codemirror_mode": {
    "name": "ipython",
    "version": 3
   },
   "file_extension": ".py",
   "mimetype": "text/x-python",
   "name": "python",
   "nbconvert_exporter": "python",
   "pygments_lexer": "ipython3",
   "version": "3.8.5"
  }
 },
 "nbformat": 4,
 "nbformat_minor": 4
}
