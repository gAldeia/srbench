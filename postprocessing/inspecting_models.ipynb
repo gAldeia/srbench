{
 "cells": [
  {
   "cell_type": "code",
   "execution_count": 1,
   "metadata": {},
   "outputs": [
    {
     "name": "stdout",
     "output_type": "stream",
     "text": [
      "figdir: ../paper/\n"
     ]
    }
   ],
   "source": [
    "import pandas as pd\n",
    "import json\n",
    "import numpy as np\n",
    "from glob import glob\n",
    "from tqdm import tqdm\n",
    "import seaborn as sns\n",
    "import matplotlib.pyplot as plt\n",
    "import matplotlib\n",
    "\n",
    "matplotlib.rc('pdf', fonttype=42)\n",
    "matplotlib.rc('ps', fonttype=42)\n",
    "\n",
    "import os\n",
    "sns.set(font_scale=1.25, style='whitegrid')\n",
    "sns.set(palette='magma')\n",
    "\n",
    "# rdir = '../results/'\n",
    "rdir = '../results_blackbox/'\n",
    "# figdir = 'figs/black-box' \n",
    "figdir = '../paper/'\n",
    "# Set to path to PMLB datasets\n",
    "datadir = '../datasets/pmlb/datasets/'\n",
    "print('figdir:',figdir)\n",
    "def save(name='tmp',h=None):\n",
    "    name = name.strip().replace(' ','-').replace('%','pct')\n",
    "    if h == None:\n",
    "        h = plt.gcf()\n",
    "    h.tight_layout()\n",
    "    print('saving',figdir+'/'+name+'.pdf')\n",
    "    if not os.path.exists(figdir):\n",
    "        os.makedirs(figdir)\n",
    "    plt.savefig(figdir+'/'+name+'.pdf', bbox_inches='tight')\n",
    "    "
   ]
  },
  {
   "cell_type": "code",
   "execution_count": 2,
   "metadata": {},
   "outputs": [],
   "source": [
    "##########\n",
    "# load results\n",
    "##########\n",
    "df_results = pd.read_feather('../results/black-box_results_srbench.feather')\n",
    "\n",
    "df_results = pd.concat([pd.read_feather('../results/black-box_results_brush_250.feather'), df_results], axis=0)\n",
    "# df_results = pd.concat([pd.read_feather('../results/black-box_results_pstree.feather'), df_results], axis=0)\n",
    "\n",
    "# df_results.reset_index()\n",
    "\n",
    "# Removing mislabeled datasets (these are clf, but PMLB v1.0 had it as regr)\n",
    "df_results = df_results[ ~df_results[\"dataset\"].isin([\"banana\", \"titanic\"]) ]\n"
   ]
  },
  {
   "cell_type": "code",
   "execution_count": 3,
   "metadata": {},
   "outputs": [
    {
     "data": {
      "text/plain": [
       "Index(['dataset', 'algorithm', 'random_state', 'training time (s)',\n",
       "       'symbolic_model', 'mse_test', 'mae_test', 'r2_test', 'model_size',\n",
       "       'params_str', 'training time (hr)', 'r2_zero_test', 'friedman_dataset',\n",
       "       'symbolic_alg'],\n",
       "      dtype='object')"
      ]
     },
     "execution_count": 3,
     "metadata": {},
     "output_type": "execute_result"
    }
   ],
   "source": [
    "df_results.columns"
   ]
  },
  {
   "cell_type": "code",
   "execution_count": 7,
   "metadata": {},
   "outputs": [
    {
     "name": "stdout",
     "output_type": "stream",
     "text": [
      "Brush 158 0.1302555647155812\n",
      "Brush wo split 0 0.0\n",
      "Brush wo split (D-UCB1) 0 0.0\n",
      "Brush (D-UCB1) 167 0.1374485596707819\n"
     ]
    }
   ],
   "source": [
    "for brush in ['Brush',\n",
    "    'Brush wo split',\n",
    "    'Brush wo split (D-UCB1)',\n",
    "    \"Brush (D-UCB1)\",\n",
    "]:\n",
    "    df_aux = df_results[\n",
    "        (df_results['algorithm']==brush)\n",
    "        & (df_results['symbolic_model'].str.contains(\"If\"))\n",
    "    ]\n",
    "    perc = df_aux.shape[0]/df_results[df_results['algorithm']==brush].shape[0]\n",
    "    print(brush, df_aux.shape[0], perc)\n"
   ]
  },
  {
   "cell_type": "code",
   "execution_count": 5,
   "metadata": {},
   "outputs": [
    {
     "data": {
      "text/html": [
       "<div>\n",
       "<style scoped>\n",
       "    .dataframe tbody tr th:only-of-type {\n",
       "        vertical-align: middle;\n",
       "    }\n",
       "\n",
       "    .dataframe tbody tr th {\n",
       "        vertical-align: top;\n",
       "    }\n",
       "\n",
       "    .dataframe thead th {\n",
       "        text-align: right;\n",
       "    }\n",
       "</style>\n",
       "<table border=\"1\" class=\"dataframe\">\n",
       "  <thead>\n",
       "    <tr style=\"text-align: right;\">\n",
       "      <th></th>\n",
       "      <th>dataset</th>\n",
       "      <th>r2_test</th>\n",
       "      <th>mse_test</th>\n",
       "      <th>symbolic_model</th>\n",
       "    </tr>\n",
       "  </thead>\n",
       "  <tbody>\n",
       "    <tr>\n",
       "      <th>15</th>\n",
       "      <td>195_auto_price</td>\n",
       "      <td>0.847380</td>\n",
       "      <td>6.095118e+06</td>\n",
       "      <td>If(highway-mpg&gt;-2.05,0.11*Sub(Mul(0.66*Add(2.35*Atan(4237.12*horsepower),Square(-0.94*peak-rpm)),Ceil(0.86*Ceil(1.44*wheel-base))),Floor(1.00*Add(-6.05*curb-weight,1.94))),1.56*width)</td>\n",
       "    </tr>\n",
       "    <tr>\n",
       "      <th>61</th>\n",
       "      <td>195_auto_price</td>\n",
       "      <td>0.473199</td>\n",
       "      <td>2.117579e+07</td>\n",
       "      <td>If(curb-weight&gt;2.18,3.58,0.18*Sub(Sub(Sub(Atan(9.81*horsepower),If(highway-mpg&gt;-1.72,-1.53*curb-weight,11.34)),Sinh(-1.22*width)),4.95*Sin(0.44*Log1p(Cos(-1.49*normalized-losses)))))</td>\n",
       "    </tr>\n",
       "    <tr>\n",
       "      <th>77</th>\n",
       "      <td>nikuradse_1</td>\n",
       "      <td>0.985547</td>\n",
       "      <td>3.625310e-04</td>\n",
       "      <td>Add(1.16*Sinh(0.47*Sub(If(r_k&gt;-0.74,Logabs(0.26),-3.48),1.05*Log1p(4.17*Atan(0.31*r_k)))),Div(Abs(Add(1.12*Sinh(-0.02*log_Re),0.09*Atan(0.74*r_k))),Sqrtabs(0.05*Logistic(Sub(1.00,-2.03*log_Re)))))</td>\n",
       "    </tr>\n",
       "    <tr>\n",
       "      <th>88</th>\n",
       "      <td>nikuradse_1</td>\n",
       "      <td>0.994584</td>\n",
       "      <td>1.280734e-04</td>\n",
       "      <td>0.77*Sub(Sub(0.69*Sinh(0.47*Add(0.93*Exp(-2.58*r_k),-2.48)),Sqrtabs(0.23)),Mul(Tanh(Sub(If(r_k&gt;-0.71,0.67*r_k,0.32*log_Re),Sub(0.05,-0.25*log_Re))),Log1p(Tanh(Sub(1.65*log_Re,-1.11)))))</td>\n",
       "    </tr>\n",
       "    <tr>\n",
       "      <th>93</th>\n",
       "      <td>nikuradse_1</td>\n",
       "      <td>0.983905</td>\n",
       "      <td>3.719699e-04</td>\n",
       "      <td>1.71*Sub(1.40*Sub(1.25*Exp(Add(0.35*Sinh(-1.87*r_k),0.25*Log1p(0.47*log_Re))),Exp(0.45)),If(r_k&gt;-0.72,1.46*Add(0.91*Log1p(Log1p(0.26*log_Re)),Sub(Log1p(-0.10*log_Re),Sin(0.56*r_k))),Atan(Sub(Sinh(0.52*log_Re),-0.47))))</td>\n",
       "    </tr>\n",
       "    <tr>\n",
       "      <th>...</th>\n",
       "      <td>...</td>\n",
       "      <td>...</td>\n",
       "      <td>...</td>\n",
       "      <td>...</td>\n",
       "    </tr>\n",
       "    <tr>\n",
       "      <th>8324</th>\n",
       "      <td>663_rabe_266</td>\n",
       "      <td>0.999119</td>\n",
       "      <td>1.939278e+00</td>\n",
       "      <td>1.63*Add(-8.52*Tanh(0.86*Sub(0.20*Log1p(0.95*Log1p(0.26*col_2)),1.05*Sub(1.15*Exp(0.20*col_1),If(col_1&gt;-0.87,0.40,1.40)))),Add(Add(-5.13,If(col_1&gt;-0.87,Atan(-0.56*col_1),7.56*Cosh(-0.25*col_1))),5.16*Div(Sin(0.03*col_2),Abs(-1.56))))</td>\n",
       "    </tr>\n",
       "    <tr>\n",
       "      <th>8349</th>\n",
       "      <td>663_rabe_266</td>\n",
       "      <td>0.998195</td>\n",
       "      <td>2.829246e+00</td>\n",
       "      <td>3.13*Atan(0.57*Sub(If(col_1&gt;0.23,Exp(0.32*Asin(0.60*col_1)),If(col_2&gt;-1.40,Add(1.82,-0.74),1.03)),0.32*Mul(0.44*Sub(1.04*Log1p(0.50*col_2),Sub(-3.33,-0.15*col_2)),Exp(1.75*Logistic(-1.09*col_1)))))</td>\n",
       "    </tr>\n",
       "    <tr>\n",
       "      <th>8413</th>\n",
       "      <td>4544_GeographicalOriginalofMusic</td>\n",
       "      <td>0.790648</td>\n",
       "      <td>1.643497e-01</td>\n",
       "      <td>6.56*Sub(Add(Atan(0.05*Sinh(2.10*Sin(0.49*V101))),0.02*V98),Add(Add(If(V39&gt;5.35,V91,-0.11*V42),-0.01*V60),Sub(0.69*Add(Log1p(0.08*V43),Asin(0.05*V45)),Add(Sub(0.04*V103,-0.02*V99),Add(0.02*V71,-0.02*V40)))))</td>\n",
       "    </tr>\n",
       "    <tr>\n",
       "      <th>8451</th>\n",
       "      <td>1030_ERA</td>\n",
       "      <td>0.289275</td>\n",
       "      <td>3.007789e+00</td>\n",
       "      <td>2.28*Sub(0.15*Sub(0.55*Exp(1.01*Sub(If(in2&gt;-0.23,in2,0.48),Sub(-0.30*in1,0.27*in3))),Logistic(-1.57*in3)),Sub(1.24*Add(0.20*Sub(Add(-2.65,0.45*in4),1.29*Logistic(9.09*in2)),Acos(0.09*in1)),Exp(0.16*in4)))</td>\n",
       "    </tr>\n",
       "    <tr>\n",
       "      <th>8486</th>\n",
       "      <td>1030_ERA</td>\n",
       "      <td>0.386449</td>\n",
       "      <td>2.509659e+00</td>\n",
       "      <td>0.33*Add(1.41*Sinh(Add(Sub(0.63*Add(in1,-1.31),Atan(-0.26*in3)),Log1p(Exp(in2)))),Sin(Sin(If(in2&gt;-0.25,Sub(1.40*in2,0.35),1.53*in4))))</td>\n",
       "    </tr>\n",
       "  </tbody>\n",
       "</table>\n",
       "<p>167 rows × 4 columns</p>\n",
       "</div>"
      ],
      "text/plain": [
       "                               dataset   r2_test      mse_test  \\\n",
       "15                      195_auto_price  0.847380  6.095118e+06   \n",
       "61                      195_auto_price  0.473199  2.117579e+07   \n",
       "77                         nikuradse_1  0.985547  3.625310e-04   \n",
       "88                         nikuradse_1  0.994584  1.280734e-04   \n",
       "93                         nikuradse_1  0.983905  3.719699e-04   \n",
       "...                                ...       ...           ...   \n",
       "8324                      663_rabe_266  0.999119  1.939278e+00   \n",
       "8349                      663_rabe_266  0.998195  2.829246e+00   \n",
       "8413  4544_GeographicalOriginalofMusic  0.790648  1.643497e-01   \n",
       "8451                          1030_ERA  0.289275  3.007789e+00   \n",
       "8486                          1030_ERA  0.386449  2.509659e+00   \n",
       "\n",
       "                                                                                                                                                                                                                                 symbolic_model  \n",
       "15                                                      If(highway-mpg>-2.05,0.11*Sub(Mul(0.66*Add(2.35*Atan(4237.12*horsepower),Square(-0.94*peak-rpm)),Ceil(0.86*Ceil(1.44*wheel-base))),Floor(1.00*Add(-6.05*curb-weight,1.94))),1.56*width)  \n",
       "61                                                       If(curb-weight>2.18,3.58,0.18*Sub(Sub(Sub(Atan(9.81*horsepower),If(highway-mpg>-1.72,-1.53*curb-weight,11.34)),Sinh(-1.22*width)),4.95*Sin(0.44*Log1p(Cos(-1.49*normalized-losses)))))  \n",
       "77                                         Add(1.16*Sinh(0.47*Sub(If(r_k>-0.74,Logabs(0.26),-3.48),1.05*Log1p(4.17*Atan(0.31*r_k)))),Div(Abs(Add(1.12*Sinh(-0.02*log_Re),0.09*Atan(0.74*r_k))),Sqrtabs(0.05*Logistic(Sub(1.00,-2.03*log_Re)))))  \n",
       "88                                                    0.77*Sub(Sub(0.69*Sinh(0.47*Add(0.93*Exp(-2.58*r_k),-2.48)),Sqrtabs(0.23)),Mul(Tanh(Sub(If(r_k>-0.71,0.67*r_k,0.32*log_Re),Sub(0.05,-0.25*log_Re))),Log1p(Tanh(Sub(1.65*log_Re,-1.11)))))  \n",
       "93                   1.71*Sub(1.40*Sub(1.25*Exp(Add(0.35*Sinh(-1.87*r_k),0.25*Log1p(0.47*log_Re))),Exp(0.45)),If(r_k>-0.72,1.46*Add(0.91*Log1p(Log1p(0.26*log_Re)),Sub(Log1p(-0.10*log_Re),Sin(0.56*r_k))),Atan(Sub(Sinh(0.52*log_Re),-0.47))))  \n",
       "...                                                                                                                                                                                                                                         ...  \n",
       "8324  1.63*Add(-8.52*Tanh(0.86*Sub(0.20*Log1p(0.95*Log1p(0.26*col_2)),1.05*Sub(1.15*Exp(0.20*col_1),If(col_1>-0.87,0.40,1.40)))),Add(Add(-5.13,If(col_1>-0.87,Atan(-0.56*col_1),7.56*Cosh(-0.25*col_1))),5.16*Div(Sin(0.03*col_2),Abs(-1.56))))  \n",
       "8349                                      3.13*Atan(0.57*Sub(If(col_1>0.23,Exp(0.32*Asin(0.60*col_1)),If(col_2>-1.40,Add(1.82,-0.74),1.03)),0.32*Mul(0.44*Sub(1.04*Log1p(0.50*col_2),Sub(-3.33,-0.15*col_2)),Exp(1.75*Logistic(-1.09*col_1)))))  \n",
       "8413                            6.56*Sub(Add(Atan(0.05*Sinh(2.10*Sin(0.49*V101))),0.02*V98),Add(Add(If(V39>5.35,V91,-0.11*V42),-0.01*V60),Sub(0.69*Add(Log1p(0.08*V43),Asin(0.05*V45)),Add(Sub(0.04*V103,-0.02*V99),Add(0.02*V71,-0.02*V40)))))  \n",
       "8451                               2.28*Sub(0.15*Sub(0.55*Exp(1.01*Sub(If(in2>-0.23,in2,0.48),Sub(-0.30*in1,0.27*in3))),Logistic(-1.57*in3)),Sub(1.24*Add(0.20*Sub(Add(-2.65,0.45*in4),1.29*Logistic(9.09*in2)),Acos(0.09*in1)),Exp(0.16*in4)))  \n",
       "8486                                                                                                     0.33*Add(1.41*Sinh(Add(Sub(0.63*Add(in1,-1.31),Atan(-0.26*in3)),Log1p(Exp(in2)))),Sin(Sin(If(in2>-0.25,Sub(1.40*in2,0.35),1.53*in4))))  \n",
       "\n",
       "[167 rows x 4 columns]"
      ]
     },
     "metadata": {},
     "output_type": "display_data"
    }
   ],
   "source": [
    "with pd.option_context('display.max_colwidth', None):\n",
    "    df_aux = df_results[\n",
    "        (df_results['algorithm']=='Brush (D-UCB1)')\n",
    "        & (df_results['symbolic_model'].str.contains(\"If\"))\n",
    "    ][['dataset', 'r2_test', 'mse_test', 'symbolic_model']]\n",
    "\n",
    "    df_aux.to_csv(\"./inspecting_models.csv\")\n",
    "    display(df_aux)"
   ]
  },
  {
   "cell_type": "code",
   "execution_count": 6,
   "metadata": {},
   "outputs": [
    {
     "ename": "NameError",
     "evalue": "name 'Add' is not defined",
     "output_type": "error",
     "traceback": [
      "\u001b[0;31m---------------------------------------------------------------------------\u001b[0m",
      "\u001b[0;31mNameError\u001b[0m                                 Traceback (most recent call last)",
      "Cell \u001b[0;32mIn[6], line 1\u001b[0m\n\u001b[0;32m----> 1\u001b[0m \u001b[43mAdd\u001b[49m(\n\u001b[1;32m      2\u001b[0m     \u001b[38;5;241m0.17\u001b[39m\u001b[38;5;241m*\u001b[39mAdd(\n\u001b[1;32m      3\u001b[0m         Add(\n\u001b[1;32m      4\u001b[0m             Add(\n\u001b[1;32m      5\u001b[0m                 If(freeswap\u001b[38;5;241m>\u001b[39m\u001b[38;5;241m-\u001b[39m\u001b[38;5;241m2.02\u001b[39m,\n\u001b[1;32m      6\u001b[0m                    \u001b[38;5;241m-\u001b[39m\u001b[38;5;241m0.78\u001b[39m\u001b[38;5;241m*\u001b[39mvflt,\n\u001b[1;32m      7\u001b[0m                    \u001b[38;5;241m8.94\u001b[39m\u001b[38;5;241m*\u001b[39mfreeswap\n\u001b[1;32m      8\u001b[0m                 ),\n\u001b[1;32m      9\u001b[0m                 Add(\n\u001b[1;32m     10\u001b[0m                     \u001b[38;5;241m-\u001b[39m\u001b[38;5;241m0.47\u001b[39m\u001b[38;5;241m*\u001b[39mexec,\n\u001b[1;32m     11\u001b[0m                     \u001b[38;5;241m-\u001b[39m\u001b[38;5;241m0.19\u001b[39m\u001b[38;5;241m*\u001b[39mlread\n\u001b[1;32m     12\u001b[0m                 )\n\u001b[1;32m     13\u001b[0m             )\n\u001b[1;32m     14\u001b[0m             ,\u001b[38;5;241m1.00\u001b[39m\n\u001b[1;32m     15\u001b[0m         ),\n\u001b[1;32m     16\u001b[0m         If(freeswap\u001b[38;5;241m>\u001b[39m\u001b[38;5;241m-\u001b[39m\u001b[38;5;241m2.02\u001b[39m,\n\u001b[1;32m     17\u001b[0m            Add(\n\u001b[1;32m     18\u001b[0m                Add(\n\u001b[1;32m     19\u001b[0m                    \u001b[38;5;241m-\u001b[39m\u001b[38;5;241m0.75\u001b[39m\u001b[38;5;241m*\u001b[39mscall,\n\u001b[1;32m     20\u001b[0m                    \u001b[38;5;241m-\u001b[39m\u001b[38;5;241m0.33\u001b[39m\u001b[38;5;241m*\u001b[39mpgin\n\u001b[1;32m     21\u001b[0m                 ),\n\u001b[1;32m     22\u001b[0m                 \u001b[38;5;241m-\u001b[39m\u001b[38;5;241m0.22\u001b[39m\u001b[38;5;241m*\u001b[39mrchar\n\u001b[1;32m     23\u001b[0m             ),\n\u001b[1;32m     24\u001b[0m             vflt\n\u001b[1;32m     25\u001b[0m         )\n\u001b[1;32m     26\u001b[0m     ),\n\u001b[1;32m     27\u001b[0m     Atan(\n\u001b[1;32m     28\u001b[0m         Add(\n\u001b[1;32m     29\u001b[0m             Add(\n\u001b[1;32m     30\u001b[0m                 \u001b[38;5;241m-\u001b[39m\u001b[38;5;241m0.05\u001b[39m\u001b[38;5;241m*\u001b[39mswrite,\n\u001b[1;32m     31\u001b[0m                 \u001b[38;5;241m-\u001b[39m\u001b[38;5;241m0.11\u001b[39m\u001b[38;5;241m*\u001b[39mpflt\n\u001b[1;32m     32\u001b[0m             ),\n\u001b[1;32m     33\u001b[0m             \u001b[38;5;241m-\u001b[39m\u001b[38;5;241m0.04\u001b[39m\u001b[38;5;241m*\u001b[39mpgout\n\u001b[1;32m     34\u001b[0m         )\n\u001b[1;32m     35\u001b[0m     )\n\u001b[1;32m     36\u001b[0m )\n",
      "\u001b[0;31mNameError\u001b[0m: name 'Add' is not defined"
     ]
    }
   ],
   "source": []
  }
 ],
 "metadata": {
  "kernelspec": {
   "display_name": "srbench",
   "language": "python",
   "name": "python3"
  },
  "language_info": {
   "codemirror_mode": {
    "name": "ipython",
    "version": 3
   },
   "file_extension": ".py",
   "mimetype": "text/x-python",
   "name": "python",
   "nbconvert_exporter": "python",
   "pygments_lexer": "ipython3",
   "version": "3.10.14"
  }
 },
 "nbformat": 4,
 "nbformat_minor": 2
}
