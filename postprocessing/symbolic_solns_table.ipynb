{
 "cells": [
  {
   "cell_type": "markdown",
   "metadata": {},
   "source": [
    "# Symbolic Solutions\n",
    "\n",
    "Generates a table showing the symbolic models forms and solution rates"
   ]
  },
  {
   "cell_type": "code",
   "execution_count": 1,
   "metadata": {},
   "outputs": [
    {
     "data": {
      "text/html": [
       "<div>\n",
       "<style scoped>\n",
       "    .dataframe tbody tr th:only-of-type {\n",
       "        vertical-align: middle;\n",
       "    }\n",
       "\n",
       "    .dataframe tbody tr th {\n",
       "        vertical-align: top;\n",
       "    }\n",
       "\n",
       "    .dataframe thead th {\n",
       "        text-align: right;\n",
       "    }\n",
       "</style>\n",
       "<table border=\"1\" class=\"dataframe\">\n",
       "  <thead>\n",
       "    <tr style=\"text-align: right;\">\n",
       "      <th></th>\n",
       "      <th>dataset</th>\n",
       "      <th>algorithm</th>\n",
       "      <th>random_state</th>\n",
       "      <th>process_time</th>\n",
       "      <th>training time (s)</th>\n",
       "      <th>target_noise</th>\n",
       "      <th>feature_noise</th>\n",
       "      <th>true_model</th>\n",
       "      <th>model_size</th>\n",
       "      <th>symbolic_model</th>\n",
       "      <th>...</th>\n",
       "      <th>symbolic_error</th>\n",
       "      <th>symbolic_fraction</th>\n",
       "      <th>symbolic_error_is_zero</th>\n",
       "      <th>symbolic_error_is_constant</th>\n",
       "      <th>symbolic_fraction_is_constant</th>\n",
       "      <th>sympy_exception</th>\n",
       "      <th>training time (hr)</th>\n",
       "      <th>r2_zero_test</th>\n",
       "      <th>data_group</th>\n",
       "      <th>symbolic_solution</th>\n",
       "    </tr>\n",
       "  </thead>\n",
       "  <tbody>\n",
       "    <tr>\n",
       "      <th>0</th>\n",
       "      <td>feynman_III_10_19</td>\n",
       "      <td>AFP</td>\n",
       "      <td>14423</td>\n",
       "      <td>3936.777982</td>\n",
       "      <td>3948.102453</td>\n",
       "      <td>0.000</td>\n",
       "      <td>0.0</td>\n",
       "      <td>mom*sqrt(Bx**2 + By**2 + Bz**2)</td>\n",
       "      <td>49</td>\n",
       "      <td>(((x_1+x_2)*(0.604*x_0))+((x_0*0.602)*x_3))</td>\n",
       "      <td>...</td>\n",
       "      <td>mom*(-0.604*Bx - 0.604*By - 0.602*Bz + sqrt(Bx...</td>\n",
       "      <td>(0.604*Bx + 0.604*By + 0.602*Bz)/sqrt(Bx**2 + ...</td>\n",
       "      <td>False</td>\n",
       "      <td>False</td>\n",
       "      <td>False</td>\n",
       "      <td>None</td>\n",
       "      <td>1.096695</td>\n",
       "      <td>0.991223</td>\n",
       "      <td>Feynman</td>\n",
       "      <td>False</td>\n",
       "    </tr>\n",
       "    <tr>\n",
       "      <th>1</th>\n",
       "      <td>feynman_III_10_19</td>\n",
       "      <td>AFP</td>\n",
       "      <td>14423</td>\n",
       "      <td>4372.954111</td>\n",
       "      <td>4378.418628</td>\n",
       "      <td>0.001</td>\n",
       "      <td>0.0</td>\n",
       "      <td>mom*sqrt(Bx**2 + By**2 + Bz**2)</td>\n",
       "      <td>60</td>\n",
       "      <td>((x_0/(1.94/x_3))+((x_1*(((log(x_2)/x_2)-((log...</td>\n",
       "      <td>...</td>\n",
       "      <td>-Bx*(0.248 + (mom - mom/(By + 0.729)**3)/By + ...</td>\n",
       "      <td>(Bx*(0.248 + (mom - mom/(By + 0.729)**3)/By + ...</td>\n",
       "      <td>False</td>\n",
       "      <td>False</td>\n",
       "      <td>False</td>\n",
       "      <td>None</td>\n",
       "      <td>1.216227</td>\n",
       "      <td>0.990782</td>\n",
       "      <td>Feynman</td>\n",
       "      <td>False</td>\n",
       "    </tr>\n",
       "    <tr>\n",
       "      <th>2</th>\n",
       "      <td>feynman_III_10_19</td>\n",
       "      <td>AFP</td>\n",
       "      <td>14423</td>\n",
       "      <td>3165.802133</td>\n",
       "      <td>3177.535154</td>\n",
       "      <td>0.010</td>\n",
       "      <td>0.0</td>\n",
       "      <td>mom*sqrt(Bx**2 + By**2 + Bz**2)</td>\n",
       "      <td>24</td>\n",
       "      <td>(x_0*(exp((x_1*0.28))+sqrt(|((x_3+((x_2+(-4.02...</td>\n",
       "      <td>...</td>\n",
       "      <td>mom*(sqrt(Bx**2 + By**2 + Bz**2) - 3.53*sqrt(0...</td>\n",
       "      <td>(3.53*sqrt(0.248*By + 0.274*Bz + 0.248*sin(By)...</td>\n",
       "      <td>False</td>\n",
       "      <td>False</td>\n",
       "      <td>False</td>\n",
       "      <td>None</td>\n",
       "      <td>0.882649</td>\n",
       "      <td>0.971934</td>\n",
       "      <td>Feynman</td>\n",
       "      <td>False</td>\n",
       "    </tr>\n",
       "    <tr>\n",
       "      <th>3</th>\n",
       "      <td>feynman_III_10_19</td>\n",
       "      <td>AFP</td>\n",
       "      <td>23654</td>\n",
       "      <td>3447.523341</td>\n",
       "      <td>3449.341744</td>\n",
       "      <td>0.001</td>\n",
       "      <td>0.0</td>\n",
       "      <td>mom*sqrt(Bx**2 + By**2 + Bz**2)</td>\n",
       "      <td>55</td>\n",
       "      <td>((x_0*sqrt(|((x_3*sqrt(|((x_1+cos(log(((((x_3/...</td>\n",
       "      <td>...</td>\n",
       "      <td>-1.93*mom*sqrt(Bz*sqrt(-Bx - cos(log(-Bx*Bz - ...</td>\n",
       "      <td>(1.93*mom*sqrt(Bz*sqrt(-Bx - cos(log(-Bx*Bz - ...</td>\n",
       "      <td>False</td>\n",
       "      <td>False</td>\n",
       "      <td>False</td>\n",
       "      <td>None</td>\n",
       "      <td>0.958150</td>\n",
       "      <td>0.988344</td>\n",
       "      <td>Feynman</td>\n",
       "      <td>False</td>\n",
       "    </tr>\n",
       "    <tr>\n",
       "      <th>4</th>\n",
       "      <td>feynman_III_10_19</td>\n",
       "      <td>DSR</td>\n",
       "      <td>15795</td>\n",
       "      <td>824.784842</td>\n",
       "      <td>856.054502</td>\n",
       "      <td>0.001</td>\n",
       "      <td>0.0</td>\n",
       "      <td>mom*sqrt(Bx**2 + By**2 + Bz**2)</td>\n",
       "      <td>12</td>\n",
       "      <td>x4 + (x1 + x2 + x3 + x4)*log(x1)</td>\n",
       "      <td>...</td>\n",
       "      <td>-Bz + mom*sqrt(Bx**2 + By**2 + Bz**2) - (Bx + ...</td>\n",
       "      <td>(Bz + (Bx + By + Bz + mom)*log(mom))/(mom*sqrt...</td>\n",
       "      <td>False</td>\n",
       "      <td>False</td>\n",
       "      <td>False</td>\n",
       "      <td>None</td>\n",
       "      <td>0.237793</td>\n",
       "      <td>0.948120</td>\n",
       "      <td>Feynman</td>\n",
       "      <td>False</td>\n",
       "    </tr>\n",
       "    <tr>\n",
       "      <th>...</th>\n",
       "      <td>...</td>\n",
       "      <td>...</td>\n",
       "      <td>...</td>\n",
       "      <td>...</td>\n",
       "      <td>...</td>\n",
       "      <td>...</td>\n",
       "      <td>...</td>\n",
       "      <td>...</td>\n",
       "      <td>...</td>\n",
       "      <td>...</td>\n",
       "      <td>...</td>\n",
       "      <td>...</td>\n",
       "      <td>...</td>\n",
       "      <td>...</td>\n",
       "      <td>...</td>\n",
       "      <td>...</td>\n",
       "      <td>...</td>\n",
       "      <td>...</td>\n",
       "      <td>...</td>\n",
       "      <td>...</td>\n",
       "      <td>...</td>\n",
       "    </tr>\n",
       "    <tr>\n",
       "      <th>43042</th>\n",
       "      <td>strogatz_vdp2</td>\n",
       "      <td>ITEA</td>\n",
       "      <td>14423</td>\n",
       "      <td>0.033981</td>\n",
       "      <td>427.956743</td>\n",
       "      <td>0.000</td>\n",
       "      <td>0.0</td>\n",
       "      <td>-x/10</td>\n",
       "      <td>10</td>\n",
       "      <td>-2.979387569990166e-16 + 2.8557885223268187e-1...</td>\n",
       "      <td>...</td>\n",
       "      <td>0</td>\n",
       "      <td>1.00</td>\n",
       "      <td>True</td>\n",
       "      <td>True</td>\n",
       "      <td>True</td>\n",
       "      <td>None</td>\n",
       "      <td>0.118877</td>\n",
       "      <td>1.000000</td>\n",
       "      <td>Strogatz</td>\n",
       "      <td>True</td>\n",
       "    </tr>\n",
       "    <tr>\n",
       "      <th>43043</th>\n",
       "      <td>strogatz_vdp2</td>\n",
       "      <td>SBP</td>\n",
       "      <td>860</td>\n",
       "      <td>18874.929026</td>\n",
       "      <td>18893.271010</td>\n",
       "      <td>0.001</td>\n",
       "      <td>0.0</td>\n",
       "      <td>-x/10</td>\n",
       "      <td>782</td>\n",
       "      <td>871640431564.907959+-0.152483*(((0.696291*(x0+...</td>\n",
       "      <td>...</td>\n",
       "      <td>None</td>\n",
       "      <td>None</td>\n",
       "      <td>False</td>\n",
       "      <td>False</td>\n",
       "      <td>False</td>\n",
       "      <td>integer division or modulo by zero</td>\n",
       "      <td>5.248131</td>\n",
       "      <td>0.999779</td>\n",
       "      <td>Strogatz</td>\n",
       "      <td>False</td>\n",
       "    </tr>\n",
       "    <tr>\n",
       "      <th>43044</th>\n",
       "      <td>strogatz_vdp2</td>\n",
       "      <td>SBP</td>\n",
       "      <td>860</td>\n",
       "      <td>23852.529831</td>\n",
       "      <td>23920.139926</td>\n",
       "      <td>0.010</td>\n",
       "      <td>0.0</td>\n",
       "      <td>-(1)/(10) * x</td>\n",
       "      <td>1000</td>\n",
       "      <td>-127.053383+-0.136279*(((((x0aq7.446000)-(-0.8...</td>\n",
       "      <td>...</td>\n",
       "      <td>None</td>\n",
       "      <td>None</td>\n",
       "      <td>False</td>\n",
       "      <td>False</td>\n",
       "      <td>False</td>\n",
       "      <td>None</td>\n",
       "      <td>6.644483</td>\n",
       "      <td>0.969929</td>\n",
       "      <td>Strogatz</td>\n",
       "      <td>False</td>\n",
       "    </tr>\n",
       "    <tr>\n",
       "      <th>43045</th>\n",
       "      <td>strogatz_vdp2</td>\n",
       "      <td>AIFeynman</td>\n",
       "      <td>15795</td>\n",
       "      <td>60.388924</td>\n",
       "      <td>26502.674970</td>\n",
       "      <td>0.010</td>\n",
       "      <td>0.0</td>\n",
       "      <td>-x/10</td>\n",
       "      <td>13</td>\n",
       "      <td>-0.096196192914*(x0-log(sin(exp(sin((pi)**(-1)...</td>\n",
       "      <td>...</td>\n",
       "      <td>0.00201 - 0.00403*x</td>\n",
       "      <td>-10*(-0.0959*x - 0.00201)/x</td>\n",
       "      <td>False</td>\n",
       "      <td>False</td>\n",
       "      <td>False</td>\n",
       "      <td>None</td>\n",
       "      <td>7.361854</td>\n",
       "      <td>0.998553</td>\n",
       "      <td>Strogatz</td>\n",
       "      <td>False</td>\n",
       "    </tr>\n",
       "    <tr>\n",
       "      <th>43046</th>\n",
       "      <td>strogatz_vdp2</td>\n",
       "      <td>AIFeynman</td>\n",
       "      <td>16850</td>\n",
       "      <td>56.520076</td>\n",
       "      <td>28876.972698</td>\n",
       "      <td>0.000</td>\n",
       "      <td>0.0</td>\n",
       "      <td>-x/10</td>\n",
       "      <td>3</td>\n",
       "      <td>-0.100000000000*x0</td>\n",
       "      <td>...</td>\n",
       "      <td>0</td>\n",
       "      <td>1.00</td>\n",
       "      <td>True</td>\n",
       "      <td>True</td>\n",
       "      <td>True</td>\n",
       "      <td>None</td>\n",
       "      <td>8.021381</td>\n",
       "      <td>1.000000</td>\n",
       "      <td>Strogatz</td>\n",
       "      <td>True</td>\n",
       "    </tr>\n",
       "  </tbody>\n",
       "</table>\n",
       "<p>43047 rows × 28 columns</p>\n",
       "</div>"
      ],
      "text/plain": [
       "                 dataset  algorithm  random_state  process_time  \\\n",
       "0      feynman_III_10_19        AFP         14423   3936.777982   \n",
       "1      feynman_III_10_19        AFP         14423   4372.954111   \n",
       "2      feynman_III_10_19        AFP         14423   3165.802133   \n",
       "3      feynman_III_10_19        AFP         23654   3447.523341   \n",
       "4      feynman_III_10_19        DSR         15795    824.784842   \n",
       "...                  ...        ...           ...           ...   \n",
       "43042      strogatz_vdp2       ITEA         14423      0.033981   \n",
       "43043      strogatz_vdp2        SBP           860  18874.929026   \n",
       "43044      strogatz_vdp2        SBP           860  23852.529831   \n",
       "43045      strogatz_vdp2  AIFeynman         15795     60.388924   \n",
       "43046      strogatz_vdp2  AIFeynman         16850     56.520076   \n",
       "\n",
       "       training time (s)  target_noise  feature_noise  \\\n",
       "0            3948.102453         0.000            0.0   \n",
       "1            4378.418628         0.001            0.0   \n",
       "2            3177.535154         0.010            0.0   \n",
       "3            3449.341744         0.001            0.0   \n",
       "4             856.054502         0.001            0.0   \n",
       "...                  ...           ...            ...   \n",
       "43042         427.956743         0.000            0.0   \n",
       "43043       18893.271010         0.001            0.0   \n",
       "43044       23920.139926         0.010            0.0   \n",
       "43045       26502.674970         0.010            0.0   \n",
       "43046       28876.972698         0.000            0.0   \n",
       "\n",
       "                            true_model  model_size  \\\n",
       "0      mom*sqrt(Bx**2 + By**2 + Bz**2)          49   \n",
       "1      mom*sqrt(Bx**2 + By**2 + Bz**2)          60   \n",
       "2      mom*sqrt(Bx**2 + By**2 + Bz**2)          24   \n",
       "3      mom*sqrt(Bx**2 + By**2 + Bz**2)          55   \n",
       "4      mom*sqrt(Bx**2 + By**2 + Bz**2)          12   \n",
       "...                                ...         ...   \n",
       "43042                            -x/10          10   \n",
       "43043                            -x/10         782   \n",
       "43044                    -(1)/(10) * x        1000   \n",
       "43045                            -x/10          13   \n",
       "43046                            -x/10           3   \n",
       "\n",
       "                                          symbolic_model  ...  \\\n",
       "0            (((x_1+x_2)*(0.604*x_0))+((x_0*0.602)*x_3))  ...   \n",
       "1      ((x_0/(1.94/x_3))+((x_1*(((log(x_2)/x_2)-((log...  ...   \n",
       "2      (x_0*(exp((x_1*0.28))+sqrt(|((x_3+((x_2+(-4.02...  ...   \n",
       "3      ((x_0*sqrt(|((x_3*sqrt(|((x_1+cos(log(((((x_3/...  ...   \n",
       "4                       x4 + (x1 + x2 + x3 + x4)*log(x1)  ...   \n",
       "...                                                  ...  ...   \n",
       "43042  -2.979387569990166e-16 + 2.8557885223268187e-1...  ...   \n",
       "43043  871640431564.907959+-0.152483*(((0.696291*(x0+...  ...   \n",
       "43044  -127.053383+-0.136279*(((((x0aq7.446000)-(-0.8...  ...   \n",
       "43045  -0.096196192914*(x0-log(sin(exp(sin((pi)**(-1)...  ...   \n",
       "43046                                 -0.100000000000*x0  ...   \n",
       "\n",
       "                                          symbolic_error  \\\n",
       "0      mom*(-0.604*Bx - 0.604*By - 0.602*Bz + sqrt(Bx...   \n",
       "1      -Bx*(0.248 + (mom - mom/(By + 0.729)**3)/By + ...   \n",
       "2      mom*(sqrt(Bx**2 + By**2 + Bz**2) - 3.53*sqrt(0...   \n",
       "3      -1.93*mom*sqrt(Bz*sqrt(-Bx - cos(log(-Bx*Bz - ...   \n",
       "4      -Bz + mom*sqrt(Bx**2 + By**2 + Bz**2) - (Bx + ...   \n",
       "...                                                  ...   \n",
       "43042                                                  0   \n",
       "43043                                               None   \n",
       "43044                                               None   \n",
       "43045                                0.00201 - 0.00403*x   \n",
       "43046                                                  0   \n",
       "\n",
       "                                       symbolic_fraction  \\\n",
       "0      (0.604*Bx + 0.604*By + 0.602*Bz)/sqrt(Bx**2 + ...   \n",
       "1      (Bx*(0.248 + (mom - mom/(By + 0.729)**3)/By + ...   \n",
       "2      (3.53*sqrt(0.248*By + 0.274*Bz + 0.248*sin(By)...   \n",
       "3      (1.93*mom*sqrt(Bz*sqrt(-Bx - cos(log(-Bx*Bz - ...   \n",
       "4      (Bz + (Bx + By + Bz + mom)*log(mom))/(mom*sqrt...   \n",
       "...                                                  ...   \n",
       "43042                                               1.00   \n",
       "43043                                               None   \n",
       "43044                                               None   \n",
       "43045                        -10*(-0.0959*x - 0.00201)/x   \n",
       "43046                                               1.00   \n",
       "\n",
       "       symbolic_error_is_zero  symbolic_error_is_constant  \\\n",
       "0                       False                       False   \n",
       "1                       False                       False   \n",
       "2                       False                       False   \n",
       "3                       False                       False   \n",
       "4                       False                       False   \n",
       "...                       ...                         ...   \n",
       "43042                    True                        True   \n",
       "43043                   False                       False   \n",
       "43044                   False                       False   \n",
       "43045                   False                       False   \n",
       "43046                    True                        True   \n",
       "\n",
       "       symbolic_fraction_is_constant                     sympy_exception  \\\n",
       "0                              False                                None   \n",
       "1                              False                                None   \n",
       "2                              False                                None   \n",
       "3                              False                                None   \n",
       "4                              False                                None   \n",
       "...                              ...                                 ...   \n",
       "43042                           True                                None   \n",
       "43043                          False  integer division or modulo by zero   \n",
       "43044                          False                                None   \n",
       "43045                          False                                None   \n",
       "43046                           True                                None   \n",
       "\n",
       "      training time (hr)  r2_zero_test data_group symbolic_solution  \n",
       "0               1.096695      0.991223    Feynman             False  \n",
       "1               1.216227      0.990782    Feynman             False  \n",
       "2               0.882649      0.971934    Feynman             False  \n",
       "3               0.958150      0.988344    Feynman             False  \n",
       "4               0.237793      0.948120    Feynman             False  \n",
       "...                  ...           ...        ...               ...  \n",
       "43042           0.118877      1.000000   Strogatz              True  \n",
       "43043           5.248131      0.999779   Strogatz             False  \n",
       "43044           6.644483      0.969929   Strogatz             False  \n",
       "43045           7.361854      0.998553   Strogatz             False  \n",
       "43046           8.021381      1.000000   Strogatz              True  \n",
       "\n",
       "[43047 rows x 28 columns]"
      ]
     },
     "execution_count": 1,
     "metadata": {},
     "output_type": "execute_result"
    }
   ],
   "source": [
    "import pandas as pd\n",
    "# import sympy \n",
    "from sympy import latex\n",
    "from sympy.parsing.sympy_parser import parse_expr\n",
    "df_results = pd.read_feather('results_sym_data_solns.feather')\n",
    "df_results"
   ]
  },
  {
   "cell_type": "code",
   "execution_count": 3,
   "metadata": {
    "scrolled": true
   },
   "outputs": [
    {
     "name": "stderr",
     "output_type": "stream",
     "text": [
      "\r",
      "  0%|          | 0/42 [00:00<?, ?it/s]"
     ]
    },
    {
     "name": "stdout",
     "output_type": "stream",
     "text": [
      "adding gm w complexity 26\n",
      "adding gm w complexity 14\n",
      "adding gm w complexity 38\n",
      "adding gm w complexity 33\n",
      "adding gm w complexity 33\n",
      "adding gm w complexity 33\n",
      "adding gm w complexity 25\n",
      "adding gm w complexity 32\n",
      "adding gm w complexity 14\n",
      "adding gm w complexity 29\n",
      "adding gm w complexity 35\n",
      "adding gm w complexity 25\n",
      "adding gm w complexity 25\n",
      "adding gm w complexity 31\n",
      "adding gm w complexity 11\n",
      "adding gm w complexity 11\n",
      "adding gm w complexity 19\n",
      "adding gm w complexity 30\n",
      "adding gm w complexity 1\n",
      "adding gm w complexity 34\n"
     ]
    },
    {
     "name": "stderr",
     "output_type": "stream",
     "text": [
      "\r",
      "  2%|▏         | 1/42 [00:06<04:36,  6.75s/it]"
     ]
    },
    {
     "name": "stdout",
     "output_type": "stream",
     "text": [
      "adding gm w complexity 20\n",
      "adding gm w complexity 20\n",
      "adding gm w complexity 33\n",
      "adding gm w complexity 39\n",
      "adding gm w complexity 38\n",
      "adding gm w complexity 1\n",
      "adding gm w complexity 5\n",
      "adding gm w complexity 34\n",
      "adding gm w complexity 14\n",
      "adding gm w complexity 22\n",
      "adding gm w complexity 37\n",
      "adding gm w complexity 32\n",
      "adding gm w complexity 32\n",
      "adding gm w complexity 33\n",
      "adding gm w complexity 29\n",
      "adding gm w complexity 39\n",
      "adding gm w complexity 35\n",
      "adding gm w complexity 11\n",
      "adding gm w complexity 11\n",
      "adding gm w complexity 11\n",
      "adding gm w complexity 25\n"
     ]
    },
    {
     "name": "stderr",
     "output_type": "stream",
     "text": [
      "\r",
      "  5%|▍         | 2/42 [00:14<04:44,  7.10s/it]"
     ]
    },
    {
     "name": "stdout",
     "output_type": "stream",
     "text": [
      "adding gm w complexity 25\n",
      "adding gm w complexity 22\n",
      "adding gm w complexity 40\n",
      "adding gm w complexity 17\n",
      "adding gm w complexity 13\n",
      "adding gm w complexity 11\n",
      "adding gm w complexity 1\n",
      "adding gm w complexity 27\n",
      "adding gm w complexity 27\n",
      "adding gm w complexity 21\n",
      "adding gm w complexity 12\n",
      "adding gm w complexity 19\n",
      "adding gm w complexity 33\n",
      "adding gm w complexity 22\n",
      "adding gm w complexity 39\n",
      "adding gm w complexity 37\n",
      "adding gm w complexity 11\n",
      "adding gm w complexity 11\n",
      "adding gm w complexity 23\n"
     ]
    },
    {
     "name": "stderr",
     "output_type": "stream",
     "text": [
      "\r",
      "  7%|▋         | 3/42 [00:27<05:44,  8.82s/it]"
     ]
    },
    {
     "name": "stdout",
     "output_type": "stream",
     "text": [
      "adding gm w complexity 38\n",
      "adding gm w complexity 30\n",
      "adding gm w complexity 33\n",
      "adding gm w complexity 1\n",
      "adding gm w complexity 21\n",
      "adding gm w complexity 21\n",
      "adding gm w complexity 6\n",
      "adding gm w complexity 27\n",
      "adding gm w complexity 11\n",
      "adding gm w complexity 40\n",
      "adding gm w complexity 28\n",
      "adding gm w complexity 14\n",
      "adding gm w complexity 14\n",
      "adding gm w complexity 13\n",
      "adding gm w complexity 20\n",
      "adding gm w complexity 25\n",
      "adding gm w complexity 33\n",
      "adding gm w complexity 1\n",
      "adding gm w complexity 25\n"
     ]
    },
    {
     "name": "stderr",
     "output_type": "stream",
     "text": [
      "\r",
      " 10%|▉         | 4/42 [00:36<05:40,  8.97s/it]"
     ]
    },
    {
     "name": "stdout",
     "output_type": "stream",
     "text": [
      "adding gm w complexity 17\n",
      "adding gm w complexity 29\n",
      "adding gm w complexity 26\n",
      "adding gm w complexity 10\n",
      "adding gm w complexity 21\n",
      "adding gm w complexity 30\n",
      "adding gm w complexity 14\n",
      "adding gm w complexity 25\n",
      "adding gm w complexity 33\n",
      "adding gm w complexity 30\n",
      "adding gm w complexity 1\n",
      "adding gm w complexity 14\n",
      "adding gm w complexity 32\n"
     ]
    },
    {
     "name": "stderr",
     "output_type": "stream",
     "text": [
      "\r",
      " 12%|█▏        | 5/42 [01:47<16:53, 27.40s/it]"
     ]
    },
    {
     "name": "stdout",
     "output_type": "stream",
     "text": [
      "adding gm w complexity 14\n",
      "adding gm w complexity 18\n",
      "adding gm w complexity 22\n",
      "adding gm w complexity 9\n",
      "adding gm w complexity 36\n",
      "adding gm w complexity 15\n",
      "adding gm w complexity 16\n",
      "adding gm w complexity 19\n",
      "adding gm w complexity 11\n",
      "adding gm w complexity 10\n",
      "adding gm w complexity 32\n",
      "adding gm w complexity 39\n",
      "adding gm w complexity 14\n",
      "adding gm w complexity 12\n",
      "adding gm w complexity 12\n",
      "adding gm w complexity 40\n"
     ]
    },
    {
     "name": "stderr",
     "output_type": "stream",
     "text": [
      "\r",
      " 14%|█▍        | 6/42 [02:01<14:00, 23.34s/it]"
     ]
    },
    {
     "name": "stdout",
     "output_type": "stream",
     "text": [
      "adding gm w complexity 22\n",
      "adding gm w complexity 12\n",
      "adding gm w complexity 16\n",
      "adding gm w complexity 33\n",
      "adding gm w complexity 31\n",
      "adding gm w complexity 15\n",
      "adding gm w complexity 12\n",
      "adding gm w complexity 15\n",
      "adding gm w complexity 35\n",
      "adding gm w complexity 33\n",
      "adding gm w complexity 17\n",
      "adding gm w complexity 29\n",
      "adding gm w complexity 12\n",
      "adding gm w complexity 9\n",
      "adding gm w complexity 9\n",
      "adding gm w complexity 9\n"
     ]
    },
    {
     "name": "stderr",
     "output_type": "stream",
     "text": [
      "\r",
      " 17%|█▋        | 7/42 [02:08<10:51, 18.63s/it]"
     ]
    },
    {
     "name": "stdout",
     "output_type": "stream",
     "text": [
      "adding gm w complexity 7\n",
      "adding gm w complexity 40\n",
      "adding gm w complexity 18\n",
      "adding gm w complexity 38\n",
      "adding gm w complexity 35\n",
      "adding gm w complexity 12\n",
      "adding gm w complexity 13\n",
      "adding gm w complexity 32\n",
      "adding gm w complexity 37\n",
      "adding gm w complexity 5\n",
      "adding gm w complexity 28\n",
      "adding gm w complexity 21\n",
      "adding gm w complexity 19\n",
      "adding gm w complexity 21\n",
      "adding gm w complexity 12\n",
      "adding gm w complexity 10\n",
      "adding gm w complexity 9\n",
      "adding gm w complexity 9\n"
     ]
    },
    {
     "name": "stderr",
     "output_type": "stream",
     "text": [
      "\r",
      " 19%|█▉        | 8/42 [02:22<09:43, 17.15s/it]"
     ]
    },
    {
     "name": "stdout",
     "output_type": "stream",
     "text": [
      "adding gm w complexity 17\n",
      "adding gm w complexity 10\n",
      "adding gm w complexity 7\n",
      "adding gm w complexity 25\n",
      "adding gm w complexity 36\n",
      "adding gm w complexity 39\n",
      "adding gm w complexity 1\n",
      "adding gm w complexity 1\n",
      "adding gm w complexity 9\n",
      "adding gm w complexity 33\n",
      "adding gm w complexity 40\n",
      "adding gm w complexity 27\n",
      "adding gm w complexity 18\n",
      "adding gm w complexity 5\n",
      "adding gm w complexity 30\n",
      "adding gm w complexity 28\n",
      "adding gm w complexity 34\n",
      "adding gm w complexity 39\n",
      "adding gm w complexity 10\n",
      "adding gm w complexity 9\n",
      "adding gm w complexity 9\n"
     ]
    },
    {
     "name": "stderr",
     "output_type": "stream",
     "text": [
      "\r",
      " 21%|██▏       | 9/42 [02:43<10:03, 18.30s/it]"
     ]
    },
    {
     "name": "stdout",
     "output_type": "stream",
     "text": [
      "adding gm w complexity 6\n",
      "adding gm w complexity 10\n",
      "adding gm w complexity 7\n",
      "adding gm w complexity 20\n",
      "adding gm w complexity 31\n",
      "adding gm w complexity 7\n",
      "adding gm w complexity 39\n",
      "adding gm w complexity 11\n",
      "adding gm w complexity 11\n",
      "adding gm w complexity 20\n",
      "adding gm w complexity 38\n",
      "adding gm w complexity 13\n",
      "adding gm w complexity 25\n",
      "adding gm w complexity 25\n",
      "adding gm w complexity 25\n",
      "adding gm w complexity 25\n",
      "adding gm w complexity 33\n",
      "adding gm w complexity 13\n",
      "adding gm w complexity 13\n",
      "adding gm w complexity 26\n"
     ]
    },
    {
     "name": "stderr",
     "output_type": "stream",
     "text": [
      "\r",
      " 24%|██▍       | 10/42 [02:50<07:57, 14.92s/it]"
     ]
    },
    {
     "name": "stdout",
     "output_type": "stream",
     "text": [
      "adding gm w complexity 12\n",
      "adding gm w complexity 7\n",
      "adding gm w complexity 26\n",
      "adding gm w complexity 23\n",
      "adding gm w complexity 23\n",
      "adding gm w complexity 38\n",
      "adding gm w complexity 16\n",
      "adding gm w complexity 14\n",
      "adding gm w complexity 25\n",
      "adding gm w complexity 39\n",
      "adding gm w complexity 33\n",
      "adding gm w complexity 25\n",
      "adding gm w complexity 33\n",
      "adding gm w complexity 25\n",
      "adding gm w complexity 11\n",
      "adding gm w complexity 29\n",
      "adding gm w complexity 13\n",
      "adding gm w complexity 13\n"
     ]
    },
    {
     "name": "stderr",
     "output_type": "stream",
     "text": [
      "\r",
      " 26%|██▌       | 11/42 [03:00<06:59, 13.53s/it]"
     ]
    },
    {
     "name": "stdout",
     "output_type": "stream",
     "text": [
      "adding gm w complexity 1\n",
      "adding gm w complexity 7\n",
      "adding gm w complexity 12\n",
      "adding gm w complexity 11\n",
      "adding gm w complexity 18\n",
      "adding gm w complexity 7\n",
      "adding gm w complexity 26\n",
      "adding gm w complexity 7\n",
      "adding gm w complexity 12\n",
      "adding gm w complexity 11\n",
      "adding gm w complexity 11\n",
      "adding gm w complexity 29\n",
      "adding gm w complexity 25\n",
      "adding gm w complexity 28\n",
      "adding gm w complexity 25\n",
      "adding gm w complexity 25\n",
      "adding gm w complexity 29\n",
      "adding gm w complexity 27\n",
      "adding gm w complexity 19\n",
      "adding gm w complexity 34\n",
      "adding gm w complexity 30\n",
      "adding gm w complexity 34\n",
      "adding gm w complexity 13\n",
      "adding gm w complexity 13\n",
      "adding gm w complexity 13\n"
     ]
    },
    {
     "name": "stderr",
     "output_type": "stream",
     "text": [
      "\r",
      " 29%|██▊       | 12/42 [03:24<08:20, 16.70s/it]"
     ]
    },
    {
     "name": "stdout",
     "output_type": "stream",
     "text": [
      "adding gm w complexity 7\n",
      "adding gm w complexity 17\n",
      "adding gm w complexity 12\n",
      "adding gm w complexity 10\n",
      "adding gm w complexity 12\n",
      "adding gm w complexity 15\n",
      "adding gm w complexity 21\n",
      "adding gm w complexity 10\n",
      "adding gm w complexity 26\n",
      "adding gm w complexity 20\n",
      "adding gm w complexity 18\n",
      "adding gm w complexity 10\n",
      "adding gm w complexity 10\n",
      "adding gm w complexity 39\n",
      "adding gm w complexity 14\n",
      "adding gm w complexity 14\n",
      "adding gm w complexity 14\n",
      "adding gm w complexity 14\n"
     ]
    },
    {
     "name": "stderr",
     "output_type": "stream",
     "text": [
      "\r",
      " 31%|███       | 13/42 [03:40<07:52, 16.31s/it]"
     ]
    },
    {
     "name": "stdout",
     "output_type": "stream",
     "text": [
      "adding gm w complexity 12\n",
      "adding gm w complexity 10\n",
      "adding gm w complexity 12\n",
      "adding gm w complexity 12\n",
      "adding gm w complexity 23\n",
      "adding gm w complexity 16\n",
      "adding gm w complexity 22\n",
      "adding gm w complexity 15\n",
      "adding gm w complexity 27\n",
      "adding gm w complexity 20\n",
      "adding gm w complexity 36\n",
      "adding gm w complexity 26\n",
      "adding gm w complexity 30\n",
      "adding gm w complexity 40\n",
      "adding gm w complexity 36\n",
      "adding gm w complexity 25\n",
      "adding gm w complexity 10\n",
      "adding gm w complexity 10\n",
      "adding gm w complexity 8\n"
     ]
    },
    {
     "name": "stderr",
     "output_type": "stream",
     "text": [
      "\r",
      " 33%|███▎      | 14/42 [04:03<08:31, 18.26s/it]"
     ]
    },
    {
     "name": "stdout",
     "output_type": "stream",
     "text": [
      "adding gm w complexity 30\n",
      "adding gm w complexity 21\n",
      "adding gm w complexity 10\n",
      "adding gm w complexity 12\n",
      "adding gm w complexity 32\n",
      "adding gm w complexity 15\n",
      "adding gm w complexity 24\n",
      "adding gm w complexity 13\n",
      "adding gm w complexity 20\n",
      "adding gm w complexity 18\n",
      "adding gm w complexity 35\n",
      "adding gm w complexity 29\n",
      "adding gm w complexity 1\n",
      "adding gm w complexity 10\n",
      "adding gm w complexity 9\n"
     ]
    },
    {
     "name": "stderr",
     "output_type": "stream",
     "text": [
      "\r",
      " 36%|███▌      | 15/42 [04:21<08:17, 18.42s/it]"
     ]
    },
    {
     "name": "stdout",
     "output_type": "stream",
     "text": [
      "adding gm w complexity 25\n",
      "adding gm w complexity 26\n",
      "adding gm w complexity 9\n",
      "adding gm w complexity 10\n",
      "adding gm w complexity 10\n",
      "adding gm w complexity 33\n",
      "adding gm w complexity 8\n",
      "adding gm w complexity 10\n",
      "adding gm w complexity 9\n",
      "adding gm w complexity 15\n"
     ]
    },
    {
     "name": "stderr",
     "output_type": "stream",
     "text": [
      "\r",
      " 38%|███▊      | 16/42 [04:38<07:41, 17.75s/it]"
     ]
    },
    {
     "name": "stdout",
     "output_type": "stream",
     "text": [
      "adding gm w complexity 31\n",
      "adding gm w complexity 36\n",
      "adding gm w complexity 15\n",
      "adding gm w complexity 8\n",
      "adding gm w complexity 21\n",
      "adding gm w complexity 10\n",
      "adding gm w complexity 9\n",
      "adding gm w complexity 38\n"
     ]
    },
    {
     "name": "stderr",
     "output_type": "stream",
     "text": [
      "\r",
      " 40%|████      | 17/42 [04:56<07:31, 18.06s/it]"
     ]
    },
    {
     "name": "stdout",
     "output_type": "stream",
     "text": [
      "adding gm w complexity 10\n",
      "adding gm w complexity 12\n",
      "adding gm w complexity 13\n",
      "adding gm w complexity 21\n",
      "adding gm w complexity 31\n",
      "adding gm w complexity 16\n",
      "adding gm w complexity 10\n",
      "adding gm w complexity 10\n"
     ]
    },
    {
     "name": "stderr",
     "output_type": "stream",
     "text": [
      "\r",
      " 43%|████▎     | 18/42 [05:12<06:57, 17.39s/it]"
     ]
    },
    {
     "name": "stdout",
     "output_type": "stream",
     "text": [
      "adding gm w complexity 25\n",
      "adding gm w complexity 20\n",
      "adding gm w complexity 10\n",
      "adding gm w complexity 25\n",
      "adding gm w complexity 37\n",
      "adding gm w complexity 10\n",
      "adding gm w complexity 10\n",
      "adding gm w complexity 28\n",
      "adding gm w complexity 18\n",
      "adding gm w complexity 26\n",
      "adding gm w complexity 19\n",
      "adding gm w complexity 19\n",
      "adding gm w complexity 30\n",
      "adding gm w complexity 28\n",
      "adding gm w complexity 22\n",
      "adding gm w complexity 17\n",
      "adding gm w complexity 16\n",
      "adding gm w complexity 10\n",
      "adding gm w complexity 12\n"
     ]
    },
    {
     "name": "stderr",
     "output_type": "stream",
     "text": [
      "\r",
      " 45%|████▌     | 19/42 [05:18<05:21, 13.96s/it]"
     ]
    },
    {
     "name": "stdout",
     "output_type": "stream",
     "text": [
      "adding gm w complexity 22\n",
      "adding gm w complexity 11\n",
      "adding gm w complexity 12\n",
      "adding gm w complexity 17\n",
      "adding gm w complexity 11\n",
      "adding gm w complexity 5\n",
      "adding gm w complexity 12\n",
      "adding gm w complexity 11\n",
      "adding gm w complexity 26\n",
      "adding gm w complexity 33\n",
      "adding gm w complexity 36\n",
      "adding gm w complexity 36\n",
      "adding gm w complexity 38\n",
      "adding gm w complexity 17\n",
      "adding gm w complexity 27\n",
      "adding gm w complexity 17\n",
      "adding gm w complexity 16\n",
      "adding gm w complexity 40\n",
      "adding gm w complexity 1\n",
      "adding gm w complexity 10\n",
      "adding gm w complexity 12\n",
      "adding gm w complexity 1\n",
      "adding gm w complexity 23\n"
     ]
    },
    {
     "name": "stderr",
     "output_type": "stream",
     "text": [
      "\r",
      " 48%|████▊     | 20/42 [05:29<04:49, 13.16s/it]"
     ]
    },
    {
     "name": "stdout",
     "output_type": "stream",
     "text": [
      "adding gm w complexity 12\n",
      "adding gm w complexity 17\n",
      "adding gm w complexity 17\n",
      "adding gm w complexity 18\n",
      "adding gm w complexity 35\n",
      "adding gm w complexity 39\n",
      "adding gm w complexity 15\n",
      "adding gm w complexity 14\n",
      "adding gm w complexity 10\n",
      "adding gm w complexity 20\n",
      "adding gm w complexity 19\n",
      "adding gm w complexity 28\n",
      "adding gm w complexity 31\n",
      "adding gm w complexity 36\n",
      "adding gm w complexity 13\n",
      "adding gm w complexity 24\n",
      "adding gm w complexity 40\n",
      "adding gm w complexity 40\n",
      "adding gm w complexity 32\n",
      "adding gm w complexity 40\n",
      "adding gm w complexity 35\n",
      "adding gm w complexity 12\n",
      "adding gm w complexity 12\n",
      "adding gm w complexity 23\n"
     ]
    },
    {
     "name": "stderr",
     "output_type": "stream",
     "text": [
      "\r",
      " 50%|█████     | 21/42 [05:39<04:11, 11.98s/it]"
     ]
    },
    {
     "name": "stdout",
     "output_type": "stream",
     "text": [
      "adding gm w complexity 17\n",
      "adding gm w complexity 24\n",
      "adding gm w complexity 37\n",
      "adding gm w complexity 30\n",
      "adding gm w complexity 26\n",
      "adding gm w complexity 17\n",
      "adding gm w complexity 16\n",
      "adding gm w complexity 17\n",
      "adding gm w complexity 17\n",
      "adding gm w complexity 19\n",
      "adding gm w complexity 17\n",
      "adding gm w complexity 10\n",
      "adding gm w complexity 8\n",
      "adding gm w complexity 12\n",
      "adding gm w complexity 13\n",
      "adding gm w complexity 29\n",
      "adding gm w complexity 14\n"
     ]
    },
    {
     "name": "stderr",
     "output_type": "stream",
     "text": [
      "\r",
      " 52%|█████▏    | 22/42 [05:43<03:15,  9.79s/it]"
     ]
    },
    {
     "name": "stdout",
     "output_type": "stream",
     "text": [
      "adding gm w complexity 16\n",
      "adding gm w complexity 14\n",
      "adding gm w complexity 11\n",
      "adding gm w complexity 15\n",
      "adding gm w complexity 38\n",
      "adding gm w complexity 12\n",
      "adding gm w complexity 34\n",
      "adding gm w complexity 17\n",
      "adding gm w complexity 32\n",
      "adding gm w complexity 36\n",
      "adding gm w complexity 17\n",
      "adding gm w complexity 17\n",
      "adding gm w complexity 18\n",
      "adding gm w complexity 36\n",
      "adding gm w complexity 23\n",
      "adding gm w complexity 10\n",
      "adding gm w complexity 12\n",
      "adding gm w complexity 13\n",
      "adding gm w complexity 31\n"
     ]
    },
    {
     "name": "stderr",
     "output_type": "stream",
     "text": [
      "\r",
      " 55%|█████▍    | 23/42 [06:00<03:45, 11.87s/it]"
     ]
    },
    {
     "name": "stdout",
     "output_type": "stream",
     "text": [
      "adding gm w complexity 14\n",
      "adding gm w complexity 19\n",
      "adding gm w complexity 18\n",
      "adding gm w complexity 25\n",
      "adding gm w complexity 1\n",
      "adding gm w complexity 39\n",
      "adding gm w complexity 18\n",
      "adding gm w complexity 38\n",
      "adding gm w complexity 38\n",
      "adding gm w complexity 38\n",
      "adding gm w complexity 17\n",
      "adding gm w complexity 18\n",
      "adding gm w complexity 22\n",
      "adding gm w complexity 27\n",
      "adding gm w complexity 26\n",
      "adding gm w complexity 38\n",
      "adding gm w complexity 28\n",
      "adding gm w complexity 8\n",
      "adding gm w complexity 12\n",
      "adding gm w complexity 10\n"
     ]
    },
    {
     "name": "stderr",
     "output_type": "stream",
     "text": [
      "\r",
      " 57%|█████▋    | 24/42 [06:07<03:05, 10.29s/it]"
     ]
    },
    {
     "name": "stdout",
     "output_type": "stream",
     "text": [
      "adding gm w complexity 34\n",
      "adding gm w complexity 30\n",
      "adding gm w complexity 37\n",
      "adding gm w complexity 10\n",
      "adding gm w complexity 10\n",
      "adding gm w complexity 3\n",
      "adding gm w complexity 22\n",
      "adding gm w complexity 17\n",
      "adding gm w complexity 9\n",
      "adding gm w complexity 11\n",
      "adding gm w complexity 12\n",
      "adding gm w complexity 39\n",
      "adding gm w complexity 34\n",
      "adding gm w complexity 34\n",
      "adding gm w complexity 38\n",
      "adding gm w complexity 10\n",
      "adding gm w complexity 12\n",
      "adding gm w complexity 10\n",
      "adding gm w complexity 10\n",
      "adding gm w complexity 38\n",
      "adding gm w complexity 21\n",
      "adding gm w complexity 27\n"
     ]
    },
    {
     "name": "stderr",
     "output_type": "stream",
     "text": [
      "\r",
      " 60%|█████▉    | 25/42 [06:17<02:56, 10.36s/it]"
     ]
    },
    {
     "name": "stdout",
     "output_type": "stream",
     "text": [
      "adding gm w complexity 23\n",
      "adding gm w complexity 37\n",
      "adding gm w complexity 38\n",
      "adding gm w complexity 27\n",
      "adding gm w complexity 13\n",
      "adding gm w complexity 31\n",
      "adding gm w complexity 15\n",
      "adding gm w complexity 9\n",
      "adding gm w complexity 14\n",
      "adding gm w complexity 15\n",
      "adding gm w complexity 34\n",
      "adding gm w complexity 24\n",
      "adding gm w complexity 1\n",
      "adding gm w complexity 1\n",
      "adding gm w complexity 12\n",
      "adding gm w complexity 10\n",
      "adding gm w complexity 10\n",
      "adding gm w complexity 1\n"
     ]
    },
    {
     "name": "stderr",
     "output_type": "stream",
     "text": [
      "\r",
      " 62%|██████▏   | 26/42 [06:27<02:42, 10.19s/it]"
     ]
    },
    {
     "name": "stdout",
     "output_type": "stream",
     "text": [
      "adding gm w complexity 23\n",
      "adding gm w complexity 32\n",
      "adding gm w complexity 36\n",
      "adding gm w complexity 9\n",
      "adding gm w complexity 10\n",
      "adding gm w complexity 32\n",
      "adding gm w complexity 9\n",
      "adding gm w complexity 22\n",
      "adding gm w complexity 18\n",
      "adding gm w complexity 35\n",
      "adding gm w complexity 28\n",
      "adding gm w complexity 39\n",
      "adding gm w complexity 40\n",
      "adding gm w complexity 10\n",
      "adding gm w complexity 10\n",
      "adding gm w complexity 10\n",
      "adding gm w complexity 1\n"
     ]
    },
    {
     "name": "stderr",
     "output_type": "stream",
     "text": [
      "\r",
      " 64%|██████▍   | 27/42 [06:46<03:14, 12.99s/it]"
     ]
    },
    {
     "name": "stdout",
     "output_type": "stream",
     "text": [
      "adding gm w complexity 32\n",
      "adding gm w complexity 30\n",
      "adding gm w complexity 26\n",
      "adding gm w complexity 35\n",
      "adding gm w complexity 30\n",
      "adding gm w complexity 38\n",
      "adding gm w complexity 40\n",
      "adding gm w complexity 11\n",
      "adding gm w complexity 38\n",
      "adding gm w complexity 12\n",
      "adding gm w complexity 12\n",
      "adding gm w complexity 34\n"
     ]
    },
    {
     "name": "stderr",
     "output_type": "stream",
     "text": [
      "\r",
      " 67%|██████▋   | 28/42 [07:00<03:02, 13.07s/it]"
     ]
    },
    {
     "name": "stdout",
     "output_type": "stream",
     "text": [
      "adding gm w complexity 23\n",
      "adding gm w complexity 17\n",
      "adding gm w complexity 17\n",
      "adding gm w complexity 11\n",
      "adding gm w complexity 12\n",
      "adding gm w complexity 12\n",
      "adding gm w complexity 39\n"
     ]
    },
    {
     "name": "stderr",
     "output_type": "stream",
     "text": [
      "\r",
      " 69%|██████▉   | 29/42 [07:13<02:51, 13.18s/it]"
     ]
    },
    {
     "name": "stdout",
     "output_type": "stream",
     "text": [
      "adding gm w complexity 31\n",
      "adding gm w complexity 32\n",
      "adding gm w complexity 22\n",
      "adding gm w complexity 15\n",
      "adding gm w complexity 9\n",
      "adding gm w complexity 11\n",
      "adding gm w complexity 20\n",
      "adding gm w complexity 38\n",
      "adding gm w complexity 34\n",
      "adding gm w complexity 12\n",
      "adding gm w complexity 12\n",
      "adding gm w complexity 12\n"
     ]
    },
    {
     "name": "stderr",
     "output_type": "stream",
     "text": [
      "\r",
      " 71%|███████▏  | 30/42 [07:30<02:50, 14.20s/it]"
     ]
    },
    {
     "name": "stdout",
     "output_type": "stream",
     "text": [
      "adding gm w complexity 1\n",
      "adding gm w complexity 32\n",
      "adding gm w complexity 39\n",
      "adding gm w complexity 37\n",
      "adding gm w complexity 36\n",
      "adding gm w complexity 23\n",
      "adding gm w complexity 15\n"
     ]
    },
    {
     "name": "stderr",
     "output_type": "stream",
     "text": [
      "\r",
      " 74%|███████▍  | 31/42 [07:47<02:47, 15.26s/it]"
     ]
    },
    {
     "name": "stdout",
     "output_type": "stream",
     "text": [
      "adding gm w complexity 18\n",
      "adding gm w complexity 27\n",
      "adding gm w complexity 17\n",
      "adding gm w complexity 29\n",
      "adding gm w complexity 13\n",
      "adding gm w complexity 27\n",
      "adding gm w complexity 39\n",
      "adding gm w complexity 40\n",
      "adding gm w complexity 14\n",
      "adding gm w complexity 15\n",
      "adding gm w complexity 24\n"
     ]
    },
    {
     "name": "stderr",
     "output_type": "stream",
     "text": [
      "\r",
      " 76%|███████▌  | 32/42 [08:06<02:41, 16.20s/it]"
     ]
    },
    {
     "name": "stdout",
     "output_type": "stream",
     "text": [
      "adding gm w complexity 23\n",
      "adding gm w complexity 29\n",
      "adding gm w complexity 34\n",
      "adding gm w complexity 39\n",
      "adding gm w complexity 23\n",
      "adding gm w complexity 35\n",
      "adding gm w complexity 9\n",
      "adding gm w complexity 13\n",
      "adding gm w complexity 15\n",
      "adding gm w complexity 18\n",
      "adding gm w complexity 40\n",
      "adding gm w complexity 18\n",
      "adding gm w complexity 40\n",
      "adding gm w complexity 32\n",
      "adding gm w complexity 15\n",
      "adding gm w complexity 17\n",
      "adding gm w complexity 20\n",
      "adding gm w complexity 19\n"
     ]
    },
    {
     "name": "stderr",
     "output_type": "stream",
     "text": [
      "\r",
      " 79%|███████▊  | 33/42 [08:24<02:32, 16.93s/it]"
     ]
    },
    {
     "name": "stdout",
     "output_type": "stream",
     "text": [
      "adding gm w complexity 11\n",
      "adding gm w complexity 14\n",
      "adding gm w complexity 11\n",
      "adding gm w complexity 17\n",
      "adding gm w complexity 12\n",
      "adding gm w complexity 28\n",
      "adding gm w complexity 8\n",
      "adding gm w complexity 7\n",
      "adding gm w complexity 22\n",
      "adding gm w complexity 24\n",
      "adding gm w complexity 11\n",
      "adding gm w complexity 38\n"
     ]
    },
    {
     "name": "stderr",
     "output_type": "stream",
     "text": [
      "\r",
      " 81%|████████  | 34/42 [08:36<02:02, 15.35s/it]"
     ]
    },
    {
     "name": "stdout",
     "output_type": "stream",
     "text": [
      "adding gm w complexity 14\n",
      "adding gm w complexity 10\n",
      "adding gm w complexity 9\n",
      "adding gm w complexity 9\n",
      "adding gm w complexity 13\n",
      "adding gm w complexity 26\n",
      "adding gm w complexity 10\n",
      "adding gm w complexity 10\n",
      "adding gm w complexity 16\n",
      "adding gm w complexity 13\n",
      "adding gm w complexity 13\n",
      "adding gm w complexity 7\n",
      "adding gm w complexity 17\n",
      "adding gm w complexity 10\n",
      "adding gm w complexity 17\n",
      "adding gm w complexity 30\n",
      "adding gm w complexity 14\n",
      "adding gm w complexity 11\n",
      "adding gm w complexity 34\n"
     ]
    },
    {
     "name": "stderr",
     "output_type": "stream",
     "text": [
      "\r",
      " 83%|████████▎ | 35/42 [08:54<01:53, 16.24s/it]"
     ]
    },
    {
     "name": "stdout",
     "output_type": "stream",
     "text": [
      "adding gm w complexity 10\n",
      "adding gm w complexity 9\n",
      "adding gm w complexity 9\n",
      "adding gm w complexity 10\n",
      "adding gm w complexity 10\n",
      "adding gm w complexity 27\n",
      "adding gm w complexity 13\n",
      "adding gm w complexity 8\n",
      "adding gm w complexity 15\n",
      "adding gm w complexity 8\n",
      "adding gm w complexity 29\n",
      "adding gm w complexity 19\n",
      "adding gm w complexity 16\n",
      "adding gm w complexity 38\n",
      "adding gm w complexity 27\n",
      "adding gm w complexity 29\n",
      "adding gm w complexity 11\n",
      "adding gm w complexity 11\n",
      "adding gm w complexity 11\n"
     ]
    },
    {
     "name": "stderr",
     "output_type": "stream",
     "text": [
      "\r",
      " 86%|████████▌ | 36/42 [09:16<01:46, 17.70s/it]"
     ]
    },
    {
     "name": "stdout",
     "output_type": "stream",
     "text": [
      "adding gm w complexity 9\n",
      "adding gm w complexity 9\n",
      "adding gm w complexity 12\n",
      "adding gm w complexity 15\n",
      "adding gm w complexity 36\n",
      "adding gm w complexity 26\n",
      "adding gm w complexity 11\n",
      "adding gm w complexity 11\n",
      "adding gm w complexity 18\n",
      "adding gm w complexity 35\n",
      "adding gm w complexity 16\n",
      "adding gm w complexity 13\n",
      "adding gm w complexity 11\n",
      "adding gm w complexity 20\n",
      "adding gm w complexity 18\n",
      "adding gm w complexity 19\n",
      "adding gm w complexity 40\n",
      "adding gm w complexity 18\n",
      "adding gm w complexity 35\n",
      "adding gm w complexity 31\n",
      "adding gm w complexity 12\n",
      "adding gm w complexity 12\n",
      "adding gm w complexity 12\n",
      "adding gm w complexity 12\n",
      "adding gm w complexity 17\n",
      "adding gm w complexity 21\n"
     ]
    },
    {
     "name": "stderr",
     "output_type": "stream",
     "text": [
      "\r",
      " 88%|████████▊ | 37/42 [09:19<01:07, 13.43s/it]"
     ]
    },
    {
     "name": "stdout",
     "output_type": "stream",
     "text": [
      "adding gm w complexity 22\n",
      "adding gm w complexity 15\n",
      "adding gm w complexity 20\n",
      "adding gm w complexity 12\n",
      "adding gm w complexity 12\n",
      "adding gm w complexity 11\n",
      "adding gm w complexity 24\n",
      "adding gm w complexity 11\n",
      "adding gm w complexity 24\n",
      "adding gm w complexity 16\n",
      "adding gm w complexity 18\n",
      "adding gm w complexity 18\n",
      "adding gm w complexity 32\n",
      "adding gm w complexity 29\n",
      "adding gm w complexity 12\n",
      "adding gm w complexity 12\n",
      "adding gm w complexity 12\n",
      "adding gm w complexity 12\n"
     ]
    },
    {
     "name": "stderr",
     "output_type": "stream",
     "text": [
      "\r",
      " 90%|█████████ | 38/42 [09:27<00:46, 11.66s/it]"
     ]
    },
    {
     "name": "stdout",
     "output_type": "stream",
     "text": [
      "adding gm w complexity 35\n",
      "adding gm w complexity 27\n",
      "adding gm w complexity 21\n",
      "adding gm w complexity 37\n",
      "adding gm w complexity 9\n",
      "adding gm w complexity 16\n",
      "adding gm w complexity 11\n",
      "adding gm w complexity 21\n",
      "adding gm w complexity 17\n",
      "adding gm w complexity 25\n",
      "adding gm w complexity 26\n",
      "adding gm w complexity 32\n",
      "adding gm w complexity 16\n",
      "adding gm w complexity 19\n",
      "adding gm w complexity 18\n",
      "adding gm w complexity 19\n",
      "adding gm w complexity 25\n",
      "adding gm w complexity 12\n",
      "adding gm w complexity 12\n",
      "adding gm w complexity 12\n",
      "adding gm w complexity 12\n"
     ]
    },
    {
     "name": "stderr",
     "output_type": "stream",
     "text": [
      "\r",
      " 93%|█████████▎| 39/42 [09:44<00:39, 13.24s/it]"
     ]
    },
    {
     "name": "stdout",
     "output_type": "stream",
     "text": [
      "adding gm w complexity 32\n",
      "adding gm w complexity 18\n",
      "adding gm w complexity 13\n",
      "adding gm w complexity 5\n",
      "adding gm w complexity 31\n"
     ]
    },
    {
     "name": "stderr",
     "output_type": "stream",
     "text": [
      "\r",
      " 95%|█████████▌| 40/42 [09:44<00:19,  9.56s/it]"
     ]
    },
    {
     "name": "stdout",
     "output_type": "stream",
     "text": [
      "adding gm w complexity 30\n",
      "adding gm w complexity 34\n",
      "adding gm w complexity 24\n",
      "adding gm w complexity 5\n",
      "adding gm w complexity 31\n"
     ]
    },
    {
     "name": "stderr",
     "output_type": "stream",
     "text": [
      "\r",
      " 98%|█████████▊| 41/42 [09:47<00:07,  7.46s/it]"
     ]
    },
    {
     "name": "stdout",
     "output_type": "stream",
     "text": [
      "adding gm w complexity 23\n",
      "adding gm w complexity 9\n",
      "adding gm w complexity 22\n",
      "adding gm w complexity 28\n",
      "adding gm w complexity 10\n",
      "adding gm w complexity 12\n",
      "adding gm w complexity 5\n",
      "adding gm w complexity 27\n",
      "adding gm w complexity 8\n",
      "adding gm w complexity 6\n",
      "adding gm w complexity 18\n",
      "adding gm w complexity 5\n",
      "adding gm w complexity 5\n",
      "adding gm w complexity 36\n",
      "adding gm w complexity 33\n"
     ]
    },
    {
     "name": "stderr",
     "output_type": "stream",
     "text": [
      "100%|██████████| 42/42 [10:08<00:00, 14.48s/it]\n"
     ]
    }
   ],
   "source": [
    "import pdb\n",
    "from symbolic_utils import round_floats, complexity\n",
    "from tqdm import tqdm\n",
    "\n",
    "df_solns = df_results.loc[df_results.dataset.str.contains('strogatz')]\n",
    "for (dataset,noise), dfg in tqdm(df_solns.groupby(['dataset','target_noise'])):\n",
    "    tbl = []\n",
    "#     print(80*'=')\n",
    "    tbl.append('\\\\begin{tabularx}{\\\\textwidth}{l Z}') \n",
    "#     tbl.append('\\t&\\t'.join(['Name','Ground Truth'])) \n",
    "#     tbl.append('\\\\midrule') \n",
    "#     print(dataset,noise)\n",
    "#     print(dfg['true_model'].dropna())\n",
    "    tm = dfg['true_model'].unique()[0]\n",
    "    model = round_floats(parse_expr(tm, evaluate=False))\n",
    "    prefix = '\\dot{x} = ' if '1' in dataset else '\\dot{y} = '\n",
    "    tbl.append('\\t&\\t'.join([dataset, '$'+prefix+latex(model)+'$']))\n",
    "#     print('True Model:',latex(model))\n",
    "    dfg_solns = dfg.loc[dfg.symbolic_solution==True]\n",
    "    tbl.append('\\\\midrule') \n",
    "    tbl.append('Method&\\tEstimated Model')\n",
    "    soln_algs = []\n",
    "    if len(dfg_solns)>0:\n",
    "#         print('Solutions',60*'=')\n",
    "#         tbl.append('\\\\multicolumn{2}{c}{Solutions}')\n",
    "        for alg, dfga in dfg_solns.groupby('algorithm'):\n",
    "            sm = dfga['simplified_symbolic_model'].values[0] \n",
    "            model = round_floats(parse_expr(sm, evaluate=False))\n",
    "#             if str(model) == '0':\n",
    "#                 pdb.set_trace()\n",
    "#             print('  ',alg,'model:',model)\n",
    "            mstr = '$'+prefix+latex(model)+'$'\n",
    "            tbl.append('\\t&\\t'.join(['\\\\textbf{'+alg+'}', mstr]))\n",
    "            soln_algs.append(alg)\n",
    "        tbl.append('\\\\midrule') \n",
    "        \n",
    "    df_notsolns = dfg.loc[dfg.symbolic_solution==False]\n",
    "    df_notsolns = df_notsolns.loc[~df_notsolns.algorithm.isin(soln_algs)]\n",
    "#     print('Non-solutions',56*'=')\n",
    "#         tbl.append('Method ($R^2$)\\t&\\tNon-solutions')\n",
    "    for alg, dfga in df_notsolns.groupby('algorithm'):\n",
    "        guesses = dfga['simplified_symbolic_model'].values\n",
    "        accs = dfga['r2_test'].values\n",
    "        if len(guesses) == 0:\n",
    "            continue\n",
    "#             print(guesses) \n",
    "#             acc = dfga['r2_test'].values[0]\n",
    "        guess_model = None\n",
    "        best_acc = None\n",
    "        for i,(g,acc) in enumerate(zip(guesses,accs)):\n",
    "            if g:\n",
    "                gm = round_floats(parse_expr(g, evaluate=False))\n",
    "                if complexity(gm)>40 or 'NaN' in latex(gm):\n",
    "                    continue\n",
    "                else:\n",
    "                    if best_acc==None or acc > best_acc:\n",
    "                        print('adding gm w complexity',complexity(gm))\n",
    "                        guess_model = latex(gm)\n",
    "                        best_acc = acc\n",
    "\n",
    "\n",
    "        if guess_model:\n",
    "#             print('\\t',guess_model[:80], '...' if len(guess_model)>80 else '')\n",
    "            if str(guess_model)=='0': \n",
    "                continue\n",
    "#                 guess_model = guess_model[:80]+ '\\\\dots' \n",
    "#                 for ob,cb in [('\\\\left(','\\\\right)'),('{','}'),('(',')')]:\n",
    "#                     open_b = guess_model.count(ob)\n",
    "#                     close_b = guess_model.count(cb)\n",
    "#                     while open_b > close_b:\n",
    "#                         guess_model += cb\n",
    "#                         close_b += 1\n",
    "#             tbl.append('\\t&\\t'.join([alg+' ({:1.2f})'.format(acc), '$'+guess_model+'$']))\n",
    "            mstr = '$'+prefix+guess_model+'$'\n",
    "            tbl.append('\\t&\\t'.join([alg, mstr]))\n",
    "\n",
    "    #         for g in guess:\n",
    "    #             print('\\t',g[:80],'...' if len(g)>80 else '')\n",
    "    #             print('\\t',g)\n",
    "    tbl.append('\\\\bottomrule') \n",
    "    tbl.append('\\\\end{tabularx}')\n",
    "    tbl = [t+'\\t\\\\\\\\' if all([s not in t for s in ['tabular','rule','hline']]) else t for t in tbl ]\n",
    "#     tbl = ['\\\\begin{table}\\n\\\\tiny\\n\\\\centering\\n']+tbl+['\\\\end{table}\\n']\n",
    "    filename = '../../paper/tables/results_sym_data/'+'_'.join([dataset,str(noise)])+'_sym_models.tex'\n",
    "    with open(filename, 'w') as f:\n",
    "        f.write('\\n'.join(tbl).replace('_','\\\\_'))\n"
   ]
  },
  {
   "cell_type": "code",
   "execution_count": null,
   "metadata": {
    "scrolled": false
   },
   "outputs": [],
   "source": [
    "df_solns = df_results.loc[df_results.dataset.str.contains('strogatz_bacres1')]\n",
    "df_solns = df_solns.loc[df_solns.algorithm=='ITEA']\n",
    "df_solns = df_solns.loc[df_solns.target_noise==0.0]\n",
    "for (tm, sm), dfg in df_solns.groupby(['true_model','simplified_symbolic_model']):\n",
    "    print(tm)\n",
    "    print('\\t',sm)"
   ]
  },
  {
   "cell_type": "markdown",
   "metadata": {},
   "source": [
    "# strogatz"
   ]
  },
  {
   "cell_type": "code",
   "execution_count": null,
   "metadata": {},
   "outputs": [],
   "source": [
    "df_strogatz = df_results.loc[df_results.dataset.str.contains('strogatz')]\n",
    "tbl = ['\\\\begin{tabularx}{\\\\textwidth}{lr} \\\\\\\\'\n",
    "       'Dataset \n",
    "      ]\n",
    "for dataset, dfg in df_strogatz.groupby('dataset'):\n",
    "    tbl.append(\n",
    "        ''\n",
    "    )\n",
    "    "
   ]
  },
  {
   "cell_type": "code",
   "execution_count": null,
   "metadata": {},
   "outputs": [],
   "source": [
    "df_sum = pd.read_csv('symbolic_dataset_results_sum.csv.gz') \n",
    "df_strogatz_sum = df_sum.loc[df_sum.dataset.str.contains('strogatz'),:] \n",
    "df_feynman_sum = df_sum.loc[df_sum.dataset.str.contains('feynman'),:] \n",
    "strogatz_solns = df_strogatz_sum.set_index(['dataset','target_noise','algorithm'])['symbolic_solution_rate_(%)'].unstack().round(0)\n",
    "feynman_solns = df_feynman_sum.set_index(['dataset','target_noise','algorithm'])['symbolic_solution_rate_(%)'].unstack().round(0)\n",
    "strogatz_solns.to_latex('../../paper/tables/strogatz_soln_pct.tex')"
   ]
  },
  {
   "cell_type": "code",
   "execution_count": null,
   "metadata": {},
   "outputs": [],
   "source": [
    "df_sum.loc[df_sum.dataset.str.contains('strogatz'),:]"
   ]
  }
 ],
 "metadata": {
  "kernelspec": {
   "display_name": "Python 3",
   "language": "python",
   "name": "python3"
  },
  "language_info": {
   "codemirror_mode": {
    "name": "ipython",
    "version": 3
   },
   "file_extension": ".py",
   "mimetype": "text/x-python",
   "name": "python",
   "nbconvert_exporter": "python",
   "pygments_lexer": "ipython3",
   "version": "3.8.5"
  }
 },
 "nbformat": 4,
 "nbformat_minor": 4
}
