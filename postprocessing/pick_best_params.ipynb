{
 "cells": [
  {
   "cell_type": "markdown",
   "metadata": {},
   "source": [
    "# saved tuned models\n",
    "\n",
    "Go thru PMLB results and pick the most common params in the best estimators. \n",
    "Use these parameter settings for the Feynman and Strogatz models."
   ]
  },
  {
   "cell_type": "code",
   "execution_count": 7,
   "metadata": {},
   "outputs": [],
   "source": [
    "import pandas as pd\n",
    "import json\n",
    "import numpy as np\n",
    "from glob import glob\n",
    "from tqdm import tqdm\n",
    "import os\n",
    "\n",
    "rdir = '../results_pmlb_r1/'\n",
    "\n",
    "symbolic_algs = [\n",
    "    'AFPRegressor',\n",
    "    'AIFeynman',\n",
    "    'BSRRegressor',\n",
    "    'DSRRegressor',\n",
    "    'FFXRegressor',\n",
    "    'FEATRegressor',\n",
    "    'FE_AFPRegressor',\n",
    "    'EPLEXRegressor',\n",
    "    'GPGOMEA',\n",
    "    'gplearn',\n",
    "    'ITEARegressor',\n",
    "    'MRGPRegressor',\n",
    "    'OperonRegressor',\n",
    "    'sembackpropgp'\n",
    "]"
   ]
  },
  {
   "cell_type": "code",
   "execution_count": 8,
   "metadata": {
    "scrolled": false
   },
   "outputs": [
    {
     "name": "stderr",
     "output_type": "stream",
     "text": [
      "100%|██████████| 56654/56654 [00:10<00:00, 5537.54it/s]\n"
     ]
    },
    {
     "name": "stdout",
     "output_type": "stream",
     "text": [
      "fails: 385 out of  34856\n"
     ]
    }
   ],
   "source": [
    "frames = []\n",
    "comparison_cols = [\n",
    "    'algorithm',\n",
    "    'dataset',\n",
    "    'params'\n",
    "]\n",
    "fails = []\n",
    "import pdb\n",
    "for f in tqdm(glob(rdir + '/*/*.json')):\n",
    "    if 'cv_results' in f: \n",
    "        continue\n",
    "    try: \n",
    "        r = json.load(open(f,'r'))\n",
    "            \n",
    "        sub_r = {k:v for k,v in r.items() if k in comparison_cols}\n",
    "        frames.append(sub_r) \n",
    "    except Exception as e:\n",
    "        fails.append([f,e])\n",
    "        pass\n",
    "    \n",
    "print('fails:',len(fails),'out of ',len(frames)+len(fails))\n",
    "# df_results = pd.concat(frames)\n",
    "df_results = pd.DataFrame.from_records(frames)\n",
    "\n",
    "# keep only symbolic regressors\n",
    "df_results = df_results.loc[df_results.algorithm.isin(symbolic_algs)]\n",
    "# turn params in to string\n",
    "df_results['params_str'] = df_results['params'].apply(str)\n",
    "\n",
    "# save so we don't have to load again\n",
    "# df_results[['algorithm','params_str']].to_feather(rdir.replace('.','').replace('/','')+'_params.feather')"
   ]
  },
  {
   "cell_type": "markdown",
   "metadata": {},
   "source": [
    "## find the mode of each algorithm's params"
   ]
  },
  {
   "cell_type": "code",
   "execution_count": 9,
   "metadata": {
    "scrolled": true
   },
   "outputs": [
    {
     "data": {
      "text/plain": [
       "[['AFPRegressor',\n",
       "  \"{'AR': False, 'AR_lookahead': False, 'AR_na': 1, 'AR_nb': 1, 'AR_nka': 1, 'AR_nkb': 0, 'ERC': True, 'ERCints': False, 'EstimateFitness': False, 'FE_ind_size': 0, 'FE_pop_size': 0, 'FE_rank': False, 'FE_train_gens': 0, 'FE_train_size': 0, 'G_sel': 1, 'G_shuffle': False, 'PS_sel': 1, 'SGD': False, 'align_dev': False, 'class_bool': False, 'class_m4gp': False, 'class_prune': False, 'classification': False, 'complex_measure': 1, 'cross': 3, 'cross_ar': 0.025, 'eHC_init': 0.5, 'eHC_its': 1, 'eHC_mut': False, 'eHC_on': False, 'eHC_prob': 0.1, 'eHC_slim': False, 'elitism': True, 'estimate_generality': False, 'fit_type': 'MSE', 'g': 250, 'init_trees': True, 'init_validate_on': False, 'island_gens': 100, 'islands': False, 'learning_rate': 1.0, 'lex_class': False, 'lex_eps_dynamic': False, 'lex_eps_dynamic_madcap': False, 'lex_eps_dynamic_rand': False, 'lex_eps_error': False, 'lex_eps_error_mad': False, 'lex_eps_global': False, 'lex_eps_std': False, 'lex_eps_target': False, 'lex_eps_target_mad': False, 'lex_epsilon': 0.1, 'lexage': False, 'lexpool': 1, 'limit_evals': False, 'lineHC_its': 0, 'lineHC_on': False, 'maxERC': 1, 'max_evals': 0, 'max_fit': 1e+20, 'max_len': 64, 'max_len_init': 20, 'minERC': -1, 'min_fit': 1e-20, 'min_len': 3, 'mut_ar': 0.025, 'mutate': 1, 'norm_error': False, 'nt': 1, 'numERC': 1, 'num_islands': 10, 'num_log_pts': 0, 'pHC_gauss': 0, 'pHC_its': 1, 'pHC_on': True, 'pop_restart': False, 'pop_restart_path': '', 'popsize': 1000, 'print_archive': False, 'print_best_ind': False, 'print_data': False, 'print_db': False, 'print_epigenome': False, 'print_every_pop': False, 'print_genome': False, 'print_homology': False, 'print_init_pop': False, 'print_last_pop': False, 'print_log': False, 'print_novelty': False, 'print_protected_operators': False, 'prto_arch_on': True, 'prto_arch_size': 1, 'prto_sel_on': False, 'random_state': 6265, 'resultspath': './', 'return_pop': False, 'rt_cross': 0.6, 'rt_mut': 0.4, 'rt_rep': 0, 'savename': '', 'selection': 'afp', 'shuffle_data': False, 'stop_condition': True, 'stop_threshold': 1e-06, 'test_at_end': False, 'tourn_size': 2, 'train': False, 'train_pct': 0.5, 'verbosity': 1, 'weight_error': False}\"],\n",
       " ['AIFeynman',\n",
       "  \"{'BF_ops_file_type': '14ops.txt', 'BF_try_time': 600, 'NN_epochs': 400, 'max_time': 7200, 'polyfit_deg': 4, 'random_state': 6265, 'test_percentage': 20}\"],\n",
       " ['BSRRegressor',\n",
       "  \"{'alpha1': 0.4, 'alpha2': 0.4, 'beta': -1, 'disp': False, 'itrNum': 500, 'max_time': 7200, 'treeNum': 6, 'val': 1000}\"],\n",
       " ['DSRRegressor', '{}'],\n",
       " ['EPLEXRegressor',\n",
       "  \"{'AR': False, 'AR_lookahead': False, 'AR_na': 1, 'AR_nb': 1, 'AR_nka': 1, 'AR_nkb': 0, 'ERC': True, 'ERCints': False, 'EstimateFitness': False, 'FE_ind_size': 0, 'FE_pop_size': 0, 'FE_rank': False, 'FE_train_gens': 0, 'FE_train_size': 0, 'G_sel': 1, 'G_shuffle': False, 'PS_sel': 1, 'SGD': False, 'align_dev': False, 'class_bool': False, 'class_m4gp': False, 'class_prune': False, 'classification': False, 'complex_measure': 1, 'cross': 3, 'cross_ar': 0.025, 'eHC_init': 0.5, 'eHC_its': 1, 'eHC_mut': False, 'eHC_on': False, 'eHC_prob': 0.1, 'eHC_slim': False, 'elitism': True, 'estimate_generality': False, 'fit_type': 'MSE', 'g': 250, 'init_trees': True, 'init_validate_on': False, 'island_gens': 100, 'islands': False, 'learning_rate': 1.0, 'lex_class': False, 'lex_eps_dynamic': False, 'lex_eps_dynamic_madcap': False, 'lex_eps_dynamic_rand': False, 'lex_eps_error': False, 'lex_eps_error_mad': False, 'lex_eps_global': False, 'lex_eps_std': False, 'lex_eps_target': False, 'lex_eps_target_mad': False, 'lex_epsilon': 0.1, 'lexage': False, 'lexpool': 1, 'limit_evals': False, 'lineHC_its': 0, 'lineHC_on': False, 'maxERC': 1, 'max_evals': 0, 'max_fit': 1e+20, 'max_len': 64, 'max_len_init': 20, 'minERC': -1, 'min_fit': 1e-20, 'min_len': 3, 'mut_ar': 0.025, 'mutate': 1, 'norm_error': False, 'nt': 1, 'numERC': 1, 'num_islands': 10, 'num_log_pts': 0, 'pHC_gauss': 0, 'pHC_its': 1, 'pHC_on': True, 'pop_restart': False, 'pop_restart_path': '', 'popsize': 1000, 'print_archive': False, 'print_best_ind': False, 'print_data': False, 'print_db': False, 'print_epigenome': False, 'print_every_pop': False, 'print_genome': False, 'print_homology': False, 'print_init_pop': False, 'print_last_pop': False, 'print_log': False, 'print_novelty': False, 'print_protected_operators': False, 'prto_arch_on': True, 'prto_arch_size': 1, 'prto_sel_on': False, 'random_state': 11964, 'resultspath': './', 'return_pop': False, 'rt_cross': 0.6, 'rt_mut': 0.4, 'rt_rep': 0, 'savename': '', 'selection': 'epsilon_lexicase', 'shuffle_data': False, 'stop_condition': True, 'stop_threshold': 1e-06, 'test_at_end': False, 'tourn_size': 2, 'train': False, 'train_pct': 0.5, 'verbosity': 0, 'weight_error': False}\"],\n",
       " ['FEATRegressor',\n",
       "  \"{'pop_size': 1000, 'gens': 250, 'ml': 'LinearRidgeRegression', 'classification': False, 'verbosity': 0, 'max_stall': 100, 'sel': 'lexicase', 'surv': 'nsga2', 'cross_rate': 0.75, 'root_xo_rate': 0.5, 'otype': 'a', 'functions': '', 'max_depth': 6, 'max_dim': 10, 'random_state': 11284, 'erc': False, 'obj': 'fitness,complexity', 'shuffle': True, 'split': 0.75, 'fb': 0.5, 'scorer': '', 'feature_names': '', 'backprop': True, 'iters': 1, 'lr': 0.1, 'batch_size': 100, 'n_jobs': 1, 'hillclimb': False, 'logfile': '', 'max_time': 7200, 'residual_xo': False, 'stagewise_xo': False, 'stagewise_xo_tol': False, 'softmax_norm': False, 'save_pop': 0, 'normalize': True, 'val_from_arch': True, 'corr_delete_mutate': True, 'simplify': 0.005, 'protected_groups': '', 'tune_initial': False, 'tune_final': True, 'starting_pop': ''}\"],\n",
       " ['FE_AFPRegressor',\n",
       "  \"{'AR': False, 'AR_lookahead': False, 'AR_na': 1, 'AR_nb': 1, 'AR_nka': 1, 'AR_nkb': 0, 'ERC': True, 'ERCints': False, 'EstimateFitness': True, 'FE_ind_size': 10, 'FE_pop_size': 100, 'FE_rank': True, 'FE_train_gens': 10, 'FE_train_size': 10, 'G_sel': 1, 'G_shuffle': False, 'PS_sel': 1, 'SGD': False, 'align_dev': False, 'class_bool': False, 'class_m4gp': False, 'class_prune': False, 'classification': False, 'complex_measure': 1, 'cross': 3, 'cross_ar': 0.025, 'eHC_init': 0.5, 'eHC_its': 1, 'eHC_mut': False, 'eHC_on': False, 'eHC_prob': 0.1, 'eHC_slim': False, 'elitism': True, 'estimate_generality': False, 'fit_type': 'MSE', 'g': 250, 'init_trees': True, 'init_validate_on': False, 'island_gens': 100, 'islands': False, 'learning_rate': 1.0, 'lex_class': False, 'lex_eps_dynamic': False, 'lex_eps_dynamic_madcap': False, 'lex_eps_dynamic_rand': False, 'lex_eps_error': False, 'lex_eps_error_mad': False, 'lex_eps_global': False, 'lex_eps_std': False, 'lex_eps_target': False, 'lex_eps_target_mad': False, 'lex_epsilon': 0.1, 'lexage': False, 'lexpool': 1, 'limit_evals': False, 'lineHC_its': 0, 'lineHC_on': False, 'maxERC': 1, 'max_evals': 0, 'max_fit': 1e+20, 'max_len': 64, 'max_len_init': 20, 'minERC': -1, 'min_fit': 1e-20, 'min_len': 3, 'mut_ar': 0.025, 'mutate': 1, 'norm_error': False, 'nt': 1, 'numERC': 1, 'num_islands': 10, 'num_log_pts': 0, 'pHC_gauss': 0, 'pHC_its': 1, 'pHC_on': True, 'pop_restart': False, 'pop_restart_path': '', 'popsize': 1000, 'print_archive': False, 'print_best_ind': False, 'print_data': False, 'print_db': False, 'print_epigenome': False, 'print_every_pop': False, 'print_genome': False, 'print_homology': False, 'print_init_pop': False, 'print_last_pop': False, 'print_log': False, 'print_novelty': False, 'print_protected_operators': False, 'prto_arch_on': True, 'prto_arch_size': 1, 'prto_sel_on': False, 'random_state': 5390, 'resultspath': './', 'return_pop': False, 'rt_cross': 0.6, 'rt_mut': 0.4, 'rt_rep': 0, 'savename': '', 'selection': 'afp', 'shuffle_data': False, 'stop_condition': True, 'stop_threshold': 1e-06, 'test_at_end': False, 'tourn_size': 2, 'train': False, 'train_pct': 0.5, 'verbosity': 0, 'weight_error': False}\"],\n",
       " ['FFXRegressor', '{}'],\n",
       " ['ITEARegressor',\n",
       "  \"{'ngens': 500, 'nonzeroexps': 1, 'npop': 1000, 'transfunctions': '[Id, Tanh, Sin, Cos, Log, Exp, SqrtAbs]'}\"],\n",
       " ['MRGPRegressor',\n",
       "  \"{'g': 2500, 'max_len': 6, 'popsize': 100, 'rt_cross': 0.2, 'rt_mut': 0.8, 'time_out': 7200}\"],\n",
       " ['OperonRegressor',\n",
       "  \"{'allowed_symbols': 'add,mul,aq,constant,variable', 'brood_size': 10, 'btc_bias': 0.0, 'comparison_factor': 0, 'crossover_internal_probability': 0.9, 'crossover_probability': 1.0, 'error_metric': 'r2', 'female_selector': 'tournament', 'generations': 10000, 'initialization_method': 'btc', 'local_iterations': 5, 'male_selector': 'tournament', 'max_depth': 10, 'max_evaluations': 500000, 'max_length': 50, 'max_selection_pressure': 100, 'mutation_probability': 0.25, 'n_threads': 1, 'offspring_generator': 'basic', 'pool_size': 500, 'population_size': 500, 'random_state': 5390, 'reinserter': 'keep-best', 'time_limit': 7200, 'tournament_size': 5}\"],\n",
       " ['gplearn',\n",
       "  \"{'generations': 500, 'init_method': 'half and half', 'low_memory': False, 'max_samples': 1.0, 'metric': 'mean absolute error', 'n_jobs': 1, 'p_crossover': 0.9, 'p_hoist_mutation': 0.01, 'p_point_mutation': 0.01, 'p_point_replace': 0.05, 'p_subtree_mutation': 0.01, 'parsimony_coefficient': 0.001, 'population_size': 1000, 'random_state': 21575, 'stopping_criteria': 0.0, 'tournament_size': 20, 'verbose': 0, 'warm_start': False}\"],\n",
       " ['sembackpropgp',\n",
       "  \"{'caching': False, 'classweights': False, 'elitism': 1, 'erc': True, 'evaluations': 500000, 'functions': '+_-_*_aq_plog_sin_cos', 'generations': -1, 'gomea': False, 'gomfos': 'LT', 'ims': False, 'initmaxtreeheight': 6, 'linearscaling': True, 'maxsize': 1000, 'maxtreeheight': 20, 'parallel': False, 'popsize': 1000, 'prob': 'symbreg', 'reproduction': 0.0, 'sbagx': False, 'sblibtype': 'p_10_9999_l_n', 'sbrdo': 0.9, 'seed': -1, 'silent': True, 'subcross': 0.0, 'submut': 0.1, 'syntuniqinit': 1000, 'time': 7200, 'tournament': 8, 'unifdepthvar': True}\"]]"
      ]
     },
     "execution_count": 9,
     "metadata": {},
     "output_type": "execute_result"
    }
   ],
   "source": [
    "# df_results.params.apply(str)\n",
    "best_params = []\n",
    "for alg, dfg in df_results.groupby('algorithm'):\n",
    "    counts = dfg['params_str'].value_counts()\n",
    "#     print(counts)\n",
    "    best_params.append([alg, counts.index[0]])\n",
    "\n",
    "best_params                    "
   ]
  },
  {
   "cell_type": "code",
   "execution_count": 10,
   "metadata": {},
   "outputs": [
    {
     "data": {
      "text/html": [
       "<div>\n",
       "<style scoped>\n",
       "    .dataframe tbody tr th:only-of-type {\n",
       "        vertical-align: middle;\n",
       "    }\n",
       "\n",
       "    .dataframe tbody tr th {\n",
       "        vertical-align: top;\n",
       "    }\n",
       "\n",
       "    .dataframe thead th {\n",
       "        text-align: right;\n",
       "    }\n",
       "</style>\n",
       "<table border=\"1\" class=\"dataframe\">\n",
       "  <thead>\n",
       "    <tr style=\"text-align: right;\">\n",
       "      <th></th>\n",
       "      <th>dataset</th>\n",
       "      <th>algorithm</th>\n",
       "      <th>params</th>\n",
       "      <th>params_str</th>\n",
       "    </tr>\n",
       "  </thead>\n",
       "  <tbody>\n",
       "    <tr>\n",
       "      <th>14</th>\n",
       "      <td>1027_ESL</td>\n",
       "      <td>DSRRegressor</td>\n",
       "      <td>{}</td>\n",
       "      <td>{}</td>\n",
       "    </tr>\n",
       "    <tr>\n",
       "      <th>95</th>\n",
       "      <td>1027_ESL</td>\n",
       "      <td>DSRRegressor</td>\n",
       "      <td>{}</td>\n",
       "      <td>{}</td>\n",
       "    </tr>\n",
       "    <tr>\n",
       "      <th>96</th>\n",
       "      <td>1027_ESL</td>\n",
       "      <td>DSRRegressor</td>\n",
       "      <td>{}</td>\n",
       "      <td>{}</td>\n",
       "    </tr>\n",
       "    <tr>\n",
       "      <th>97</th>\n",
       "      <td>1027_ESL</td>\n",
       "      <td>DSRRegressor</td>\n",
       "      <td>{}</td>\n",
       "      <td>{}</td>\n",
       "    </tr>\n",
       "    <tr>\n",
       "      <th>98</th>\n",
       "      <td>1027_ESL</td>\n",
       "      <td>DSRRegressor</td>\n",
       "      <td>{}</td>\n",
       "      <td>{}</td>\n",
       "    </tr>\n",
       "    <tr>\n",
       "      <th>...</th>\n",
       "      <td>...</td>\n",
       "      <td>...</td>\n",
       "      <td>...</td>\n",
       "      <td>...</td>\n",
       "    </tr>\n",
       "    <tr>\n",
       "      <th>34349</th>\n",
       "      <td>titanic</td>\n",
       "      <td>DSRRegressor</td>\n",
       "      <td>{}</td>\n",
       "      <td>{}</td>\n",
       "    </tr>\n",
       "    <tr>\n",
       "      <th>34350</th>\n",
       "      <td>titanic</td>\n",
       "      <td>DSRRegressor</td>\n",
       "      <td>{}</td>\n",
       "      <td>{}</td>\n",
       "    </tr>\n",
       "    <tr>\n",
       "      <th>34434</th>\n",
       "      <td>titanic</td>\n",
       "      <td>DSRRegressor</td>\n",
       "      <td>{}</td>\n",
       "      <td>{}</td>\n",
       "    </tr>\n",
       "    <tr>\n",
       "      <th>34435</th>\n",
       "      <td>titanic</td>\n",
       "      <td>DSRRegressor</td>\n",
       "      <td>{}</td>\n",
       "      <td>{}</td>\n",
       "    </tr>\n",
       "    <tr>\n",
       "      <th>34436</th>\n",
       "      <td>titanic</td>\n",
       "      <td>DSRRegressor</td>\n",
       "      <td>{}</td>\n",
       "      <td>{}</td>\n",
       "    </tr>\n",
       "  </tbody>\n",
       "</table>\n",
       "<p>1172 rows × 4 columns</p>\n",
       "</div>"
      ],
      "text/plain": [
       "        dataset     algorithm params params_str\n",
       "14     1027_ESL  DSRRegressor     {}         {}\n",
       "95     1027_ESL  DSRRegressor     {}         {}\n",
       "96     1027_ESL  DSRRegressor     {}         {}\n",
       "97     1027_ESL  DSRRegressor     {}         {}\n",
       "98     1027_ESL  DSRRegressor     {}         {}\n",
       "...         ...           ...    ...        ...\n",
       "34349   titanic  DSRRegressor     {}         {}\n",
       "34350   titanic  DSRRegressor     {}         {}\n",
       "34434   titanic  DSRRegressor     {}         {}\n",
       "34435   titanic  DSRRegressor     {}         {}\n",
       "34436   titanic  DSRRegressor     {}         {}\n",
       "\n",
       "[1172 rows x 4 columns]"
      ]
     },
     "execution_count": 10,
     "metadata": {},
     "output_type": "execute_result"
    }
   ],
   "source": [
    "df_results.loc[df_results.algorithm=='DSRRegressor']"
   ]
  },
  {
   "cell_type": "code",
   "execution_count": 11,
   "metadata": {},
   "outputs": [],
   "source": [
    "# write tuned model scripts for each algorithm"
   ]
  },
  {
   "cell_type": "code",
   "execution_count": 24,
   "metadata": {},
   "outputs": [],
   "source": [
    "import os\n",
    "for alg, bp in best_params:\n",
    "#     os.system('cp ../experiment/methods/{ALG}.py ../experiment/methods/tuned/{ALG}.py'.format(ALG=alg))\n",
    "    with open('../experiment/methods/tuned/params/_'+alg.lower()+'.py','w') as f:\n",
    "        f.write('params = {}'.format(bp))\n",
    "        "
   ]
  }
 ],
 "metadata": {
  "kernelspec": {
   "display_name": "Python 3",
   "language": "python",
   "name": "python3"
  },
  "language_info": {
   "codemirror_mode": {
    "name": "ipython",
    "version": 3
   },
   "file_extension": ".py",
   "mimetype": "text/x-python",
   "name": "python",
   "nbconvert_exporter": "python",
   "pygments_lexer": "ipython3",
   "version": "3.8.5"
  }
 },
 "nbformat": 4,
 "nbformat_minor": 4
}
