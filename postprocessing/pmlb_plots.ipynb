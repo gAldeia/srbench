{
 "cells": [
  {
   "cell_type": "code",
   "execution_count": null,
   "metadata": {},
   "outputs": [],
   "source": [
    "import pandas as pd\n",
    "from glob import glob\n",
    "import seaborn as sns\n",
    "import matplotlib\n",
    "%matplotlib inline\n",
    "matplotlib.rc('pdf', fonttype=42)\n",
    "\n",
    "datadir = '../../../pmlb/datasets/'\n",
    "frames = []\n",
    "for f in glob(datadir+'/*/*.tsv.gz'):\n",
    "    df = pd.read_csv(f,sep='\\t') \n",
    "    group = 'feynman' if 'feynman' in f else 'strogatz' if 'strogatz' in f else 'black-box'\n",
    "    frames.append(dict(\n",
    "        name=f.split('/')[-1][:-7],\n",
    "        nsamples = df.shape[0],\n",
    "        nfeatures = df.shape[1],\n",
    "        npoints = df.shape[0]*df.shape[1],\n",
    "        Group=group\n",
    "    ))\n",
    "    \n",
    "df = pd.DataFrame.from_records(frames)\n",
    "df"
   ]
  },
  {
   "cell_type": "code",
   "execution_count": null,
   "metadata": {},
   "outputs": [],
   "source": [
    "import matplotlib.pyplot as plt\n",
    "import seaborn as sns\n",
    "sns.set_style('whitegrid')\n",
    "sns.despine(left=True, bottom=True)\n",
    "## PMLB dataset sizes\n",
    "g = sns.scatterplot(\n",
    "    data=df,\n",
    "    x='nsamples',\n",
    "    y='nfeatures',\n",
    "    hue='Group',\n",
    "    alpha=0.7,\n",
    "    s=100, \n",
    ")\n",
    "ax = plt.gca()\n",
    "plt.legend(loc='upper left')\n",
    "ax.set_xscale('log')\n",
    "ax.set_yscale('log')\n",
    "plt.xlabel('No. of Samples')\n",
    "plt.ylabel('No. of Features')\n",
    "plt.savefig('figs/pmlb_size.png',dpi=400, bbox_inches='tight')"
   ]
  }
 ],
 "metadata": {
  "kernelspec": {
   "display_name": "Python 3",
   "language": "python",
   "name": "python3"
  },
  "language_info": {
   "codemirror_mode": {
    "name": "ipython",
    "version": 3
   },
   "file_extension": ".py",
   "mimetype": "text/x-python",
   "name": "python",
   "nbconvert_exporter": "python",
   "pygments_lexer": "ipython3",
   "version": "3.8.5"
  }
 },
 "nbformat": 4,
 "nbformat_minor": 4
}
